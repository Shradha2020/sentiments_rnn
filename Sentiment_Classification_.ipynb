{
  "nbformat": 4,
  "nbformat_minor": 0,
  "metadata": {
    "colab": {
      "name": "CMPE257_Sentiment_Classification_014629381.ipynb",
      "provenance": [],
      "collapsed_sections": [
        "XEDRxzaoY9cR",
        "UeTkIBLJTn-Z",
        "zV1j0rypTAOv",
        "y3Kd_pPNOAr7",
        "aCgOiTZlGujV",
        "P9hnj5qQIjxv",
        "Gg4O2860ZaIQ",
        "t7VKMsPCZaIS",
        "wDHp7ThyZaIW",
        "d-aqeg3fZaIY",
        "AULpb-54ZaIa",
        "c49lLVPCZaIf",
        "qi3Wa1_hZaIi",
        "Vy_KHHPZZaIm",
        "w-VoNcZVbWuz",
        "ys1xdpL11KhW",
        "vG7IuaA7M9qW",
        "MNPtnFIHeTg6",
        "hXXTeRHg2jTz",
        "30clL51rsxws",
        "2cq8A91TPnXZ",
        "s1VXC30-PsC-",
        "Na-IyMvUPydd",
        "ZLN8h7qqQStF",
        "Xcp7dRMbLT_C",
        "dTO_2LZIQI1m",
        "_A8022y7QNhE",
        "GhG4vdD2QRa4"
      ],
      "toc_visible": true,
      "machine_shape": "hm"
    },
    "kernelspec": {
      "display_name": "Python 3",
      "name": "python3"
    },
    "accelerator": "GPU"
  },
  "cells": [
    {
      "cell_type": "code",
      "metadata": {
        "colab": {
          "base_uri": "https://localhost:8080/"
        },
        "id": "SwWZoINjeSQH",
        "outputId": "a487cceb-25c6-4d89-de0b-256c667b1b76"
      },
      "source": [
        "from google.colab import drive\n",
        "drive.mount('/content/gdrive')"
      ],
      "execution_count": null,
      "outputs": [
        {
          "output_type": "stream",
          "text": [
            "Mounted at /content/gdrive\n"
          ],
          "name": "stdout"
        }
      ]
    },
    {
      "cell_type": "markdown",
      "metadata": {
        "id": "XEDRxzaoY9cR"
      },
      "source": [
        "# Data Source"
      ]
    },
    {
      "cell_type": "code",
      "metadata": {
        "id": "sJl1SBcX4_Ud"
      },
      "source": [
        "!unzip ./IMDB_Dataset.zip"
      ],
      "execution_count": null,
      "outputs": []
    },
    {
      "cell_type": "code",
      "metadata": {
        "id": "sDJjYTqWAvXx"
      },
      "source": [
        "#Importing Libraries Used \n",
        "import numpy as np #\n",
        "import pandas as pd # \n",
        "from sklearn import feature_extraction, linear_model, model_selection, preprocessing\n",
        "from tensorflow.keras.callbacks import EarlyStopping\n",
        "import matplotlib.pyplot as plt\n",
        "import seaborn as sns\n",
        "import re\n",
        "import string\n",
        "import tensorflow as tf\n",
        "from keras.preprocessing.text import Tokenizer\n",
        "from keras.preprocessing.sequence import pad_sequences\n",
        "from keras.callbacks import EarlyStopping\n",
        "from tqdm import tqdm\n",
        "from keras.models import Sequential\n",
        "from keras.layers import Embedding,LSTM,Dense,SpatialDropout1D\n",
        "from keras.initializers import Constant\n",
        "from sklearn.model_selection import train_test_split\n",
        "from keras.optimizers import Adam\n",
        "import numpy as np\n",
        "import pandas as pd\n",
        "import tensorflow as tf\n",
        "from tensorflow.keras.layers import Dense, Input\n",
        "from tensorflow.keras.optimizers import Adam\n",
        "from tensorflow.keras.models import Model\n",
        "from tensorflow.keras.callbacks import ModelCheckpoint\n",
        "import tensorflow_hub as hub\n",
        "from nltk import PorterStemmer\n",
        "from nltk.corpus import stopwords\n",
        "from nltk.stem import WordNetLemmatizer\n",
        "from nltk.tokenize import word_tokenize\n",
        "from sklearn.feature_extraction.text import CountVectorizer\n",
        "from sklearn.model_selection import train_test_split\n",
        "from sklearn.model_selection import GridSearchCV\n",
        "from sklearn.metrics import precision_recall_fscore_support \n",
        "from sklearn.model_selection import KFold\n",
        "from sklearn.metrics import roc_auc_score\n",
        "from sklearn.metrics import classification_report\n",
        "from pandas import DataFrame\n",
        "from sklearn.metrics import roc_curve, auc\n",
        "from sklearn.metrics import accuracy_score, confusion_matrix, precision_recall_fscore_support"
      ],
      "execution_count": null,
      "outputs": []
    },
    {
      "cell_type": "code",
      "metadata": {
        "id": "DWspjnNPnjUw"
      },
      "source": [
        "df = pd.read_csv(\"/content/gdrive/My Drive/Colab Notebooks/Kaggle/IMDB Dataset.csv\")"
      ],
      "execution_count": null,
      "outputs": []
    },
    {
      "cell_type": "code",
      "metadata": {
        "colab": {
          "base_uri": "https://localhost:8080/"
        },
        "id": "szIH4rthDXYm",
        "outputId": "01fa188b-9a4a-4f4c-ce2b-6fce2fbfa63c"
      },
      "source": [
        "len(df)"
      ],
      "execution_count": null,
      "outputs": [
        {
          "output_type": "execute_result",
          "data": {
            "text/plain": [
              "50000"
            ]
          },
          "metadata": {
            "tags": []
          },
          "execution_count": 4
        }
      ]
    },
    {
      "cell_type": "code",
      "metadata": {
        "colab": {
          "base_uri": "https://localhost:8080/",
          "height": 343
        },
        "id": "_5ohaitz8vFN",
        "outputId": "b9c6fe31-c7d4-46d0-cbfd-93ab2ba4b10d"
      },
      "source": [
        "df[:10]"
      ],
      "execution_count": null,
      "outputs": [
        {
          "output_type": "execute_result",
          "data": {
            "text/html": [
              "<div>\n",
              "<style scoped>\n",
              "    .dataframe tbody tr th:only-of-type {\n",
              "        vertical-align: middle;\n",
              "    }\n",
              "\n",
              "    .dataframe tbody tr th {\n",
              "        vertical-align: top;\n",
              "    }\n",
              "\n",
              "    .dataframe thead th {\n",
              "        text-align: right;\n",
              "    }\n",
              "</style>\n",
              "<table border=\"1\" class=\"dataframe\">\n",
              "  <thead>\n",
              "    <tr style=\"text-align: right;\">\n",
              "      <th></th>\n",
              "      <th>review</th>\n",
              "      <th>sentiment</th>\n",
              "    </tr>\n",
              "  </thead>\n",
              "  <tbody>\n",
              "    <tr>\n",
              "      <th>0</th>\n",
              "      <td>One of the other reviewers has mentioned that ...</td>\n",
              "      <td>positive</td>\n",
              "    </tr>\n",
              "    <tr>\n",
              "      <th>1</th>\n",
              "      <td>A wonderful little production. &lt;br /&gt;&lt;br /&gt;The...</td>\n",
              "      <td>positive</td>\n",
              "    </tr>\n",
              "    <tr>\n",
              "      <th>2</th>\n",
              "      <td>I thought this was a wonderful way to spend ti...</td>\n",
              "      <td>positive</td>\n",
              "    </tr>\n",
              "    <tr>\n",
              "      <th>3</th>\n",
              "      <td>Basically there's a family where a little boy ...</td>\n",
              "      <td>negative</td>\n",
              "    </tr>\n",
              "    <tr>\n",
              "      <th>4</th>\n",
              "      <td>Petter Mattei's \"Love in the Time of Money\" is...</td>\n",
              "      <td>positive</td>\n",
              "    </tr>\n",
              "    <tr>\n",
              "      <th>5</th>\n",
              "      <td>Probably my all-time favorite movie, a story o...</td>\n",
              "      <td>positive</td>\n",
              "    </tr>\n",
              "    <tr>\n",
              "      <th>6</th>\n",
              "      <td>I sure would like to see a resurrection of a u...</td>\n",
              "      <td>positive</td>\n",
              "    </tr>\n",
              "    <tr>\n",
              "      <th>7</th>\n",
              "      <td>This show was an amazing, fresh &amp; innovative i...</td>\n",
              "      <td>negative</td>\n",
              "    </tr>\n",
              "    <tr>\n",
              "      <th>8</th>\n",
              "      <td>Encouraged by the positive comments about this...</td>\n",
              "      <td>negative</td>\n",
              "    </tr>\n",
              "    <tr>\n",
              "      <th>9</th>\n",
              "      <td>If you like original gut wrenching laughter yo...</td>\n",
              "      <td>positive</td>\n",
              "    </tr>\n",
              "  </tbody>\n",
              "</table>\n",
              "</div>"
            ],
            "text/plain": [
              "                                              review sentiment\n",
              "0  One of the other reviewers has mentioned that ...  positive\n",
              "1  A wonderful little production. <br /><br />The...  positive\n",
              "2  I thought this was a wonderful way to spend ti...  positive\n",
              "3  Basically there's a family where a little boy ...  negative\n",
              "4  Petter Mattei's \"Love in the Time of Money\" is...  positive\n",
              "5  Probably my all-time favorite movie, a story o...  positive\n",
              "6  I sure would like to see a resurrection of a u...  positive\n",
              "7  This show was an amazing, fresh & innovative i...  negative\n",
              "8  Encouraged by the positive comments about this...  negative\n",
              "9  If you like original gut wrenching laughter yo...  positive"
            ]
          },
          "metadata": {
            "tags": []
          },
          "execution_count": 5
        }
      ]
    },
    {
      "cell_type": "markdown",
      "metadata": {
        "id": "UeTkIBLJTn-Z"
      },
      "source": [
        "##EDA"
      ]
    },
    {
      "cell_type": "markdown",
      "metadata": {
        "id": "S1QO7xdfaSR4"
      },
      "source": [
        "**Visualizing Counts for postive and negative reviews**"
      ]
    },
    {
      "cell_type": "code",
      "metadata": {
        "colab": {
          "base_uri": "https://localhost:8080/",
          "height": 458
        },
        "id": "aSB7KQLVen4m",
        "outputId": "45607697-3aa8-4bc0-88c7-f74ca1d9a8f4"
      },
      "source": [
        "fig = plt.figure(figsize=(7,6))\n",
        "sns.countplot(df['sentiment'])"
      ],
      "execution_count": null,
      "outputs": [
        {
          "output_type": "stream",
          "text": [
            "/usr/local/lib/python3.6/dist-packages/seaborn/_decorators.py:43: FutureWarning: Pass the following variable as a keyword arg: x. From version 0.12, the only valid positional argument will be `data`, and passing other arguments without an explicit keyword will result in an error or misinterpretation.\n",
            "  FutureWarning\n"
          ],
          "name": "stderr"
        },
        {
          "output_type": "execute_result",
          "data": {
            "text/plain": [
              "<matplotlib.axes._subplots.AxesSubplot at 0x7f31dcc05b70>"
            ]
          },
          "metadata": {
            "tags": []
          },
          "execution_count": 8
        },
        {
          "output_type": "display_data",
          "data": {
            "image/png": "[encoded data removed]",
            "text/plain": [
              "<Figure size 504x432 with 1 Axes>"
            ]
          },
          "metadata": {
            "tags": []
          }
        }
      ]
    },
    {
      "cell_type": "markdown",
      "metadata": {
        "id": "stfM-uqZZSHr"
      },
      "source": [
        "There are only two classes negative and positive.The class distribution above shows that their is an equal distribution of these reviews"
      ]
    },
    {
      "cell_type": "markdown",
      "metadata": {
        "id": "QAQ1JIAdfOSv"
      },
      "source": [
        "**Number of words in a review**"
      ]
    },
    {
      "cell_type": "code",
      "metadata": {
        "colab": {
          "base_uri": "https://localhost:8080/",
          "height": 387
        },
        "id": "kQkK6JPqfPV5",
        "outputId": "4b2e0ebd-f8f3-4dfd-c8dd-edd28b45c238"
      },
      "source": [
        "fig,(ax1,ax2)=plt.subplots(1,2,figsize=(10,5))\n",
        "reviews = df[df['sentiment']=='positive']['review'].str.split().map(lambda x: len(x))\n",
        "ax1.hist(reviews,100, color='green')\n",
        "ax1.set_xlabel('Number of Words')\n",
        "ax1.set_ylabel('Frequency')\n",
        "ax1.set_xlim(0, 1000)\n",
        "ax1.set_ylim(0, 4000) \n",
        "ax1.set_title('Positive')\n",
        "fig.suptitle('Number of Words in a Review')\n",
        "reviews = df[df['sentiment']=='negative']['review'].str.split().map(lambda x: len(x))\n",
        "ax2.set_xlim(0, 1000)\n",
        "ax2.set_ylim(0, 4000) \n",
        "ax2.set_xlabel('Number of Words')\n",
        "ax2.set_ylabel('Frequency')\n",
        "ax2.hist(reviews,100, color='red')\n",
        "ax2.set_title('Negative')\n",
        "#Add same limits "
      ],
      "execution_count": null,
      "outputs": [
        {
          "output_type": "execute_result",
          "data": {
            "text/plain": [
              "Text(0.5, 1.0, 'Negative')"
            ]
          },
          "metadata": {
            "tags": []
          },
          "execution_count": 22
        },
        {
          "output_type": "display_data",
          "data": {
            "image/png": "[encoded data removed]",
            "text/plain": [
              "<Figure size 720x360 with 2 Axes>"
            ]
          },
          "metadata": {
            "tags": []
          }
        }
      ]
    },
    {
      "cell_type": "markdown",
      "metadata": {
        "id": "E5pqxqwXKPL8"
      },
      "source": [
        "We can see that negative reviews have more number of words overall"
      ]
    },
    {
      "cell_type": "markdown",
      "metadata": {
        "id": "zV1j0rypTAOv"
      },
      "source": [
        "##Data Cleaning"
      ]
    },
    {
      "cell_type": "markdown",
      "metadata": {
        "id": "Dnj-XK10aD3c"
      },
      "source": [
        "Some basic cleaning such as removing punctuations,removing html tags ,urls ,digits and emojis"
      ]
    },
    {
      "cell_type": "markdown",
      "metadata": {
        "id": "ZfZUcYgtcz_J"
      },
      "source": [
        "**Helper functions for Data Cleaning**"
      ]
    },
    {
      "cell_type": "code",
      "metadata": {
        "id": "H8g2YrfRZaHq"
      },
      "source": [
        "def remove_emoji(text):\n",
        "    emoji_pattern = re.compile(\"[\"\n",
        "                           u\"\\U0001F600-\\U0001F64F\"  # emoticons\n",
        "                           u\"\\U0001F300-\\U0001F5FF\"  # symbols & pictographs\n",
        "                           u\"\\U0001F680-\\U0001F6FF\"  # transport & map symbols\n",
        "                           u\"\\U0001F1E0-\\U0001F1FF\"  # flags (iOS)\n",
        "                           u\"\\U00002702-\\U000027B0\"\n",
        "                           u\"\\U000024C2-\\U0001F251\"\n",
        "                           \"]+\", flags=re.UNICODE)\n",
        "    return emoji_pattern.sub(r'', text)"
      ],
      "execution_count": null,
      "outputs": []
    },
    {
      "cell_type": "code",
      "metadata": {
        "id": "Pgtub_5UZaHs"
      },
      "source": [
        "def remove_URL(text):\n",
        "    url = re.compile(r'https?://\\S+|www\\.\\S+')\n",
        "    return url.sub(r'',text)"
      ],
      "execution_count": null,
      "outputs": []
    },
    {
      "cell_type": "code",
      "metadata": {
        "id": "hYlGq7KEZaHu"
      },
      "source": [
        "def remove_html(text):\n",
        "    html=re.compile(r'<.*?>')\n",
        "    return html.sub(r'',text)"
      ],
      "execution_count": null,
      "outputs": []
    },
    {
      "cell_type": "code",
      "metadata": {
        "id": "qcNJvl_pZaHx"
      },
      "source": [
        "def remove_punct(text):\n",
        "    table=str.maketrans('','',string.punctuation)\n",
        "    return text.translate(table)"
      ],
      "execution_count": null,
      "outputs": []
    },
    {
      "cell_type": "code",
      "metadata": {
        "id": "JY1OMf5ZZaHy"
      },
      "source": [
        "def remove_digits(text):\n",
        "    text = re.sub(r\"\\d\", \"\", text) # to remove digits\n",
        "    return text"
      ],
      "execution_count": null,
      "outputs": []
    },
    {
      "cell_type": "code",
      "metadata": {
        "id": "eZ4_xTIbZaH2"
      },
      "source": [
        "# Removing Emojis from Dataset\n",
        "df['review'] = df['review'].apply(lambda x: remove_emoji(x))\n",
        "df['review']= df['review'].apply(lambda x : remove_URL(x))\n",
        "df['review'] =  df['review'].apply(lambda x: remove_html(x))\n",
        "df['review']= df['review'].apply(lambda x : remove_punct(x))\n",
        "df['review']= df['review'].apply(lambda x : remove_digits(x))"
      ],
      "execution_count": null,
      "outputs": []
    },
    {
      "cell_type": "code",
      "metadata": {
        "id": "DTvQcVoqh5iQ"
      },
      "source": [
        "# Convert to Lower Case\n",
        "df['review'] = df['review'].apply(lambda x: x.lower())"
      ],
      "execution_count": null,
      "outputs": []
    },
    {
      "cell_type": "code",
      "metadata": {
        "colab": {
          "base_uri": "https://localhost:8080/",
          "height": 343
        },
        "id": "XdVX1R__BCgQ",
        "outputId": "9bd84f2f-2ee9-4a2f-d7cc-410bca435a09"
      },
      "source": [
        "df.head(10)"
      ],
      "execution_count": null,
      "outputs": [
        {
          "output_type": "execute_result",
          "data": {
            "text/html": [
              "<div>\n",
              "<style scoped>\n",
              "    .dataframe tbody tr th:only-of-type {\n",
              "        vertical-align: middle;\n",
              "    }\n",
              "\n",
              "    .dataframe tbody tr th {\n",
              "        vertical-align: top;\n",
              "    }\n",
              "\n",
              "    .dataframe thead th {\n",
              "        text-align: right;\n",
              "    }\n",
              "</style>\n",
              "<table border=\"1\" class=\"dataframe\">\n",
              "  <thead>\n",
              "    <tr style=\"text-align: right;\">\n",
              "      <th></th>\n",
              "      <th>review</th>\n",
              "      <th>sentiment</th>\n",
              "    </tr>\n",
              "  </thead>\n",
              "  <tbody>\n",
              "    <tr>\n",
              "      <th>0</th>\n",
              "      <td>one of the other reviewers has mentioned that ...</td>\n",
              "      <td>positive</td>\n",
              "    </tr>\n",
              "    <tr>\n",
              "      <th>1</th>\n",
              "      <td>a wonderful little production the filming tech...</td>\n",
              "      <td>positive</td>\n",
              "    </tr>\n",
              "    <tr>\n",
              "      <th>2</th>\n",
              "      <td>i thought this was a wonderful way to spend ti...</td>\n",
              "      <td>positive</td>\n",
              "    </tr>\n",
              "    <tr>\n",
              "      <th>3</th>\n",
              "      <td>basically theres a family where a little boy j...</td>\n",
              "      <td>negative</td>\n",
              "    </tr>\n",
              "    <tr>\n",
              "      <th>4</th>\n",
              "      <td>petter matteis love in the time of money is a ...</td>\n",
              "      <td>positive</td>\n",
              "    </tr>\n",
              "    <tr>\n",
              "      <th>5</th>\n",
              "      <td>probably my alltime favorite movie a story of ...</td>\n",
              "      <td>positive</td>\n",
              "    </tr>\n",
              "    <tr>\n",
              "      <th>6</th>\n",
              "      <td>i sure would like to see a resurrection of a u...</td>\n",
              "      <td>positive</td>\n",
              "    </tr>\n",
              "    <tr>\n",
              "      <th>7</th>\n",
              "      <td>this show was an amazing fresh  innovative ide...</td>\n",
              "      <td>negative</td>\n",
              "    </tr>\n",
              "    <tr>\n",
              "      <th>8</th>\n",
              "      <td>encouraged by the positive comments about this...</td>\n",
              "      <td>negative</td>\n",
              "    </tr>\n",
              "    <tr>\n",
              "      <th>9</th>\n",
              "      <td>if you like original gut wrenching laughter yo...</td>\n",
              "      <td>positive</td>\n",
              "    </tr>\n",
              "  </tbody>\n",
              "</table>\n",
              "</div>"
            ],
            "text/plain": [
              "                                              review sentiment\n",
              "0  one of the other reviewers has mentioned that ...  positive\n",
              "1  a wonderful little production the filming tech...  positive\n",
              "2  i thought this was a wonderful way to spend ti...  positive\n",
              "3  basically theres a family where a little boy j...  negative\n",
              "4  petter matteis love in the time of money is a ...  positive\n",
              "5  probably my alltime favorite movie a story of ...  positive\n",
              "6  i sure would like to see a resurrection of a u...  positive\n",
              "7  this show was an amazing fresh  innovative ide...  negative\n",
              "8  encouraged by the positive comments about this...  negative\n",
              "9  if you like original gut wrenching laughter yo...  positive"
            ]
          },
          "metadata": {
            "tags": []
          },
          "execution_count": 13
        }
      ]
    },
    {
      "cell_type": "code",
      "metadata": {
        "colab": {
          "base_uri": "https://localhost:8080/"
        },
        "id": "U4WuZqOTvsQP",
        "outputId": "c958e743-73a4-4d37-9b3b-58d61a0e5732"
      },
      "source": [
        "labels_id = {'positive':1, 'negative':0 }\n",
        "print(labels_id)"
      ],
      "execution_count": null,
      "outputs": [
        {
          "output_type": "stream",
          "text": [
            "{'positive': 1, 'negative': 0}\n"
          ],
          "name": "stdout"
        }
      ]
    },
    {
      "cell_type": "code",
      "metadata": {
        "colab": {
          "base_uri": "https://localhost:8080/",
          "height": 343
        },
        "id": "pdHotLC4wADY",
        "outputId": "0af6ffa9-cf24-4f06-ba40-4c33b269f1ab"
      },
      "source": [
        "df['sentiment'].replace(labels_id,inplace=True)\n",
        "df.head(10)"
      ],
      "execution_count": null,
      "outputs": [
        {
          "output_type": "execute_result",
          "data": {
            "text/html": [
              "<div>\n",
              "<style scoped>\n",
              "    .dataframe tbody tr th:only-of-type {\n",
              "        vertical-align: middle;\n",
              "    }\n",
              "\n",
              "    .dataframe tbody tr th {\n",
              "        vertical-align: top;\n",
              "    }\n",
              "\n",
              "    .dataframe thead th {\n",
              "        text-align: right;\n",
              "    }\n",
              "</style>\n",
              "<table border=\"1\" class=\"dataframe\">\n",
              "  <thead>\n",
              "    <tr style=\"text-align: right;\">\n",
              "      <th></th>\n",
              "      <th>review</th>\n",
              "      <th>sentiment</th>\n",
              "    </tr>\n",
              "  </thead>\n",
              "  <tbody>\n",
              "    <tr>\n",
              "      <th>0</th>\n",
              "      <td>one of the other reviewers has mentioned that ...</td>\n",
              "      <td>1</td>\n",
              "    </tr>\n",
              "    <tr>\n",
              "      <th>1</th>\n",
              "      <td>a wonderful little production the filming tech...</td>\n",
              "      <td>1</td>\n",
              "    </tr>\n",
              "    <tr>\n",
              "      <th>2</th>\n",
              "      <td>i thought this was a wonderful way to spend ti...</td>\n",
              "      <td>1</td>\n",
              "    </tr>\n",
              "    <tr>\n",
              "      <th>3</th>\n",
              "      <td>basically theres a family where a little boy j...</td>\n",
              "      <td>0</td>\n",
              "    </tr>\n",
              "    <tr>\n",
              "      <th>4</th>\n",
              "      <td>petter matteis love in the time of money is a ...</td>\n",
              "      <td>1</td>\n",
              "    </tr>\n",
              "    <tr>\n",
              "      <th>5</th>\n",
              "      <td>probably my alltime favorite movie a story of ...</td>\n",
              "      <td>1</td>\n",
              "    </tr>\n",
              "    <tr>\n",
              "      <th>6</th>\n",
              "      <td>i sure would like to see a resurrection of a u...</td>\n",
              "      <td>1</td>\n",
              "    </tr>\n",
              "    <tr>\n",
              "      <th>7</th>\n",
              "      <td>this show was an amazing fresh  innovative ide...</td>\n",
              "      <td>0</td>\n",
              "    </tr>\n",
              "    <tr>\n",
              "      <th>8</th>\n",
              "      <td>encouraged by the positive comments about this...</td>\n",
              "      <td>0</td>\n",
              "    </tr>\n",
              "    <tr>\n",
              "      <th>9</th>\n",
              "      <td>if you like original gut wrenching laughter yo...</td>\n",
              "      <td>1</td>\n",
              "    </tr>\n",
              "  </tbody>\n",
              "</table>\n",
              "</div>"
            ],
            "text/plain": [
              "                                              review  sentiment\n",
              "0  one of the other reviewers has mentioned that ...          1\n",
              "1  a wonderful little production the filming tech...          1\n",
              "2  i thought this was a wonderful way to spend ti...          1\n",
              "3  basically theres a family where a little boy j...          0\n",
              "4  petter matteis love in the time of money is a ...          1\n",
              "5  probably my alltime favorite movie a story of ...          1\n",
              "6  i sure would like to see a resurrection of a u...          1\n",
              "7  this show was an amazing fresh  innovative ide...          0\n",
              "8  encouraged by the positive comments about this...          0\n",
              "9  if you like original gut wrenching laughter yo...          1"
            ]
          },
          "metadata": {
            "tags": []
          },
          "execution_count": 15
        }
      ]
    },
    {
      "cell_type": "code",
      "metadata": {
        "id": "zKbRyKbvJNMm"
      },
      "source": [
        "from nltk.corpus import stopwords\n",
        "from nltk.stem import WordNetLemmatizer\n",
        "import nltk\n",
        "nltk.download(\"popular\") #Install Multiple nltk packages"
      ],
      "execution_count": null,
      "outputs": []
    },
    {
      "cell_type": "markdown",
      "metadata": {
        "id": "y3Kd_pPNOAr7"
      },
      "source": [
        "##Removing Stop words from Reviews Data"
      ]
    },
    {
      "cell_type": "code",
      "metadata": {
        "id": "gJPmC22BFhku"
      },
      "source": [
        "from nltk.corpus import stopwords\r\n",
        "\r\n",
        "english_stop_words = stopwords.words('english')\r\n",
        "def remove_stop_words(corpus):\r\n",
        "    removed_stop_words = []\r\n",
        "    for review in corpus:\r\n",
        "        removed_stop_words.append(\r\n",
        "            ' '.join([word for word in review.split() \r\n",
        "                      if word not in english_stop_words])\r\n",
        "        )\r\n",
        "    return removed_stop_words\r\n",
        "\r\n",
        "no_stop_words_df = remove_stop_words(df['review'])"
      ],
      "execution_count": null,
      "outputs": []
    },
    {
      "cell_type": "markdown",
      "metadata": {
        "id": "aCgOiTZlGujV"
      },
      "source": [
        "##Stemming Reviews Data"
      ]
    },
    {
      "cell_type": "code",
      "metadata": {
        "id": "OVeOWtcvGZSL"
      },
      "source": [
        "def get_stemmed_text(corpus):\r\n",
        "    from nltk.stem.porter import PorterStemmer\r\n",
        "    stemmer = PorterStemmer()\r\n",
        "    return [' '.join([stemmer.stem(word) for word in review.split()]) for review in corpus]\r\n",
        "\r\n",
        "stemmed_df = get_stemmed_text(no_stop_words_df)"
      ],
      "execution_count": null,
      "outputs": []
    },
    {
      "cell_type": "code",
      "metadata": {
        "colab": {
          "base_uri": "https://localhost:8080/"
        },
        "id": "r6qmdfcwJAzD",
        "outputId": "cc26c6c6-33f5-4b12-c38b-6dab08f70248"
      },
      "source": [
        "stemmed_df[:5]"
      ],
      "execution_count": null,
      "outputs": [
        {
          "output_type": "execute_result",
          "data": {
            "text/plain": [
              "['one review mention watch oz episod youll hook right exactli happen meth first thing struck oz brutal unflinch scene violenc set right word go trust show faint heart timid show pull punch regard drug sex violenc hardcor classic use wordit call oz nicknam given oswald maximum secur state penitentari focus mainli emerald citi experiment section prison cell glass front face inward privaci high agenda em citi home manyaryan muslim gangsta latino christian italian irish moreso scuffl death stare dodgi deal shadi agreement never far awayi would say main appeal show due fact goe show wouldnt dare forget pretti pictur paint mainstream audienc forget charm forget romanceoz doesnt mess around first episod ever saw struck nasti surreal couldnt say readi watch develop tast oz got accustom high level graphic violenc violenc injustic crook guard wholl sold nickel inmat wholl kill order get away well manner middl class inmat turn prison bitch due lack street skill prison experi watch oz may becom comfort uncomfort viewingthat get touch darker side',\n",
              " 'wonder littl product film techniqu unassum oldtimebbc fashion give comfort sometim discomfort sens realism entir piec actor extrem well chosen michael sheen got polari voic pat truli see seamless edit guid refer william diari entri well worth watch terrificli written perform piec master product one great master comedi life realism realli come home littl thing fantasi guard rather use tradit dream techniqu remain solid disappear play knowledg sens particularli scene concern orton halliwel set particularli flat halliwel mural decor everi surfac terribl well done',\n",
              " 'thought wonder way spend time hot summer weekend sit air condit theater watch lightheart comedi plot simplist dialogu witti charact likabl even well bread suspect serial killer may disappoint realiz match point risk addict thought proof woodi allen still fulli control style mani us grown lovethi id laugh one woodi comedi year dare say decad ive never impress scarlet johanson manag tone sexi imag jump right averag spirit young womanthi may crown jewel career wittier devil wear prada interest superman great comedi go see friend',\n",
              " 'basic there famili littl boy jake think there zombi closet parent fight timethi movi slower soap opera suddenli jake decid becom rambo kill zombieok first your go make film must decid thriller drama drama movi watchabl parent divorc argu like real life jake closet total ruin film expect see boogeyman similar movi instead watch drama meaningless thriller spot well play parent descent dialog shot jake ignor',\n",
              " 'petter mattei love time money visual stun film watch mr mattei offer us vivid portrait human relat movi seem tell us money power success peopl differ situat encount variat arthur schnitzler play theme director transfer action present time new york differ charact meet connect one connect one way anoth next person one seem know previou point contact stylishli film sophist luxuri look taken see peopl live world live habitatth thing one get soul pictur differ stage loneli one inhabit big citi exactli best place human relat find sincer fulfil one discern case peopl encounterth act good mr mattei direct steve buscemi rosario dawson carol kane michael imperioli adrian grenier rest talent cast make charact come alivew wish mr mattei good luck await anxious next work']"
            ]
          },
          "metadata": {
            "tags": []
          },
          "execution_count": 19
        }
      ]
    },
    {
      "cell_type": "markdown",
      "metadata": {
        "id": "P9hnj5qQIjxv"
      },
      "source": [
        "##Lemmatizing Reviews Data"
      ]
    },
    {
      "cell_type": "code",
      "metadata": {
        "id": "WxnFWx30Io8i"
      },
      "source": [
        "def get_lemmatized_text(corpus):\r\n",
        "    from nltk.stem import WordNetLemmatizer\r\n",
        "    lemmatizer = WordNetLemmatizer()\r\n",
        "    return [' '.join([lemmatizer.lemmatize(word) for word in review.split()]) for review in corpus]\r\n",
        "\r\n",
        "preprocessed_df = get_lemmatized_text(stemmed_df)\r\n"
      ],
      "execution_count": null,
      "outputs": []
    },
    {
      "cell_type": "code",
      "metadata": {
        "colab": {
          "base_uri": "https://localhost:8080/"
        },
        "id": "xdgQ1SJnI6yL",
        "outputId": "067c84b5-0582-4dc5-9a06-715fbb1fc11f"
      },
      "source": [
        "preprocessed_df[:5]"
      ],
      "execution_count": null,
      "outputs": [
        {
          "output_type": "execute_result",
          "data": {
            "text/plain": [
              "['one review mention watch oz episod youll hook right exactli happen meth first thing struck oz brutal unflinch scene violenc set right word go trust show faint heart timid show pull punch regard drug sex violenc hardcor classic use wordit call oz nicknam given oswald maximum secur state penitentari focus mainli emerald citi experiment section prison cell glass front face inward privaci high agenda em citi home manyaryan muslim gangsta latino christian italian irish moreso scuffl death stare dodgi deal shadi agreement never far awayi would say main appeal show due fact goe show wouldnt dare forget pretti pictur paint mainstream audienc forget charm forget romanceoz doesnt mess around first episod ever saw struck nasti surreal couldnt say readi watch develop tast oz got accustom high level graphic violenc violenc injustic crook guard wholl sold nickel inmat wholl kill order get away well manner middl class inmat turn prison bitch due lack street skill prison experi watch oz may becom comfort uncomfort viewingthat get touch darker side',\n",
              " 'wonder littl product film techniqu unassum oldtimebbc fashion give comfort sometim discomfort sen realism entir piec actor extrem well chosen michael sheen got polari voic pat truli see seamless edit guid refer william diari entri well worth watch terrificli written perform piec master product one great master comedi life realism realli come home littl thing fantasi guard rather use tradit dream techniqu remain solid disappear play knowledg sen particularli scene concern orton halliwel set particularli flat halliwel mural decor everi surfac terribl well done',\n",
              " 'thought wonder way spend time hot summer weekend sit air condit theater watch lightheart comedi plot simplist dialogu witti charact likabl even well bread suspect serial killer may disappoint realiz match point risk addict thought proof woodi allen still fulli control style mani u grown lovethi id laugh one woodi comedi year dare say decad ive never impress scarlet johanson manag tone sexi imag jump right averag spirit young womanthi may crown jewel career wittier devil wear prada interest superman great comedi go see friend',\n",
              " 'basic there famili littl boy jake think there zombi closet parent fight timethi movi slower soap opera suddenli jake decid becom rambo kill zombieok first your go make film must decid thriller drama drama movi watchabl parent divorc argu like real life jake closet total ruin film expect see boogeyman similar movi instead watch drama meaningless thriller spot well play parent descent dialog shot jake ignor',\n",
              " 'petter mattei love time money visual stun film watch mr mattei offer u vivid portrait human relat movi seem tell u money power success peopl differ situat encount variat arthur schnitzler play theme director transfer action present time new york differ charact meet connect one connect one way anoth next person one seem know previou point contact stylishli film sophist luxuri look taken see peopl live world live habitatth thing one get soul pictur differ stage loneli one inhabit big citi exactli best place human relat find sincer fulfil one discern case peopl encounterth act good mr mattei direct steve buscemi rosario dawson carol kane michael imperioli adrian grenier rest talent cast make charact come alivew wish mr mattei good luck await anxious next work']"
            ]
          },
          "metadata": {
            "tags": []
          },
          "execution_count": 21
        }
      ]
    },
    {
      "cell_type": "code",
      "metadata": {
        "id": "kafWH_s-J4_t"
      },
      "source": [
        "df_preprocessed = DataFrame (preprocessed_df,columns=['review'])"
      ],
      "execution_count": null,
      "outputs": []
    },
    {
      "cell_type": "markdown",
      "metadata": {
        "id": "DtZ7-yrj_o18"
      },
      "source": [
        "#Machine Learning Techniques"
      ]
    },
    {
      "cell_type": "markdown",
      "metadata": {
        "id": "Gg4O2860ZaIQ"
      },
      "source": [
        "### Creating a Bag of Word Model"
      ]
    },
    {
      "cell_type": "markdown",
      "metadata": {
        "id": "Ns4od1sXAlAY"
      },
      "source": [
        "Ref : https://machinelearningmastery.com/gentle-introduction-bag-words-model/\n",
        "\n",
        "Ref : https://towardsdatascience.com/a-simple-explanation-of-the-bag-of-words-model-b88fc4f4971\n",
        "\n",
        "Ref : https://scikit-learn.org/stable/modules/generated/sklearn.feature_extraction.text.CountVectorizer.html"
      ]
    },
    {
      "cell_type": "code",
      "metadata": {
        "id": "rCUHi3fJZaIQ"
      },
      "source": [
        "vectorizer = CountVectorizer(max_features=7500)\n",
        "#Create Bag of Words Model , here X represent bag of words, Y represents the label /target \n",
        "X = df_preprocessed['review'].values\n",
        "Y = df['sentiment'].values   "
      ],
      "execution_count": null,
      "outputs": []
    },
    {
      "cell_type": "markdown",
      "metadata": {
        "id": "t7VKMsPCZaIS"
      },
      "source": [
        "### Split the training data in Train and Validation set"
      ]
    },
    {
      "cell_type": "code",
      "metadata": {
        "id": "mVnLkfgjZaIS"
      },
      "source": [
        "X_train , X_test , y_train , y_test = train_test_split(X,Y,test_size=0.3, random_state=2020)"
      ],
      "execution_count": null,
      "outputs": []
    },
    {
      "cell_type": "code",
      "metadata": {
        "colab": {
          "base_uri": "https://localhost:8080/"
        },
        "id": "UPP9G919Vk6E",
        "outputId": "814e469c-b247-49c9-8ddb-b9645efd9a9e"
      },
      "source": [
        "print(X_train.shape , X_test.shape , y_train.shape , y_test.shape)"
      ],
      "execution_count": null,
      "outputs": [
        {
          "output_type": "stream",
          "text": [
            "(35000,) (15000,) (35000,) (15000,)\n"
          ],
          "name": "stdout"
        }
      ]
    },
    {
      "cell_type": "code",
      "metadata": {
        "id": "cBduMJZOU-v9"
      },
      "source": [
        "X_train = vectorizer.fit_transform(X_train)\n",
        "X_test = vectorizer.transform(X_test)"
      ],
      "execution_count": null,
      "outputs": []
    },
    {
      "cell_type": "code",
      "metadata": {
        "colab": {
          "base_uri": "https://localhost:8080/"
        },
        "id": "DIgOLNPuWQx2",
        "outputId": "ba0ebe8e-90c8-4ae7-e450-04b80d617be4"
      },
      "source": [
        "##BAG OF WORD\n",
        "print(X_train.shape , X_test.shape)"
      ],
      "execution_count": null,
      "outputs": [
        {
          "output_type": "stream",
          "text": [
            "(35000, 7500) (15000, 7500)\n"
          ],
          "name": "stdout"
        }
      ]
    },
    {
      "cell_type": "code",
      "metadata": {
        "colab": {
          "base_uri": "https://localhost:8080/"
        },
        "id": "-UPJJJFeS0n1",
        "outputId": "df11c5c1-5246-4282-a871-a8b10600aed9"
      },
      "source": [
        "feature_names = vectorizer.get_feature_names()\n",
        "print(\"Number of features: {}\".format(len(feature_names)))\n",
        "print(\"First 20 features:\\n{}\".format(feature_names[:20]))\n",
        "print(\"Features 19500 to 19530:\\n{}\".format(feature_names[19500:19530]))\n",
        "print(\"Every 2000th feature:\\n{}\".format(feature_names[::2000]))"
      ],
      "execution_count": null,
      "outputs": [
        {
          "output_type": "stream",
          "text": [
            "Number of features: 7500\n",
            "First 20 features:\n",
            "['aaron', 'abandoned', 'abc', 'abilities', 'ability', 'able', 'aboard', 'abomination', 'abortion', 'abound', 'about', 'above', 'abraham', 'abrupt', 'abruptly', 'absence', 'absent', 'absolute', 'absolutely', 'absorbing']\n",
            "Features 19500 to 19530:\n",
            "[]\n",
            "Every 2000th feature:\n",
            "['aaron', 'dropped', 'luke', 'showtime']\n"
          ],
          "name": "stdout"
        }
      ]
    },
    {
      "cell_type": "markdown",
      "metadata": {
        "id": "zYcNgtBCZaIU"
      },
      "source": [
        "**Importing all Classifiers**"
      ]
    },
    {
      "cell_type": "code",
      "metadata": {
        "id": "M28L9bjUZaIU"
      },
      "source": [
        "from sklearn.naive_bayes import GaussianNB\n",
        "from sklearn.tree import DecisionTreeClassifier\n",
        "from sklearn.ensemble import RandomForestClassifier\n",
        "from sklearn.neighbors import KNeighborsClassifier\n",
        "from sklearn.linear_model import LogisticRegression\n",
        "from sklearn.naive_bayes import MultinomialNB\n",
        "from sklearn.ensemble import VotingClassifier\n",
        "from sklearn.metrics import classification_report\n",
        "from sklearn.metrics import confusion_matrix\n",
        "from sklearn.ensemble import GradientBoostingClassifier\n",
        "import xgboost as xgb\n",
        "from xgboost import XGBClassifier"
      ],
      "execution_count": null,
      "outputs": []
    },
    {
      "cell_type": "code",
      "metadata": {
        "id": "2VSaLIBOBQ8Q"
      },
      "source": [
        "df_AUC = pd.DataFrame( columns = ['Model Name', 'ROC AUC Score']) "
      ],
      "execution_count": null,
      "outputs": []
    },
    {
      "cell_type": "code",
      "metadata": {
        "colab": {
          "base_uri": "https://localhost:8080/"
        },
        "id": "0aSCNokvC7MJ",
        "outputId": "aade7fbf-b41c-4dd6-921b-ec213ba2b428"
      },
      "source": [
        "df_AUC[\"Model Name\"]"
      ],
      "execution_count": null,
      "outputs": [
        {
          "output_type": "execute_result",
          "data": {
            "text/plain": [
              "Series([], Name: Model Name, dtype: object)"
            ]
          },
          "metadata": {
            "tags": []
          },
          "execution_count": 43
        }
      ]
    },
    {
      "cell_type": "markdown",
      "metadata": {
        "id": "wDHp7ThyZaIW"
      },
      "source": [
        "### Gaussian Naive Bayes Model"
      ]
    },
    {
      "cell_type": "code",
      "metadata": {
        "colab": {
          "base_uri": "https://localhost:8080/"
        },
        "id": "68HlGoISZaIW",
        "outputId": "8aff163e-a9cf-4048-ed29-2824e83b9a95"
      },
      "source": [
        "# Fitting Gaussian Naive Bayes to the Training set\n",
        "classifier_gnb = GaussianNB()\n",
        "classifier_gnb.fit(X_train.toarray(), y_train)\n",
        "# Predicting the Train data set results\n",
        "y_pred_gnb = classifier_gnb.predict(X_test.toarray())\n",
        "\n",
        "# Classification Reports\n",
        "report_gnb = classification_report(y_test, y_pred_gnb)\n",
        "print(report_gnb)\n",
        "y_auc = roc_auc_score(y_test, y_pred_gnb)\n",
        "print('Gaussian Naive Bayes Model: ROC AUC=%.3f' % (y_auc))\n",
        "new_row = {'Model Name':'Gaussian Naive Bayes', 'ROC AUC Score':y_auc }\n",
        "df_AUC = df_AUC.append(new_row, ignore_index=True)"
      ],
      "execution_count": null,
      "outputs": [
        {
          "output_type": "stream",
          "text": [
            "              precision    recall  f1-score   support\n",
            "\n",
            "           0       0.66      0.86      0.75      7474\n",
            "           1       0.80      0.56      0.66      7526\n",
            "\n",
            "    accuracy                           0.71     15000\n",
            "   macro avg       0.73      0.71      0.70     15000\n",
            "weighted avg       0.73      0.71      0.70     15000\n",
            "\n",
            "Gaussian Naive Bayes Model: ROC AUC=0.710\n"
          ],
          "name": "stdout"
        }
      ]
    },
    {
      "cell_type": "markdown",
      "metadata": {
        "id": "d-aqeg3fZaIY"
      },
      "source": [
        "### K-Nearest Neighbour"
      ]
    },
    {
      "cell_type": "code",
      "metadata": {
        "colab": {
          "base_uri": "https://localhost:8080/"
        },
        "id": "gSJtgNzpZaIY",
        "outputId": "2240a293-f94f-4153-94ec-ae9ca59a09a8"
      },
      "source": [
        "# Fitting K- Nearest neighbour to the Training set\n",
        "classifier_knn = KNeighborsClassifier(n_neighbors = 7, weights = 'distance',algorithm = 'brute')\n",
        "classifier_knn.fit(X_train, y_train)\n",
        "# Predicting the Train data set results\n",
        "y_pred_knn = classifier_knn.predict(X_test)\n",
        "# Classification Reports\n",
        "report_knn = classification_report(y_test, y_pred_knn)\n",
        "print(report_knn)\n",
        "y_auc = roc_auc_score(y_test, y_pred_knn)\n",
        "print('K- Nearest neighbour: ROC AUC=%.3f' % (y_auc))\n",
        "new_row = {'Model Name':' K- Nearest neighbour', 'ROC AUC Score':y_auc }\n",
        "df_AUC = df_AUC.append(new_row, ignore_index=True)"
      ],
      "execution_count": null,
      "outputs": [
        {
          "output_type": "stream",
          "text": [
            "              precision    recall  f1-score   support\n",
            "\n",
            "           0       0.65      0.63      0.64      7474\n",
            "           1       0.64      0.66      0.65      7526\n",
            "\n",
            "    accuracy                           0.65     15000\n",
            "   macro avg       0.65      0.65      0.65     15000\n",
            "weighted avg       0.65      0.65      0.65     15000\n",
            "\n",
            "K- Nearest neighbour: ROC AUC=0.648\n"
          ],
          "name": "stdout"
        }
      ]
    },
    {
      "cell_type": "markdown",
      "metadata": {
        "id": "AULpb-54ZaIa"
      },
      "source": [
        "### Decision Tree Classifier"
      ]
    },
    {
      "cell_type": "code",
      "metadata": {
        "colab": {
          "base_uri": "https://localhost:8080/"
        },
        "id": "vSzfk89PZaIa",
        "outputId": "e3dfa17a-e749-4f90-88fd-727be0c0fd81"
      },
      "source": [
        "# Fitting Decision Tree Models to the Training set\n",
        "classifier_dt = DecisionTreeClassifier(criterion= 'gini',\n",
        "                                           max_depth = 10, \n",
        "                                           splitter='best', \n",
        "                                           random_state=55)\n",
        "classifier_dt.fit(X_train, y_train)\n",
        "# Predicting the Train data set results\n",
        "y_pred_dt = classifier_dt.predict(X_test)\n",
        "# Classification Reports\n",
        "report_dt = classification_report(y_test, y_pred_dt)\n",
        "print(report_dt)\n",
        "y_auc = roc_auc_score(y_test, y_pred_dt)\n",
        "print('Decision Tree: ROC AUC=%.3f' % (y_auc))\n",
        "new_row = {'Model Name':'Decision Tree', 'ROC AUC Score':y_auc }\n",
        "df_AUC = df_AUC.append(new_row, ignore_index=True)"
      ],
      "execution_count": null,
      "outputs": [
        {
          "output_type": "stream",
          "text": [
            "              precision    recall  f1-score   support\n",
            "\n",
            "           0       0.79      0.63      0.70      7474\n",
            "           1       0.70      0.84      0.76      7526\n",
            "\n",
            "    accuracy                           0.73     15000\n",
            "   macro avg       0.74      0.73      0.73     15000\n",
            "weighted avg       0.74      0.73      0.73     15000\n",
            "\n",
            "Decision Tree: ROC AUC=0.734\n"
          ],
          "name": "stdout"
        }
      ]
    },
    {
      "cell_type": "markdown",
      "metadata": {
        "id": "c49lLVPCZaIf"
      },
      "source": [
        "### XGBoost Classifier"
      ]
    },
    {
      "cell_type": "code",
      "metadata": {
        "colab": {
          "base_uri": "https://localhost:8080/"
        },
        "id": "b3_HZjwMZaIf",
        "outputId": "a6de8d2b-2b20-491b-fea3-5431c0eebd05"
      },
      "source": [
        "# Fitting XGBoost Model to the Training set\n",
        "classifier_xgb = XGBClassifier(max_depth=6,learning_rate=0.3,random_state=123,n_jobs=4)\n",
        "classifier_xgb.fit(X_train, y_train)\n",
        "# Predicting the Train data set results\n",
        "y_pred_xgb = classifier_xgb.predict(X_test)\n",
        "# Classification Reports\n",
        "report_xgb = classification_report(y_test, y_pred_xgb)\n",
        "print(report_xgb)\n",
        "y_auc = roc_auc_score(y_test, y_pred_xgb)\n",
        "print('XGBoost Model: ROC AUC=%.3f' % (y_auc))\n",
        "new_row = {'Model Name':'XGBoost', 'ROC AUC Score':y_auc }\n",
        "df_AUC = df_AUC.append(new_row, ignore_index=True)"
      ],
      "execution_count": null,
      "outputs": [
        {
          "output_type": "stream",
          "text": [
            "              precision    recall  f1-score   support\n",
            "\n",
            "           0       0.87      0.84      0.86      7474\n",
            "           1       0.85      0.87      0.86      7526\n",
            "\n",
            "    accuracy                           0.86     15000\n",
            "   macro avg       0.86      0.86      0.86     15000\n",
            "weighted avg       0.86      0.86      0.86     15000\n",
            "\n",
            "XGBoost Model: ROC AUC=0.858\n"
          ],
          "name": "stdout"
        }
      ]
    },
    {
      "cell_type": "markdown",
      "metadata": {
        "id": "qi3Wa1_hZaIi"
      },
      "source": [
        "### Multinomial Naive Bayes"
      ]
    },
    {
      "cell_type": "code",
      "metadata": {
        "colab": {
          "base_uri": "https://localhost:8080/"
        },
        "id": "fEeWsBH8ZaIk",
        "outputId": "b12da83f-82b3-4326-81db-a76061d0c44e"
      },
      "source": [
        "# Fitting multinomial naive bayes Model to the Training set\n",
        "classifier_mnb = MultinomialNB()\n",
        "classifier_mnb.fit(X_train, y_train)\n",
        "# Predicting the Train data set results\n",
        "y_pred_mnb = classifier_mnb.predict(X_test)\n",
        "# Classification Reports\n",
        "report_mnb = classification_report(y_test, y_pred_mnb)\n",
        "print(report_mnb)\n",
        "y_auc = roc_auc_score(y_test, y_pred_mnb)\n",
        "print('Multinomial naive bayes Model: ROC AUC=%.3f' % (y_auc))\n",
        "new_row = {'Model Name':'Multinomial Naive bayes Model', 'ROC AUC Score':y_auc }\n",
        "df_AUC = df_AUC.append(new_row, ignore_index=True)"
      ],
      "execution_count": null,
      "outputs": [
        {
          "output_type": "stream",
          "text": [
            "              precision    recall  f1-score   support\n",
            "\n",
            "           0       0.84      0.86      0.85      7474\n",
            "           1       0.86      0.83      0.85      7526\n",
            "\n",
            "    accuracy                           0.85     15000\n",
            "   macro avg       0.85      0.85      0.85     15000\n",
            "weighted avg       0.85      0.85      0.85     15000\n",
            "\n",
            "Multinomial naive bayes Model: ROC AUC=0.848\n"
          ],
          "name": "stdout"
        }
      ]
    },
    {
      "cell_type": "markdown",
      "metadata": {
        "id": "Vy_KHHPZZaIm"
      },
      "source": [
        "### Random Forest Classifier"
      ]
    },
    {
      "cell_type": "code",
      "metadata": {
        "colab": {
          "base_uri": "https://localhost:8080/"
        },
        "id": "SLT6ZXtzZaIm",
        "outputId": "05f4a765-8df9-4a17-e8d5-21e74c7cb1e6"
      },
      "source": [
        "rfc = RandomForestClassifier(max_depth=4,\n",
        "                             random_state=100,\n",
        "                             min_samples_leaf=100, \n",
        "                             min_samples_split=100,\n",
        "                             n_estimators=50)\n",
        "rfc.fit(X_train, y_train)\n",
        "y_pred_rfc = rfc.predict(X_test)\n",
        "# Classification Reports\n",
        "report_rfc = classification_report(y_test, y_pred_rfc)\n",
        "print(report_rfc)\n",
        "y_auc = roc_auc_score(y_test, y_pred_rfc)\n",
        "print('RandomForestClassifier: ROC AUC=%.3f' % (y_auc))\n",
        "new_row = {'Model Name':'RandomForestClassifier', 'ROC AUC Score':y_auc }\n",
        "df_AUC = df_AUC.append(new_row, ignore_index=True)"
      ],
      "execution_count": null,
      "outputs": [
        {
          "output_type": "stream",
          "text": [
            "              precision    recall  f1-score   support\n",
            "\n",
            "           0       0.82      0.74      0.78      7474\n",
            "           1       0.76      0.84      0.80      7526\n",
            "\n",
            "    accuracy                           0.79     15000\n",
            "   macro avg       0.79      0.79      0.79     15000\n",
            "weighted avg       0.79      0.79      0.79     15000\n",
            "\n",
            "RandomForestClassifier: ROC AUC=0.789\n"
          ],
          "name": "stdout"
        }
      ]
    },
    {
      "cell_type": "code",
      "metadata": {
        "colab": {
          "base_uri": "https://localhost:8080/",
          "height": 225
        },
        "id": "4cP0enMca2nt",
        "outputId": "232b82e2-8d86-4ab6-91f5-8c9b7e124282"
      },
      "source": [
        "df_AUC"
      ],
      "execution_count": null,
      "outputs": [
        {
          "output_type": "execute_result",
          "data": {
            "text/html": [
              "<div>\n",
              "<style scoped>\n",
              "    .dataframe tbody tr th:only-of-type {\n",
              "        vertical-align: middle;\n",
              "    }\n",
              "\n",
              "    .dataframe tbody tr th {\n",
              "        vertical-align: top;\n",
              "    }\n",
              "\n",
              "    .dataframe thead th {\n",
              "        text-align: right;\n",
              "    }\n",
              "</style>\n",
              "<table border=\"1\" class=\"dataframe\">\n",
              "  <thead>\n",
              "    <tr style=\"text-align: right;\">\n",
              "      <th></th>\n",
              "      <th>Model Name</th>\n",
              "      <th>ROC AUC Score</th>\n",
              "    </tr>\n",
              "  </thead>\n",
              "  <tbody>\n",
              "    <tr>\n",
              "      <th>0</th>\n",
              "      <td>Gaussian Naive Bayes</td>\n",
              "      <td>0.709527</td>\n",
              "    </tr>\n",
              "    <tr>\n",
              "      <th>1</th>\n",
              "      <td>K- Nearest neighbour</td>\n",
              "      <td>0.647681</td>\n",
              "    </tr>\n",
              "    <tr>\n",
              "      <th>2</th>\n",
              "      <td>Decision Tree</td>\n",
              "      <td>0.734240</td>\n",
              "    </tr>\n",
              "    <tr>\n",
              "      <th>4</th>\n",
              "      <td>XGBoost</td>\n",
              "      <td>0.858480</td>\n",
              "    </tr>\n",
              "    <tr>\n",
              "      <th>5</th>\n",
              "      <td>Multinomial Naive bayes Model</td>\n",
              "      <td>0.847720</td>\n",
              "    </tr>\n",
              "    <tr>\n",
              "      <th>6</th>\n",
              "      <td>RandomForestClassifier</td>\n",
              "      <td>0.789284</td>\n",
              "    </tr>\n",
              "  </tbody>\n",
              "</table>\n",
              "</div>"
            ],
            "text/plain": [
              "                      Model Name  ROC AUC Score\n",
              "0           Gaussian Naive Bayes       0.709527\n",
              "1           K- Nearest neighbour       0.647681\n",
              "2                  Decision Tree       0.734240\n",
              "4                        XGBoost       0.858480\n",
              "5  Multinomial Naive bayes Model       0.847720\n",
              "6         RandomForestClassifier       0.789284"
            ]
          },
          "metadata": {
            "tags": []
          },
          "execution_count": 68
        }
      ]
    },
    {
      "cell_type": "markdown",
      "metadata": {
        "id": "w-VoNcZVbWuz"
      },
      "source": [
        "##ROC Score Comparison of Various Classifiers"
      ]
    },
    {
      "cell_type": "code",
      "metadata": {
        "colab": {
          "base_uri": "https://localhost:8080/",
          "height": 441
        },
        "id": "_8BLxXW4FhWV",
        "outputId": "13535acb-7c44-42a5-ebd3-e1089deca677"
      },
      "source": [
        "fig=plt.figure(figsize=(10,6))\n",
        "plt.bar(df_AUC[\"Model Name\"], df_AUC[\"ROC AUC Score\"],  color='c', width=.15)\n",
        "#plt.ylim(1,40)\n",
        "plt.xticks(rotation=10)\n",
        "plt.ylabel('ROC AUC Score')\n",
        "plt.title('ROC Score Comparision')\n",
        "plt.tight_layout()"
      ],
      "execution_count": null,
      "outputs": [
        {
          "output_type": "display_data",
          "data": {
            "image/png": "[encoded data removed]",
            "text/plain": [
              "<Figure size 720x432 with 1 Axes>"
            ]
          },
          "metadata": {
            "tags": [],
            "needs_background": "light"
          }
        }
      ]
    },
    {
      "cell_type": "markdown",
      "metadata": {
        "id": "PLn_LGArbi-7"
      },
      "source": [
        "#Recurrent Neural Networks"
      ]
    },
    {
      "cell_type": "markdown",
      "metadata": {
        "id": "ys1xdpL11KhW"
      },
      "source": [
        "##**GloVe for Vectorization**\n"
      ]
    },
    {
      "cell_type": "markdown",
      "metadata": {
        "id": "XaeYfA8yLQxK"
      },
      "source": [
        "Ref : https://nlp.stanford.edu/projects/glove/\n",
        "\n",
        "Ref: https://medium.com/analytics-vidhyaword-vectorization-using-glove-76919685ee0b\n",
        "\n",
        "Ref : https://www.kaggle.com/shahules/basic-eda-cleaning-and-glove"
      ]
    },
    {
      "cell_type": "markdown",
      "metadata": {
        "id": "f6VnvBZMk1_r"
      },
      "source": [
        "Creating Corpus for Glove."
      ]
    },
    {
      "cell_type": "code",
      "metadata": {
        "id": "vo_wPD1AK15A"
      },
      "source": [
        "def create_corpus(df):\n",
        "    corpus=[]\n",
        "    for review in tqdm(df['review']):\n",
        "        words=[word.lower() for word in word_tokenize(review) if((word.isalpha()==1) & (word.lower() not in english_stop_words))]\n",
        "        corpus.append(words)\n",
        "    return corpus"
      ],
      "execution_count": null,
      "outputs": []
    },
    {
      "cell_type": "code",
      "metadata": {
        "colab": {
          "base_uri": "https://localhost:8080/"
        },
        "id": "gRfVgrJgUr1S",
        "outputId": "80e454ee-1e76-41f3-f64b-8f73f6dc56b3"
      },
      "source": [
        " corpus_for_glove = create_corpus(df)"
      ],
      "execution_count": null,
      "outputs": [
        {
          "output_type": "stream",
          "text": [
            "100%|██████████| 50000/50000 [01:03<00:00, 784.63it/s]\n"
          ],
          "name": "stderr"
        }
      ]
    },
    {
      "cell_type": "code",
      "metadata": {
        "colab": {
          "base_uri": "https://localhost:8080/"
        },
        "id": "P8KX7RpeLA4r",
        "outputId": "0a16e8cd-4297-4336-8ca8-e8207eda8420"
      },
      "source": [
        "print(corpus_for_glove[:5])"
      ],
      "execution_count": null,
      "outputs": [
        {
          "output_type": "stream",
          "text": [
            "[['one', 'reviewers', 'mentioned', 'watching', 'oz', 'episode', 'youll', 'hooked', 'right', 'exactly', 'happened', 'methe', 'first', 'thing', 'struck', 'oz', 'brutality', 'unflinching', 'scenes', 'violence', 'set', 'right', 'word', 'go', 'trust', 'show', 'faint', 'hearted', 'timid', 'show', 'pulls', 'punches', 'regards', 'drugs', 'sex', 'violence', 'hardcore', 'classic', 'use', 'wordit', 'called', 'oz', 'nickname', 'given', 'oswald', 'maximum', 'security', 'state', 'penitentary', 'focuses', 'mainly', 'emerald', 'city', 'experimental', 'section', 'prison', 'cells', 'glass', 'fronts', 'face', 'inwards', 'privacy', 'high', 'agenda', 'em', 'city', 'home', 'manyaryans', 'muslims', 'gangstas', 'latinos', 'christians', 'italians', 'irish', 'moreso', 'scuffles', 'death', 'stares', 'dodgy', 'dealings', 'shady', 'agreements', 'never', 'far', 'awayi', 'would', 'say', 'main', 'appeal', 'show', 'due', 'fact', 'goes', 'shows', 'wouldnt', 'dare', 'forget', 'pretty', 'pictures', 'painted', 'mainstream', 'audiences', 'forget', 'charm', 'forget', 'romanceoz', 'doesnt', 'mess', 'around', 'first', 'episode', 'ever', 'saw', 'struck', 'nasty', 'surreal', 'couldnt', 'say', 'ready', 'watched', 'developed', 'taste', 'oz', 'got', 'accustomed', 'high', 'levels', 'graphic', 'violence', 'violence', 'injustice', 'crooked', 'guards', 'wholl', 'sold', 'nickel', 'inmates', 'wholl', 'kill', 'order', 'get', 'away', 'well', 'mannered', 'middle', 'class', 'inmates', 'turned', 'prison', 'bitches', 'due', 'lack', 'street', 'skills', 'prison', 'experience', 'watching', 'oz', 'may', 'become', 'comfortable', 'uncomfortable', 'viewingthats', 'get', 'touch', 'darker', 'side'], ['wonderful', 'little', 'production', 'filming', 'technique', 'unassuming', 'oldtimebbc', 'fashion', 'gives', 'comforting', 'sometimes', 'discomforting', 'sense', 'realism', 'entire', 'piece', 'actors', 'extremely', 'well', 'chosen', 'michael', 'sheen', 'got', 'polari', 'voices', 'pat', 'truly', 'see', 'seamless', 'editing', 'guided', 'references', 'williams', 'diary', 'entries', 'well', 'worth', 'watching', 'terrificly', 'written', 'performed', 'piece', 'masterful', 'production', 'one', 'great', 'masters', 'comedy', 'life', 'realism', 'really', 'comes', 'home', 'little', 'things', 'fantasy', 'guard', 'rather', 'use', 'traditional', 'dream', 'techniques', 'remains', 'solid', 'disappears', 'plays', 'knowledge', 'senses', 'particularly', 'scenes', 'concerning', 'orton', 'halliwell', 'sets', 'particularly', 'flat', 'halliwells', 'murals', 'decorating', 'every', 'surface', 'terribly', 'well', 'done'], ['thought', 'wonderful', 'way', 'spend', 'time', 'hot', 'summer', 'weekend', 'sitting', 'air', 'conditioned', 'theater', 'watching', 'lighthearted', 'comedy', 'plot', 'simplistic', 'dialogue', 'witty', 'characters', 'likable', 'even', 'well', 'bread', 'suspected', 'serial', 'killer', 'may', 'disappointed', 'realize', 'match', 'point', 'risk', 'addiction', 'thought', 'proof', 'woody', 'allen', 'still', 'fully', 'control', 'style', 'many', 'us', 'grown', 'lovethis', 'id', 'laughed', 'one', 'woodys', 'comedies', 'years', 'dare', 'say', 'decade', 'ive', 'never', 'impressed', 'scarlet', 'johanson', 'managed', 'tone', 'sexy', 'image', 'jumped', 'right', 'average', 'spirited', 'young', 'womanthis', 'may', 'crown', 'jewel', 'career', 'wittier', 'devil', 'wears', 'prada', 'interesting', 'superman', 'great', 'comedy', 'go', 'see', 'friends'], ['basically', 'theres', 'family', 'little', 'boy', 'jake', 'thinks', 'theres', 'zombie', 'closet', 'parents', 'fighting', 'timethis', 'movie', 'slower', 'soap', 'opera', 'suddenly', 'jake', 'decides', 'become', 'rambo', 'kill', 'zombieok', 'first', 'youre', 'going', 'make', 'film', 'must', 'decide', 'thriller', 'drama', 'drama', 'movie', 'watchable', 'parents', 'divorcing', 'arguing', 'like', 'real', 'life', 'jake', 'closet', 'totally', 'ruins', 'film', 'expected', 'see', 'boogeyman', 'similar', 'movie', 'instead', 'watched', 'drama', 'meaningless', 'thriller', 'spots', 'well', 'playing', 'parents', 'descent', 'dialogs', 'shots', 'jake', 'ignore'], ['petter', 'matteis', 'love', 'time', 'money', 'visually', 'stunning', 'film', 'watch', 'mr', 'mattei', 'offers', 'us', 'vivid', 'portrait', 'human', 'relations', 'movie', 'seems', 'telling', 'us', 'money', 'power', 'success', 'people', 'different', 'situations', 'encounter', 'variation', 'arthur', 'schnitzlers', 'play', 'theme', 'director', 'transfers', 'action', 'present', 'time', 'new', 'york', 'different', 'characters', 'meet', 'connect', 'one', 'connected', 'one', 'way', 'another', 'next', 'person', 'one', 'seems', 'know', 'previous', 'point', 'contact', 'stylishly', 'film', 'sophisticated', 'luxurious', 'look', 'taken', 'see', 'people', 'live', 'world', 'live', 'habitatthe', 'thing', 'one', 'gets', 'souls', 'picture', 'different', 'stages', 'loneliness', 'one', 'inhabits', 'big', 'city', 'exactly', 'best', 'place', 'human', 'relations', 'find', 'sincere', 'fulfillment', 'one', 'discerns', 'case', 'people', 'encounterthe', 'acting', 'good', 'mr', 'matteis', 'direction', 'steve', 'buscemi', 'rosario', 'dawson', 'carol', 'kane', 'michael', 'imperioli', 'adrian', 'grenier', 'rest', 'talented', 'cast', 'make', 'characters', 'come', 'alivewe', 'wish', 'mr', 'mattei', 'good', 'luck', 'await', 'anxiously', 'next', 'work']]\n"
          ],
          "name": "stdout"
        }
      ]
    },
    {
      "cell_type": "code",
      "metadata": {
        "colab": {
          "base_uri": "https://localhost:8080/",
          "height": 351
        },
        "id": "vL1T3aY4Zgoe",
        "outputId": "0ff3d4ac-bcd4-4cb9-be0c-47b64e25dfa1"
      },
      "source": [
        "# Ref : https://stackoverflow.com/questions/50060241/how-to-use-glove-word-embeddings-file-on-google-colaboratory\n",
        "!wget http://nlp.stanford.edu/data/glove.6B.zip"
      ],
      "execution_count": null,
      "outputs": [
        {
          "output_type": "stream",
          "text": [
            "--2020-10-22 02:53:00--  http://nlp.stanford.edu/data/glove.6B.zip\n",
            "Resolving nlp.stanford.edu (nlp.stanford.edu)... 171.64.67.140\n",
            "Connecting to nlp.stanford.edu (nlp.stanford.edu)|171.64.67.140|:80... connected.\n",
            "HTTP request sent, awaiting response... 302 Found\n",
            "Location: https://nlp.stanford.edu/data/glove.6B.zip [following]\n",
            "--2020-10-22 02:53:00--  https://nlp.stanford.edu/data/glove.6B.zip\n",
            "Connecting to nlp.stanford.edu (nlp.stanford.edu)|171.64.67.140|:443... connected.\n",
            "HTTP request sent, awaiting response... 301 Moved Permanently\n",
            "Location: http://downloads.cs.stanford.edu/nlp/data/glove.6B.zip [following]\n",
            "--2020-10-22 02:53:00--  http://downloads.cs.stanford.edu/nlp/data/glove.6B.zip\n",
            "Resolving downloads.cs.stanford.edu (downloads.cs.stanford.edu)... 171.64.64.22\n",
            "Connecting to downloads.cs.stanford.edu (downloads.cs.stanford.edu)|171.64.64.22|:80... connected.\n",
            "HTTP request sent, awaiting response... 200 OK\n",
            "Length: 862182613 (822M) [application/zip]\n",
            "Saving to: ‘glove.6B.zip.3’\n",
            "\n",
            "glove.6B.zip.3      100%[===================>] 822.24M  2.24MB/s    in 6m 27s  \n",
            "\n",
            "2020-10-22 02:59:27 (2.13 MB/s) - ‘glove.6B.zip.3’ saved [862182613/862182613]\n",
            "\n"
          ],
          "name": "stdout"
        }
      ]
    },
    {
      "cell_type": "code",
      "metadata": {
        "id": "GzMo_-cpbaLh"
      },
      "source": [
        "!unzip glove*.zip"
      ],
      "execution_count": null,
      "outputs": []
    },
    {
      "cell_type": "code",
      "metadata": {
        "id": "Y5yl-by6ZDId"
      },
      "source": [
        "# Ref : https://www.kaggle.com/shahules/basic-eda-cleaning-and-glove#Data-Cleaning \n",
        "#Glove embedding is basically a file. So in first part, it just loads a file & separate word :\n",
        "# vector value ( which is 100 D here)\n",
        "embedding_dict={}\n",
        "with open('/content/gdrive/My Drive/Colab Notebooks/Kaggle/glove.6B.100d.txt','r') as f:\n",
        "    for line in f:\n",
        "        values=line.split()\n",
        "        word=values[0]\n",
        "        vectors=np.asarray(values[1:],'float32')\n",
        "        embedding_dict[word]=vectors \n",
        "f.close()"
      ],
      "execution_count": null,
      "outputs": []
    },
    {
      "cell_type": "code",
      "metadata": {
        "id": "_h6jogt6dL5-"
      },
      "source": [
        "#Ref : https://stackoverflow.com/questions/51956000/what-does-keras-tokenizer-method-exactly-do\n",
        "MAX_LEN=50\n",
        "tokenizer_obj=Tokenizer()\n",
        "tokenizer_obj.fit_on_texts(corpus_for_glove)\n",
        "sequences=tokenizer_obj.texts_to_sequences(corpus_for_glove)\n",
        "\n",
        "review_pad=pad_sequences(sequences,maxlen=MAX_LEN,truncating='post',padding='post')"
      ],
      "execution_count": null,
      "outputs": []
    },
    {
      "cell_type": "code",
      "metadata": {
        "colab": {
          "base_uri": "https://localhost:8080/"
        },
        "id": "pCEHGfV9ZUiv",
        "outputId": "23b8860d-c9a6-45f1-ce70-48fe34af318d"
      },
      "source": [
        "word_index=tokenizer_obj.word_index\n",
        "print('Number of unique words:',len(word_index))"
      ],
      "execution_count": null,
      "outputs": [
        {
          "output_type": "stream",
          "text": [
            "Number of unique words: 214157\n"
          ],
          "name": "stdout"
        }
      ]
    },
    {
      "cell_type": "code",
      "metadata": {
        "id": "AlnI8jA9Z0HZ"
      },
      "source": [
        "print(word_index)"
      ],
      "execution_count": null,
      "outputs": []
    },
    {
      "cell_type": "code",
      "metadata": {
        "colab": {
          "base_uri": "https://localhost:8080/"
        },
        "id": "ZeegkP8Fd7JC",
        "outputId": "d235a5bf-6d52-48a3-9b8d-e4af37c2da26"
      },
      "source": [
        "#We are trying to build embedding matrix ( as LSTM(Neural Network) models consume matrix in embedding layer )\n",
        "#. Size of that matrix will be (number of unique words in corpus * 100 )\n",
        "# We are just going over  each word and filling up our own embbeding matrix from the Glove embeddings. \n",
        "#If a word in given corpus is part of embedding dict of glove we got a hit & we can get corresponding vector from Glove.\n",
        "# If there is no matching word in embedding dict\n",
        "#then it's an embedding miss & that word will have default vector ( which is a vector of size 1 * 100 with all zeros)\n",
        "\n",
        "num_words=len(word_index)+1\n",
        "embedding_matrix=np.zeros((num_words,100))\n",
        "\n",
        "for word,i in tqdm(word_index.items()):\n",
        "    if i > num_words:\n",
        "        continue\n",
        "    \n",
        "    emb_vec=embedding_dict.get(word)\n",
        "    if emb_vec is not None:\n",
        "        embedding_matrix[i]=emb_vec\n",
        "            "
      ],
      "execution_count": null,
      "outputs": [
        {
          "output_type": "stream",
          "text": [
            "100%|██████████| 214157/214157 [00:00<00:00, 818137.37it/s]\n"
          ],
          "name": "stderr"
        }
      ]
    },
    {
      "cell_type": "code",
      "metadata": {
        "colab": {
          "base_uri": "https://localhost:8080/"
        },
        "id": "EqiAxkp3bky0",
        "outputId": "d96cd340-e3d5-4187-b6a7-6d077f82d7e6"
      },
      "source": [
        "embedding_matrix"
      ],
      "execution_count": null,
      "outputs": [
        {
          "output_type": "execute_result",
          "data": {
            "text/plain": [
              "array([[ 0.        ,  0.        ,  0.        , ...,  0.        ,\n",
              "         0.        ,  0.        ],\n",
              "       [ 0.38251001,  0.14821   ,  0.60601002, ...,  0.058921  ,\n",
              "         0.091112  ,  0.47283   ],\n",
              "       [ 0.19915999, -0.049702  ,  0.24579   , ..., -0.068109  ,\n",
              "         0.017651  ,  0.06455   ],\n",
              "       ...,\n",
              "       [ 0.        ,  0.        ,  0.        , ...,  0.        ,\n",
              "         0.        ,  0.        ],\n",
              "       [ 0.        ,  0.        ,  0.        , ...,  0.        ,\n",
              "         0.        ,  0.        ],\n",
              "       [ 0.        ,  0.        ,  0.        , ...,  0.        ,\n",
              "         0.        ,  0.        ]])"
            ]
          },
          "metadata": {
            "tags": []
          },
          "execution_count": 30
        }
      ]
    },
    {
      "cell_type": "markdown",
      "metadata": {
        "id": "vG7IuaA7M9qW"
      },
      "source": [
        "##Split the available Data into Train and Test Set"
      ]
    },
    {
      "cell_type": "code",
      "metadata": {
        "colab": {
          "base_uri": "https://localhost:8080/"
        },
        "id": "8fX_WK3mfQ8k",
        "outputId": "57a92e11-1a88-4876-f2a2-7540d2d44765"
      },
      "source": [
        "print(review_pad[1:])    # Padding of the train data is required to match with the embedding matrix"
      ],
      "execution_count": null,
      "outputs": [
        {
          "output_type": "stream",
          "text": [
            "[[  275    38   249 ...   115    42  1736]\n",
            " [   96   275    26 ...  1245     3 18979]\n",
            " [  566   124   136 ...   713    10 10952]\n",
            " ...\n",
            " [ 3357  4097 41746 ...    13    36  3309]\n",
            " [   55    70  2830 ...  4594 10354    77]\n",
            " [    3  5510   230 ...   165  2134   870]]\n"
          ],
          "name": "stdout"
        }
      ]
    },
    {
      "cell_type": "code",
      "metadata": {
        "colab": {
          "base_uri": "https://localhost:8080/"
        },
        "id": "lqUC9RS3jGIM",
        "outputId": "6c41683b-0816-4684-b4cb-7697a2ee62f6"
      },
      "source": [
        "train=review_pad\n",
        "train.shape"
      ],
      "execution_count": null,
      "outputs": [
        {
          "output_type": "execute_result",
          "data": {
            "text/plain": [
              "(50000, 50)"
            ]
          },
          "metadata": {
            "tags": []
          },
          "execution_count": 32
        }
      ]
    },
    {
      "cell_type": "code",
      "metadata": {
        "colab": {
          "base_uri": "https://localhost:8080/"
        },
        "id": "SFqt8N3tjOmC",
        "outputId": "d316dcf0-231e-48a4-a3d0-284bca174876"
      },
      "source": [
        "X_train,X_test,y_train,y_test=train_test_split(train,df['sentiment'].values,test_size=0.20)\n",
        "print('Shape of train',X_train.shape)\n",
        "print(\"Shape of Test \",X_test.shape)"
      ],
      "execution_count": null,
      "outputs": [
        {
          "output_type": "stream",
          "text": [
            "Shape of train (40000, 50)\n",
            "Shape of Test  (10000, 50)\n"
          ],
          "name": "stdout"
        }
      ]
    },
    {
      "cell_type": "code",
      "metadata": {
        "colab": {
          "base_uri": "https://localhost:8080/"
        },
        "id": "nYPf5iiYL_yG",
        "outputId": "d553e2f6-5099-4ce1-b013-9402c6531c74"
      },
      "source": [
        "print(y_train)"
      ],
      "execution_count": null,
      "outputs": [
        {
          "output_type": "stream",
          "text": [
            "[1 0 0 ... 0 0 1]\n"
          ],
          "name": "stdout"
        }
      ]
    },
    {
      "cell_type": "markdown",
      "metadata": {
        "id": "MNPtnFIHeTg6"
      },
      "source": [
        "##Model 1 - LSTM "
      ]
    },
    {
      "cell_type": "code",
      "metadata": {
        "id": "jLYUJcM6eWLr"
      },
      "source": [
        "model=Sequential()\n",
        "\n",
        "embedding=Embedding(num_words,100,embeddings_initializer=Constant(embedding_matrix),\n",
        "                   input_length=MAX_LEN,trainable=False)\n",
        "\n",
        "model.add(embedding)\n",
        "model.add(SpatialDropout1D(0.2))\n",
        "model.add(LSTM(64, dropout=0.2, recurrent_dropout=0.2))\n",
        "model.add(Dense(1, activation='sigmoid'))\n",
        "\n",
        "\n",
        "optimzer=Adam(learning_rate=1e-5)\n",
        "\n",
        "model.compile(loss='binary_crossentropy',optimizer=optimzer,metrics=['accuracy'])"
      ],
      "execution_count": null,
      "outputs": []
    },
    {
      "cell_type": "code",
      "metadata": {
        "colab": {
          "base_uri": "https://localhost:8080/"
        },
        "id": "6iaWXw1JejA5",
        "outputId": "470c7511-589c-4a5a-f626-0cd73d0e073c"
      },
      "source": [
        "model.summary()"
      ],
      "execution_count": null,
      "outputs": [
        {
          "output_type": "stream",
          "text": [
            "Model: \"sequential\"\n",
            "_________________________________________________________________\n",
            "Layer (type)                 Output Shape              Param #   \n",
            "=================================================================\n",
            "embedding (Embedding)        (None, 50, 100)           21415800  \n",
            "_________________________________________________________________\n",
            "spatial_dropout1d (SpatialDr (None, 50, 100)           0         \n",
            "_________________________________________________________________\n",
            "lstm (LSTM)                  (None, 64)                42240     \n",
            "_________________________________________________________________\n",
            "dense (Dense)                (None, 1)                 65        \n",
            "=================================================================\n",
            "Total params: 21,458,105\n",
            "Trainable params: 42,305\n",
            "Non-trainable params: 21,415,800\n",
            "_________________________________________________________________\n"
          ],
          "name": "stdout"
        }
      ]
    },
    {
      "cell_type": "code",
      "metadata": {
        "id": "FViUY2VZb9RI"
      },
      "source": [
        "callback = tf.keras.callbacks.EarlyStopping(monitor='val_loss', patience=16)"
      ],
      "execution_count": null,
      "outputs": []
    },
    {
      "cell_type": "code",
      "metadata": {
        "colab": {
          "base_uri": "https://localhost:8080/"
        },
        "id": "JlyUoQUNjZ0r",
        "outputId": "9cfcc76a-e6e7-4666-b19e-a4ccc020c3dc"
      },
      "source": [
        "BATCH_SIZE= 2000\n",
        "EPOCHS = 1000\n",
        "history=model.fit(X_train,y_train,batch_size=BATCH_SIZE,epochs=EPOCHS,validation_split=0.2,verbose=2, callbacks = [callback])"
      ],
      "execution_count": null,
      "outputs": [
        {
          "output_type": "stream",
          "text": [
            "Epoch 1/1000\n",
            "16/16 - 2s - loss: 0.7038 - accuracy: 0.4981 - val_loss: 0.7020 - val_accuracy: 0.4934\n",
            "Epoch 2/1000\n",
            "16/16 - 1s - loss: 0.7032 - accuracy: 0.4919 - val_loss: 0.7000 - val_accuracy: 0.4935\n",
            "Epoch 3/1000\n",
            "16/16 - 1s - loss: 0.7015 - accuracy: 0.4973 - val_loss: 0.6984 - val_accuracy: 0.4911\n",
            "Epoch 4/1000\n",
            "16/16 - 1s - loss: 0.6997 - accuracy: 0.4963 - val_loss: 0.6971 - val_accuracy: 0.4951\n",
            "Epoch 5/1000\n",
            "16/16 - 1s - loss: 0.6986 - accuracy: 0.5001 - val_loss: 0.6960 - val_accuracy: 0.5008\n",
            "Epoch 6/1000\n",
            "16/16 - 1s - loss: 0.6985 - accuracy: 0.4992 - val_loss: 0.6950 - val_accuracy: 0.5064\n",
            "Epoch 7/1000\n",
            "16/16 - 1s - loss: 0.6971 - accuracy: 0.5014 - val_loss: 0.6942 - val_accuracy: 0.5081\n",
            "Epoch 8/1000\n",
            "16/16 - 1s - loss: 0.6965 - accuracy: 0.5048 - val_loss: 0.6934 - val_accuracy: 0.5148\n",
            "Epoch 9/1000\n",
            "16/16 - 1s - loss: 0.6967 - accuracy: 0.5038 - val_loss: 0.6927 - val_accuracy: 0.5169\n",
            "Epoch 10/1000\n",
            "16/16 - 1s - loss: 0.6958 - accuracy: 0.5077 - val_loss: 0.6921 - val_accuracy: 0.5179\n",
            "Epoch 11/1000\n",
            "16/16 - 1s - loss: 0.6952 - accuracy: 0.5102 - val_loss: 0.6915 - val_accuracy: 0.5197\n",
            "Epoch 12/1000\n",
            "16/16 - 1s - loss: 0.6948 - accuracy: 0.5117 - val_loss: 0.6909 - val_accuracy: 0.5224\n",
            "Epoch 13/1000\n",
            "16/16 - 1s - loss: 0.6938 - accuracy: 0.5151 - val_loss: 0.6904 - val_accuracy: 0.5247\n",
            "Epoch 14/1000\n",
            "16/16 - 1s - loss: 0.6941 - accuracy: 0.5161 - val_loss: 0.6898 - val_accuracy: 0.5284\n",
            "Epoch 15/1000\n",
            "16/16 - 1s - loss: 0.6928 - accuracy: 0.5205 - val_loss: 0.6893 - val_accuracy: 0.5318\n",
            "Epoch 16/1000\n",
            "16/16 - 1s - loss: 0.6927 - accuracy: 0.5158 - val_loss: 0.6888 - val_accuracy: 0.5341\n",
            "Epoch 17/1000\n",
            "16/16 - 1s - loss: 0.6927 - accuracy: 0.5168 - val_loss: 0.6882 - val_accuracy: 0.5351\n",
            "Epoch 18/1000\n",
            "16/16 - 1s - loss: 0.6914 - accuracy: 0.5259 - val_loss: 0.6877 - val_accuracy: 0.5384\n",
            "Epoch 19/1000\n",
            "16/16 - 1s - loss: 0.6902 - accuracy: 0.5299 - val_loss: 0.6872 - val_accuracy: 0.5410\n",
            "Epoch 20/1000\n",
            "16/16 - 1s - loss: 0.6901 - accuracy: 0.5311 - val_loss: 0.6867 - val_accuracy: 0.5433\n",
            "Epoch 21/1000\n",
            "16/16 - 1s - loss: 0.6904 - accuracy: 0.5267 - val_loss: 0.6862 - val_accuracy: 0.5444\n",
            "Epoch 22/1000\n",
            "16/16 - 1s - loss: 0.6888 - accuracy: 0.5343 - val_loss: 0.6857 - val_accuracy: 0.5468\n",
            "Epoch 23/1000\n",
            "16/16 - 1s - loss: 0.6887 - accuracy: 0.5365 - val_loss: 0.6852 - val_accuracy: 0.5484\n",
            "Epoch 24/1000\n",
            "16/16 - 1s - loss: 0.6888 - accuracy: 0.5326 - val_loss: 0.6847 - val_accuracy: 0.5504\n",
            "Epoch 25/1000\n",
            "16/16 - 1s - loss: 0.6875 - accuracy: 0.5402 - val_loss: 0.6842 - val_accuracy: 0.5543\n",
            "Epoch 26/1000\n",
            "16/16 - 1s - loss: 0.6873 - accuracy: 0.5408 - val_loss: 0.6837 - val_accuracy: 0.5567\n",
            "Epoch 27/1000\n",
            "16/16 - 1s - loss: 0.6873 - accuracy: 0.5434 - val_loss: 0.6832 - val_accuracy: 0.5602\n",
            "Epoch 28/1000\n",
            "16/16 - 1s - loss: 0.6871 - accuracy: 0.5422 - val_loss: 0.6826 - val_accuracy: 0.5627\n",
            "Epoch 29/1000\n",
            "16/16 - 1s - loss: 0.6855 - accuracy: 0.5496 - val_loss: 0.6821 - val_accuracy: 0.5646\n",
            "Epoch 30/1000\n",
            "16/16 - 1s - loss: 0.6859 - accuracy: 0.5485 - val_loss: 0.6816 - val_accuracy: 0.5664\n",
            "Epoch 31/1000\n",
            "16/16 - 1s - loss: 0.6851 - accuracy: 0.5513 - val_loss: 0.6810 - val_accuracy: 0.5705\n",
            "Epoch 32/1000\n",
            "16/16 - 1s - loss: 0.6844 - accuracy: 0.5568 - val_loss: 0.6805 - val_accuracy: 0.5734\n",
            "Epoch 33/1000\n",
            "16/16 - 1s - loss: 0.6838 - accuracy: 0.5583 - val_loss: 0.6799 - val_accuracy: 0.5771\n",
            "Epoch 34/1000\n",
            "16/16 - 1s - loss: 0.6838 - accuracy: 0.5588 - val_loss: 0.6794 - val_accuracy: 0.5813\n",
            "Epoch 35/1000\n",
            "16/16 - 1s - loss: 0.6833 - accuracy: 0.5608 - val_loss: 0.6788 - val_accuracy: 0.5828\n",
            "Epoch 36/1000\n",
            "16/16 - 1s - loss: 0.6823 - accuracy: 0.5680 - val_loss: 0.6783 - val_accuracy: 0.5839\n",
            "Epoch 37/1000\n",
            "16/16 - 1s - loss: 0.6818 - accuracy: 0.5682 - val_loss: 0.6777 - val_accuracy: 0.5847\n",
            "Epoch 38/1000\n",
            "16/16 - 1s - loss: 0.6808 - accuracy: 0.5694 - val_loss: 0.6771 - val_accuracy: 0.5876\n",
            "Epoch 39/1000\n",
            "16/16 - 1s - loss: 0.6814 - accuracy: 0.5676 - val_loss: 0.6764 - val_accuracy: 0.5888\n",
            "Epoch 40/1000\n",
            "16/16 - 1s - loss: 0.6815 - accuracy: 0.5688 - val_loss: 0.6758 - val_accuracy: 0.5891\n",
            "Epoch 41/1000\n",
            "16/16 - 1s - loss: 0.6795 - accuracy: 0.5743 - val_loss: 0.6752 - val_accuracy: 0.5920\n",
            "Epoch 42/1000\n",
            "16/16 - 1s - loss: 0.6798 - accuracy: 0.5740 - val_loss: 0.6745 - val_accuracy: 0.5944\n",
            "Epoch 43/1000\n",
            "16/16 - 1s - loss: 0.6782 - accuracy: 0.5787 - val_loss: 0.6738 - val_accuracy: 0.5966\n",
            "Epoch 44/1000\n",
            "16/16 - 1s - loss: 0.6775 - accuracy: 0.5786 - val_loss: 0.6731 - val_accuracy: 0.5997\n",
            "Epoch 45/1000\n",
            "16/16 - 1s - loss: 0.6775 - accuracy: 0.5807 - val_loss: 0.6724 - val_accuracy: 0.6005\n",
            "Epoch 46/1000\n",
            "16/16 - 1s - loss: 0.6769 - accuracy: 0.5830 - val_loss: 0.6716 - val_accuracy: 0.6016\n",
            "Epoch 47/1000\n",
            "16/16 - 1s - loss: 0.6759 - accuracy: 0.5847 - val_loss: 0.6709 - val_accuracy: 0.6016\n",
            "Epoch 48/1000\n",
            "16/16 - 1s - loss: 0.6762 - accuracy: 0.5842 - val_loss: 0.6701 - val_accuracy: 0.6025\n",
            "Epoch 49/1000\n",
            "16/16 - 1s - loss: 0.6748 - accuracy: 0.5884 - val_loss: 0.6692 - val_accuracy: 0.6041\n",
            "Epoch 50/1000\n",
            "16/16 - 1s - loss: 0.6747 - accuracy: 0.5852 - val_loss: 0.6684 - val_accuracy: 0.6055\n",
            "Epoch 51/1000\n",
            "16/16 - 1s - loss: 0.6741 - accuracy: 0.5908 - val_loss: 0.6675 - val_accuracy: 0.6055\n",
            "Epoch 52/1000\n",
            "16/16 - 1s - loss: 0.6733 - accuracy: 0.5903 - val_loss: 0.6665 - val_accuracy: 0.6074\n",
            "Epoch 53/1000\n",
            "16/16 - 1s - loss: 0.6717 - accuracy: 0.5915 - val_loss: 0.6655 - val_accuracy: 0.6102\n",
            "Epoch 54/1000\n",
            "16/16 - 1s - loss: 0.6710 - accuracy: 0.5944 - val_loss: 0.6645 - val_accuracy: 0.6127\n",
            "Epoch 55/1000\n",
            "16/16 - 1s - loss: 0.6709 - accuracy: 0.5961 - val_loss: 0.6633 - val_accuracy: 0.6149\n",
            "Epoch 56/1000\n",
            "16/16 - 1s - loss: 0.6695 - accuracy: 0.6015 - val_loss: 0.6622 - val_accuracy: 0.6170\n",
            "Epoch 57/1000\n",
            "16/16 - 1s - loss: 0.6687 - accuracy: 0.6012 - val_loss: 0.6609 - val_accuracy: 0.6180\n",
            "Epoch 58/1000\n",
            "16/16 - 1s - loss: 0.6679 - accuracy: 0.6044 - val_loss: 0.6596 - val_accuracy: 0.6195\n",
            "Epoch 59/1000\n",
            "16/16 - 1s - loss: 0.6678 - accuracy: 0.6017 - val_loss: 0.6582 - val_accuracy: 0.6225\n",
            "Epoch 60/1000\n",
            "16/16 - 1s - loss: 0.6664 - accuracy: 0.6012 - val_loss: 0.6567 - val_accuracy: 0.6244\n",
            "Epoch 61/1000\n",
            "16/16 - 1s - loss: 0.6647 - accuracy: 0.6091 - val_loss: 0.6551 - val_accuracy: 0.6270\n",
            "Epoch 62/1000\n",
            "16/16 - 1s - loss: 0.6640 - accuracy: 0.6083 - val_loss: 0.6534 - val_accuracy: 0.6291\n",
            "Epoch 63/1000\n",
            "16/16 - 1s - loss: 0.6628 - accuracy: 0.6115 - val_loss: 0.6515 - val_accuracy: 0.6335\n",
            "Epoch 64/1000\n",
            "16/16 - 1s - loss: 0.6611 - accuracy: 0.6149 - val_loss: 0.6495 - val_accuracy: 0.6361\n",
            "Epoch 65/1000\n",
            "16/16 - 1s - loss: 0.6597 - accuracy: 0.6141 - val_loss: 0.6473 - val_accuracy: 0.6384\n",
            "Epoch 66/1000\n",
            "16/16 - 1s - loss: 0.6590 - accuracy: 0.6148 - val_loss: 0.6449 - val_accuracy: 0.6420\n",
            "Epoch 67/1000\n",
            "16/16 - 1s - loss: 0.6576 - accuracy: 0.6189 - val_loss: 0.6424 - val_accuracy: 0.6441\n",
            "Epoch 68/1000\n",
            "16/16 - 1s - loss: 0.6550 - accuracy: 0.6246 - val_loss: 0.6396 - val_accuracy: 0.6486\n",
            "Epoch 69/1000\n",
            "16/16 - 1s - loss: 0.6530 - accuracy: 0.6253 - val_loss: 0.6366 - val_accuracy: 0.6520\n",
            "Epoch 70/1000\n",
            "16/16 - 1s - loss: 0.6512 - accuracy: 0.6302 - val_loss: 0.6333 - val_accuracy: 0.6562\n",
            "Epoch 71/1000\n",
            "16/16 - 1s - loss: 0.6483 - accuracy: 0.6321 - val_loss: 0.6299 - val_accuracy: 0.6601\n",
            "Epoch 72/1000\n",
            "16/16 - 1s - loss: 0.6459 - accuracy: 0.6376 - val_loss: 0.6262 - val_accuracy: 0.6615\n",
            "Epoch 73/1000\n",
            "16/16 - 1s - loss: 0.6436 - accuracy: 0.6386 - val_loss: 0.6222 - val_accuracy: 0.6651\n",
            "Epoch 74/1000\n",
            "16/16 - 1s - loss: 0.6423 - accuracy: 0.6397 - val_loss: 0.6183 - val_accuracy: 0.6672\n",
            "Epoch 75/1000\n",
            "16/16 - 1s - loss: 0.6400 - accuracy: 0.6432 - val_loss: 0.6144 - val_accuracy: 0.6712\n",
            "Epoch 76/1000\n",
            "16/16 - 1s - loss: 0.6347 - accuracy: 0.6463 - val_loss: 0.6105 - val_accuracy: 0.6749\n",
            "Epoch 77/1000\n",
            "16/16 - 1s - loss: 0.6348 - accuracy: 0.6467 - val_loss: 0.6070 - val_accuracy: 0.6765\n",
            "Epoch 78/1000\n",
            "16/16 - 1s - loss: 0.6320 - accuracy: 0.6500 - val_loss: 0.6039 - val_accuracy: 0.6800\n",
            "Epoch 79/1000\n",
            "16/16 - 1s - loss: 0.6268 - accuracy: 0.6539 - val_loss: 0.6013 - val_accuracy: 0.6821\n",
            "Epoch 80/1000\n",
            "16/16 - 1s - loss: 0.6253 - accuracy: 0.6567 - val_loss: 0.5994 - val_accuracy: 0.6845\n",
            "Epoch 81/1000\n",
            "16/16 - 1s - loss: 0.6235 - accuracy: 0.6570 - val_loss: 0.5978 - val_accuracy: 0.6840\n",
            "Epoch 82/1000\n",
            "16/16 - 1s - loss: 0.6224 - accuracy: 0.6590 - val_loss: 0.5961 - val_accuracy: 0.6861\n",
            "Epoch 83/1000\n",
            "16/16 - 1s - loss: 0.6168 - accuracy: 0.6650 - val_loss: 0.5962 - val_accuracy: 0.6866\n",
            "Epoch 84/1000\n",
            "16/16 - 1s - loss: 0.6156 - accuracy: 0.6648 - val_loss: 0.5953 - val_accuracy: 0.6870\n",
            "Epoch 85/1000\n",
            "16/16 - 1s - loss: 0.6122 - accuracy: 0.6721 - val_loss: 0.5949 - val_accuracy: 0.6889\n",
            "Epoch 86/1000\n",
            "16/16 - 1s - loss: 0.6108 - accuracy: 0.6701 - val_loss: 0.5943 - val_accuracy: 0.6892\n",
            "Epoch 87/1000\n",
            "16/16 - 1s - loss: 0.6125 - accuracy: 0.6696 - val_loss: 0.5940 - val_accuracy: 0.6924\n",
            "Epoch 88/1000\n",
            "16/16 - 1s - loss: 0.6113 - accuracy: 0.6711 - val_loss: 0.5931 - val_accuracy: 0.6933\n",
            "Epoch 89/1000\n",
            "16/16 - 1s - loss: 0.6078 - accuracy: 0.6766 - val_loss: 0.5926 - val_accuracy: 0.6957\n",
            "Epoch 90/1000\n",
            "16/16 - 1s - loss: 0.6080 - accuracy: 0.6718 - val_loss: 0.5912 - val_accuracy: 0.6973\n",
            "Epoch 91/1000\n",
            "16/16 - 1s - loss: 0.6034 - accuracy: 0.6783 - val_loss: 0.5913 - val_accuracy: 0.6981\n",
            "Epoch 92/1000\n",
            "16/16 - 1s - loss: 0.6024 - accuracy: 0.6784 - val_loss: 0.5903 - val_accuracy: 0.6991\n",
            "Epoch 93/1000\n",
            "16/16 - 1s - loss: 0.6018 - accuracy: 0.6816 - val_loss: 0.5887 - val_accuracy: 0.7003\n",
            "Epoch 94/1000\n",
            "16/16 - 1s - loss: 0.6010 - accuracy: 0.6812 - val_loss: 0.5888 - val_accuracy: 0.7014\n",
            "Epoch 95/1000\n",
            "16/16 - 1s - loss: 0.6005 - accuracy: 0.6798 - val_loss: 0.5880 - val_accuracy: 0.7006\n",
            "Epoch 96/1000\n",
            "16/16 - 1s - loss: 0.6001 - accuracy: 0.6809 - val_loss: 0.5873 - val_accuracy: 0.7006\n",
            "Epoch 97/1000\n",
            "16/16 - 1s - loss: 0.5988 - accuracy: 0.6825 - val_loss: 0.5851 - val_accuracy: 0.7014\n",
            "Epoch 98/1000\n",
            "16/16 - 1s - loss: 0.5969 - accuracy: 0.6823 - val_loss: 0.5850 - val_accuracy: 0.7019\n",
            "Epoch 99/1000\n",
            "16/16 - 1s - loss: 0.5939 - accuracy: 0.6876 - val_loss: 0.5837 - val_accuracy: 0.7026\n",
            "Epoch 100/1000\n",
            "16/16 - 1s - loss: 0.5957 - accuracy: 0.6854 - val_loss: 0.5836 - val_accuracy: 0.7035\n",
            "Epoch 101/1000\n",
            "16/16 - 1s - loss: 0.5941 - accuracy: 0.6862 - val_loss: 0.5830 - val_accuracy: 0.7045\n",
            "Epoch 102/1000\n",
            "16/16 - 1s - loss: 0.5942 - accuracy: 0.6858 - val_loss: 0.5820 - val_accuracy: 0.7060\n",
            "Epoch 103/1000\n",
            "16/16 - 1s - loss: 0.5924 - accuracy: 0.6907 - val_loss: 0.5817 - val_accuracy: 0.7056\n",
            "Epoch 104/1000\n",
            "16/16 - 1s - loss: 0.5910 - accuracy: 0.6905 - val_loss: 0.5796 - val_accuracy: 0.7078\n",
            "Epoch 105/1000\n",
            "16/16 - 1s - loss: 0.5900 - accuracy: 0.6893 - val_loss: 0.5799 - val_accuracy: 0.7069\n",
            "Epoch 106/1000\n",
            "16/16 - 1s - loss: 0.5895 - accuracy: 0.6931 - val_loss: 0.5782 - val_accuracy: 0.7088\n",
            "Epoch 107/1000\n",
            "16/16 - 1s - loss: 0.5892 - accuracy: 0.6929 - val_loss: 0.5797 - val_accuracy: 0.7067\n",
            "Epoch 108/1000\n",
            "16/16 - 1s - loss: 0.5868 - accuracy: 0.6930 - val_loss: 0.5769 - val_accuracy: 0.7088\n",
            "Epoch 109/1000\n",
            "16/16 - 1s - loss: 0.5879 - accuracy: 0.6933 - val_loss: 0.5771 - val_accuracy: 0.7079\n",
            "Epoch 110/1000\n",
            "16/16 - 1s - loss: 0.5871 - accuracy: 0.6925 - val_loss: 0.5759 - val_accuracy: 0.7096\n",
            "Epoch 111/1000\n",
            "16/16 - 1s - loss: 0.5863 - accuracy: 0.6966 - val_loss: 0.5755 - val_accuracy: 0.7092\n",
            "Epoch 112/1000\n",
            "16/16 - 1s - loss: 0.5868 - accuracy: 0.6921 - val_loss: 0.5744 - val_accuracy: 0.7110\n",
            "Epoch 113/1000\n",
            "16/16 - 1s - loss: 0.5858 - accuracy: 0.6944 - val_loss: 0.5749 - val_accuracy: 0.7107\n",
            "Epoch 114/1000\n",
            "16/16 - 1s - loss: 0.5843 - accuracy: 0.6942 - val_loss: 0.5725 - val_accuracy: 0.7121\n",
            "Epoch 115/1000\n",
            "16/16 - 1s - loss: 0.5827 - accuracy: 0.6971 - val_loss: 0.5739 - val_accuracy: 0.7111\n",
            "Epoch 116/1000\n",
            "16/16 - 1s - loss: 0.5839 - accuracy: 0.6967 - val_loss: 0.5729 - val_accuracy: 0.7113\n",
            "Epoch 117/1000\n",
            "16/16 - 1s - loss: 0.5827 - accuracy: 0.6949 - val_loss: 0.5729 - val_accuracy: 0.7117\n",
            "Epoch 118/1000\n",
            "16/16 - 1s - loss: 0.5823 - accuracy: 0.6976 - val_loss: 0.5716 - val_accuracy: 0.7131\n",
            "Epoch 119/1000\n",
            "16/16 - 1s - loss: 0.5825 - accuracy: 0.6975 - val_loss: 0.5698 - val_accuracy: 0.7139\n",
            "Epoch 120/1000\n",
            "16/16 - 1s - loss: 0.5794 - accuracy: 0.7020 - val_loss: 0.5706 - val_accuracy: 0.7132\n",
            "Epoch 121/1000\n",
            "16/16 - 1s - loss: 0.5807 - accuracy: 0.6973 - val_loss: 0.5705 - val_accuracy: 0.7138\n",
            "Epoch 122/1000\n",
            "16/16 - 1s - loss: 0.5786 - accuracy: 0.7009 - val_loss: 0.5703 - val_accuracy: 0.7134\n",
            "Epoch 123/1000\n",
            "16/16 - 1s - loss: 0.5811 - accuracy: 0.6981 - val_loss: 0.5685 - val_accuracy: 0.7149\n",
            "Epoch 124/1000\n",
            "16/16 - 1s - loss: 0.5804 - accuracy: 0.6966 - val_loss: 0.5688 - val_accuracy: 0.7144\n",
            "Epoch 125/1000\n",
            "16/16 - 1s - loss: 0.5781 - accuracy: 0.7010 - val_loss: 0.5687 - val_accuracy: 0.7153\n",
            "Epoch 126/1000\n",
            "16/16 - 1s - loss: 0.5772 - accuracy: 0.7003 - val_loss: 0.5679 - val_accuracy: 0.7160\n",
            "Epoch 127/1000\n",
            "16/16 - 1s - loss: 0.5769 - accuracy: 0.7003 - val_loss: 0.5684 - val_accuracy: 0.7153\n",
            "Epoch 128/1000\n",
            "16/16 - 1s - loss: 0.5783 - accuracy: 0.7005 - val_loss: 0.5682 - val_accuracy: 0.7161\n",
            "Epoch 129/1000\n",
            "16/16 - 1s - loss: 0.5766 - accuracy: 0.7032 - val_loss: 0.5652 - val_accuracy: 0.7166\n",
            "Epoch 130/1000\n",
            "16/16 - 1s - loss: 0.5751 - accuracy: 0.7029 - val_loss: 0.5661 - val_accuracy: 0.7160\n",
            "Epoch 131/1000\n",
            "16/16 - 1s - loss: 0.5755 - accuracy: 0.7032 - val_loss: 0.5667 - val_accuracy: 0.7164\n",
            "Epoch 132/1000\n",
            "16/16 - 1s - loss: 0.5756 - accuracy: 0.7010 - val_loss: 0.5642 - val_accuracy: 0.7171\n",
            "Epoch 133/1000\n",
            "16/16 - 1s - loss: 0.5750 - accuracy: 0.7048 - val_loss: 0.5646 - val_accuracy: 0.7181\n",
            "Epoch 134/1000\n",
            "16/16 - 1s - loss: 0.5738 - accuracy: 0.7038 - val_loss: 0.5638 - val_accuracy: 0.7188\n",
            "Epoch 135/1000\n",
            "16/16 - 1s - loss: 0.5733 - accuracy: 0.7058 - val_loss: 0.5661 - val_accuracy: 0.7172\n",
            "Epoch 136/1000\n",
            "16/16 - 1s - loss: 0.5738 - accuracy: 0.7042 - val_loss: 0.5627 - val_accuracy: 0.7189\n",
            "Epoch 137/1000\n",
            "16/16 - 1s - loss: 0.5742 - accuracy: 0.7040 - val_loss: 0.5633 - val_accuracy: 0.7188\n",
            "Epoch 138/1000\n",
            "16/16 - 1s - loss: 0.5725 - accuracy: 0.7047 - val_loss: 0.5616 - val_accuracy: 0.7191\n",
            "Epoch 139/1000\n",
            "16/16 - 1s - loss: 0.5721 - accuracy: 0.7060 - val_loss: 0.5641 - val_accuracy: 0.7172\n",
            "Epoch 140/1000\n",
            "16/16 - 1s - loss: 0.5738 - accuracy: 0.7041 - val_loss: 0.5614 - val_accuracy: 0.7189\n",
            "Epoch 141/1000\n",
            "16/16 - 1s - loss: 0.5702 - accuracy: 0.7076 - val_loss: 0.5606 - val_accuracy: 0.7205\n",
            "Epoch 142/1000\n",
            "16/16 - 1s - loss: 0.5723 - accuracy: 0.7052 - val_loss: 0.5620 - val_accuracy: 0.7194\n",
            "Epoch 143/1000\n",
            "16/16 - 1s - loss: 0.5706 - accuracy: 0.7075 - val_loss: 0.5611 - val_accuracy: 0.7195\n",
            "Epoch 144/1000\n",
            "16/16 - 1s - loss: 0.5742 - accuracy: 0.7035 - val_loss: 0.5588 - val_accuracy: 0.7210\n",
            "Epoch 145/1000\n",
            "16/16 - 1s - loss: 0.5688 - accuracy: 0.7066 - val_loss: 0.5617 - val_accuracy: 0.7201\n",
            "Epoch 146/1000\n",
            "16/16 - 1s - loss: 0.5678 - accuracy: 0.7098 - val_loss: 0.5591 - val_accuracy: 0.7210\n",
            "Epoch 147/1000\n",
            "16/16 - 1s - loss: 0.5704 - accuracy: 0.7061 - val_loss: 0.5601 - val_accuracy: 0.7211\n",
            "Epoch 148/1000\n",
            "16/16 - 1s - loss: 0.5695 - accuracy: 0.7100 - val_loss: 0.5587 - val_accuracy: 0.7214\n",
            "Epoch 149/1000\n",
            "16/16 - 1s - loss: 0.5688 - accuracy: 0.7075 - val_loss: 0.5600 - val_accuracy: 0.7216\n",
            "Epoch 150/1000\n",
            "16/16 - 1s - loss: 0.5683 - accuracy: 0.7083 - val_loss: 0.5582 - val_accuracy: 0.7216\n",
            "Epoch 151/1000\n",
            "16/16 - 1s - loss: 0.5692 - accuracy: 0.7067 - val_loss: 0.5602 - val_accuracy: 0.7210\n",
            "Epoch 152/1000\n",
            "16/16 - 1s - loss: 0.5675 - accuracy: 0.7100 - val_loss: 0.5593 - val_accuracy: 0.7218\n",
            "Epoch 153/1000\n",
            "16/16 - 1s - loss: 0.5682 - accuracy: 0.7078 - val_loss: 0.5574 - val_accuracy: 0.7232\n",
            "Epoch 154/1000\n",
            "16/16 - 1s - loss: 0.5695 - accuracy: 0.7079 - val_loss: 0.5556 - val_accuracy: 0.7241\n",
            "Epoch 155/1000\n",
            "16/16 - 1s - loss: 0.5679 - accuracy: 0.7073 - val_loss: 0.5575 - val_accuracy: 0.7236\n",
            "Epoch 156/1000\n",
            "16/16 - 1s - loss: 0.5686 - accuracy: 0.7064 - val_loss: 0.5549 - val_accuracy: 0.7254\n",
            "Epoch 157/1000\n",
            "16/16 - 1s - loss: 0.5659 - accuracy: 0.7082 - val_loss: 0.5559 - val_accuracy: 0.7236\n",
            "Epoch 158/1000\n",
            "16/16 - 1s - loss: 0.5640 - accuracy: 0.7121 - val_loss: 0.5562 - val_accuracy: 0.7245\n",
            "Epoch 159/1000\n",
            "16/16 - 1s - loss: 0.5676 - accuracy: 0.7099 - val_loss: 0.5561 - val_accuracy: 0.7246\n",
            "Epoch 160/1000\n",
            "16/16 - 1s - loss: 0.5667 - accuracy: 0.7111 - val_loss: 0.5570 - val_accuracy: 0.7231\n",
            "Epoch 161/1000\n",
            "16/16 - 1s - loss: 0.5677 - accuracy: 0.7090 - val_loss: 0.5551 - val_accuracy: 0.7259\n",
            "Epoch 162/1000\n",
            "16/16 - 1s - loss: 0.5663 - accuracy: 0.7100 - val_loss: 0.5550 - val_accuracy: 0.7250\n",
            "Epoch 163/1000\n",
            "16/16 - 1s - loss: 0.5662 - accuracy: 0.7117 - val_loss: 0.5533 - val_accuracy: 0.7269\n",
            "Epoch 164/1000\n",
            "16/16 - 1s - loss: 0.5644 - accuracy: 0.7118 - val_loss: 0.5566 - val_accuracy: 0.7230\n",
            "Epoch 165/1000\n",
            "16/16 - 1s - loss: 0.5689 - accuracy: 0.7076 - val_loss: 0.5540 - val_accuracy: 0.7260\n",
            "Epoch 166/1000\n",
            "16/16 - 1s - loss: 0.5646 - accuracy: 0.7101 - val_loss: 0.5544 - val_accuracy: 0.7249\n",
            "Epoch 167/1000\n",
            "16/16 - 1s - loss: 0.5655 - accuracy: 0.7109 - val_loss: 0.5558 - val_accuracy: 0.7237\n",
            "Epoch 168/1000\n",
            "16/16 - 1s - loss: 0.5626 - accuracy: 0.7124 - val_loss: 0.5535 - val_accuracy: 0.7255\n",
            "Epoch 169/1000\n",
            "16/16 - 1s - loss: 0.5663 - accuracy: 0.7077 - val_loss: 0.5547 - val_accuracy: 0.7241\n",
            "Epoch 170/1000\n",
            "16/16 - 1s - loss: 0.5633 - accuracy: 0.7113 - val_loss: 0.5532 - val_accuracy: 0.7259\n",
            "Epoch 171/1000\n",
            "16/16 - 1s - loss: 0.5648 - accuracy: 0.7108 - val_loss: 0.5529 - val_accuracy: 0.7253\n",
            "Epoch 172/1000\n",
            "16/16 - 1s - loss: 0.5621 - accuracy: 0.7132 - val_loss: 0.5534 - val_accuracy: 0.7251\n",
            "Epoch 173/1000\n",
            "16/16 - 1s - loss: 0.5623 - accuracy: 0.7120 - val_loss: 0.5532 - val_accuracy: 0.7250\n",
            "Epoch 174/1000\n",
            "16/16 - 1s - loss: 0.5638 - accuracy: 0.7121 - val_loss: 0.5530 - val_accuracy: 0.7251\n",
            "Epoch 175/1000\n",
            "16/16 - 1s - loss: 0.5611 - accuracy: 0.7121 - val_loss: 0.5526 - val_accuracy: 0.7260\n",
            "Epoch 176/1000\n",
            "16/16 - 1s - loss: 0.5640 - accuracy: 0.7098 - val_loss: 0.5513 - val_accuracy: 0.7261\n",
            "Epoch 177/1000\n",
            "16/16 - 1s - loss: 0.5643 - accuracy: 0.7134 - val_loss: 0.5526 - val_accuracy: 0.7261\n",
            "Epoch 178/1000\n",
            "16/16 - 1s - loss: 0.5626 - accuracy: 0.7113 - val_loss: 0.5514 - val_accuracy: 0.7255\n",
            "Epoch 179/1000\n",
            "16/16 - 1s - loss: 0.5617 - accuracy: 0.7142 - val_loss: 0.5513 - val_accuracy: 0.7258\n",
            "Epoch 180/1000\n",
            "16/16 - 1s - loss: 0.5643 - accuracy: 0.7098 - val_loss: 0.5502 - val_accuracy: 0.7260\n",
            "Epoch 181/1000\n",
            "16/16 - 1s - loss: 0.5618 - accuracy: 0.7135 - val_loss: 0.5505 - val_accuracy: 0.7259\n",
            "Epoch 182/1000\n",
            "16/16 - 1s - loss: 0.5604 - accuracy: 0.7135 - val_loss: 0.5517 - val_accuracy: 0.7256\n",
            "Epoch 183/1000\n",
            "16/16 - 1s - loss: 0.5607 - accuracy: 0.7168 - val_loss: 0.5515 - val_accuracy: 0.7255\n",
            "Epoch 184/1000\n",
            "16/16 - 1s - loss: 0.5607 - accuracy: 0.7120 - val_loss: 0.5523 - val_accuracy: 0.7256\n",
            "Epoch 185/1000\n",
            "16/16 - 1s - loss: 0.5616 - accuracy: 0.7122 - val_loss: 0.5510 - val_accuracy: 0.7259\n",
            "Epoch 186/1000\n",
            "16/16 - 1s - loss: 0.5598 - accuracy: 0.7143 - val_loss: 0.5511 - val_accuracy: 0.7258\n",
            "Epoch 187/1000\n",
            "16/16 - 1s - loss: 0.5584 - accuracy: 0.7159 - val_loss: 0.5518 - val_accuracy: 0.7261\n",
            "Epoch 188/1000\n",
            "16/16 - 1s - loss: 0.5604 - accuracy: 0.7149 - val_loss: 0.5509 - val_accuracy: 0.7268\n",
            "Epoch 189/1000\n",
            "16/16 - 1s - loss: 0.5586 - accuracy: 0.7150 - val_loss: 0.5494 - val_accuracy: 0.7276\n",
            "Epoch 190/1000\n",
            "16/16 - 1s - loss: 0.5614 - accuracy: 0.7111 - val_loss: 0.5518 - val_accuracy: 0.7266\n",
            "Epoch 191/1000\n",
            "16/16 - 1s - loss: 0.5598 - accuracy: 0.7126 - val_loss: 0.5472 - val_accuracy: 0.7281\n",
            "Epoch 192/1000\n",
            "16/16 - 1s - loss: 0.5600 - accuracy: 0.7137 - val_loss: 0.5498 - val_accuracy: 0.7270\n",
            "Epoch 193/1000\n",
            "16/16 - 1s - loss: 0.5569 - accuracy: 0.7158 - val_loss: 0.5484 - val_accuracy: 0.7280\n",
            "Epoch 194/1000\n",
            "16/16 - 1s - loss: 0.5599 - accuracy: 0.7145 - val_loss: 0.5509 - val_accuracy: 0.7270\n",
            "Epoch 195/1000\n",
            "16/16 - 1s - loss: 0.5605 - accuracy: 0.7133 - val_loss: 0.5473 - val_accuracy: 0.7290\n",
            "Epoch 196/1000\n",
            "16/16 - 1s - loss: 0.5592 - accuracy: 0.7133 - val_loss: 0.5476 - val_accuracy: 0.7290\n",
            "Epoch 197/1000\n",
            "16/16 - 1s - loss: 0.5586 - accuracy: 0.7153 - val_loss: 0.5483 - val_accuracy: 0.7289\n",
            "Epoch 198/1000\n",
            "16/16 - 1s - loss: 0.5601 - accuracy: 0.7132 - val_loss: 0.5483 - val_accuracy: 0.7289\n",
            "Epoch 199/1000\n",
            "16/16 - 1s - loss: 0.5566 - accuracy: 0.7174 - val_loss: 0.5474 - val_accuracy: 0.7294\n",
            "Epoch 200/1000\n",
            "16/16 - 1s - loss: 0.5594 - accuracy: 0.7148 - val_loss: 0.5486 - val_accuracy: 0.7276\n",
            "Epoch 201/1000\n",
            "16/16 - 1s - loss: 0.5589 - accuracy: 0.7141 - val_loss: 0.5463 - val_accuracy: 0.7306\n",
            "Epoch 202/1000\n",
            "16/16 - 1s - loss: 0.5576 - accuracy: 0.7180 - val_loss: 0.5467 - val_accuracy: 0.7291\n",
            "Epoch 203/1000\n",
            "16/16 - 1s - loss: 0.5586 - accuracy: 0.7161 - val_loss: 0.5492 - val_accuracy: 0.7275\n",
            "Epoch 204/1000\n",
            "16/16 - 1s - loss: 0.5571 - accuracy: 0.7163 - val_loss: 0.5458 - val_accuracy: 0.7294\n",
            "Epoch 205/1000\n",
            "16/16 - 1s - loss: 0.5571 - accuracy: 0.7174 - val_loss: 0.5467 - val_accuracy: 0.7287\n",
            "Epoch 206/1000\n",
            "16/16 - 1s - loss: 0.5580 - accuracy: 0.7149 - val_loss: 0.5471 - val_accuracy: 0.7284\n",
            "Epoch 207/1000\n",
            "16/16 - 1s - loss: 0.5562 - accuracy: 0.7171 - val_loss: 0.5461 - val_accuracy: 0.7291\n",
            "Epoch 208/1000\n",
            "16/16 - 1s - loss: 0.5562 - accuracy: 0.7175 - val_loss: 0.5472 - val_accuracy: 0.7284\n",
            "Epoch 209/1000\n",
            "16/16 - 1s - loss: 0.5569 - accuracy: 0.7153 - val_loss: 0.5450 - val_accuracy: 0.7303\n",
            "Epoch 210/1000\n",
            "16/16 - 1s - loss: 0.5546 - accuracy: 0.7160 - val_loss: 0.5471 - val_accuracy: 0.7291\n",
            "Epoch 211/1000\n",
            "16/16 - 1s - loss: 0.5543 - accuracy: 0.7201 - val_loss: 0.5466 - val_accuracy: 0.7296\n",
            "Epoch 212/1000\n",
            "16/16 - 1s - loss: 0.5573 - accuracy: 0.7163 - val_loss: 0.5461 - val_accuracy: 0.7294\n",
            "Epoch 213/1000\n",
            "16/16 - 1s - loss: 0.5541 - accuracy: 0.7196 - val_loss: 0.5451 - val_accuracy: 0.7297\n",
            "Epoch 214/1000\n",
            "16/16 - 1s - loss: 0.5558 - accuracy: 0.7170 - val_loss: 0.5450 - val_accuracy: 0.7299\n",
            "Epoch 215/1000\n",
            "16/16 - 1s - loss: 0.5569 - accuracy: 0.7134 - val_loss: 0.5457 - val_accuracy: 0.7303\n",
            "Epoch 216/1000\n",
            "16/16 - 1s - loss: 0.5537 - accuracy: 0.7199 - val_loss: 0.5453 - val_accuracy: 0.7305\n",
            "Epoch 217/1000\n",
            "16/16 - 1s - loss: 0.5566 - accuracy: 0.7156 - val_loss: 0.5456 - val_accuracy: 0.7308\n",
            "Epoch 218/1000\n",
            "16/16 - 1s - loss: 0.5566 - accuracy: 0.7166 - val_loss: 0.5454 - val_accuracy: 0.7312\n",
            "Epoch 219/1000\n",
            "16/16 - 1s - loss: 0.5562 - accuracy: 0.7156 - val_loss: 0.5451 - val_accuracy: 0.7311\n",
            "Epoch 220/1000\n",
            "16/16 - 1s - loss: 0.5567 - accuracy: 0.7164 - val_loss: 0.5432 - val_accuracy: 0.7310\n",
            "Epoch 221/1000\n",
            "16/16 - 1s - loss: 0.5566 - accuracy: 0.7163 - val_loss: 0.5447 - val_accuracy: 0.7318\n",
            "Epoch 222/1000\n",
            "16/16 - 1s - loss: 0.5527 - accuracy: 0.7198 - val_loss: 0.5451 - val_accuracy: 0.7305\n",
            "Epoch 223/1000\n",
            "16/16 - 1s - loss: 0.5543 - accuracy: 0.7186 - val_loss: 0.5434 - val_accuracy: 0.7320\n",
            "Epoch 224/1000\n",
            "16/16 - 1s - loss: 0.5567 - accuracy: 0.7167 - val_loss: 0.5437 - val_accuracy: 0.7318\n",
            "Epoch 225/1000\n",
            "16/16 - 1s - loss: 0.5560 - accuracy: 0.7162 - val_loss: 0.5414 - val_accuracy: 0.7330\n",
            "Epoch 226/1000\n",
            "16/16 - 1s - loss: 0.5544 - accuracy: 0.7172 - val_loss: 0.5415 - val_accuracy: 0.7334\n",
            "Epoch 227/1000\n",
            "16/16 - 1s - loss: 0.5546 - accuracy: 0.7162 - val_loss: 0.5449 - val_accuracy: 0.7309\n",
            "Epoch 228/1000\n",
            "16/16 - 1s - loss: 0.5504 - accuracy: 0.7212 - val_loss: 0.5419 - val_accuracy: 0.7334\n",
            "Epoch 229/1000\n",
            "16/16 - 1s - loss: 0.5525 - accuracy: 0.7223 - val_loss: 0.5440 - val_accuracy: 0.7315\n",
            "Epoch 230/1000\n",
            "16/16 - 1s - loss: 0.5547 - accuracy: 0.7161 - val_loss: 0.5432 - val_accuracy: 0.7324\n",
            "Epoch 231/1000\n",
            "16/16 - 1s - loss: 0.5537 - accuracy: 0.7191 - val_loss: 0.5430 - val_accuracy: 0.7325\n",
            "Epoch 232/1000\n",
            "16/16 - 1s - loss: 0.5526 - accuracy: 0.7187 - val_loss: 0.5423 - val_accuracy: 0.7335\n",
            "Epoch 233/1000\n",
            "16/16 - 1s - loss: 0.5523 - accuracy: 0.7176 - val_loss: 0.5426 - val_accuracy: 0.7329\n",
            "Epoch 234/1000\n",
            "16/16 - 1s - loss: 0.5529 - accuracy: 0.7207 - val_loss: 0.5449 - val_accuracy: 0.7312\n",
            "Epoch 235/1000\n",
            "16/16 - 1s - loss: 0.5537 - accuracy: 0.7203 - val_loss: 0.5419 - val_accuracy: 0.7333\n",
            "Epoch 236/1000\n",
            "16/16 - 1s - loss: 0.5507 - accuracy: 0.7216 - val_loss: 0.5409 - val_accuracy: 0.7350\n",
            "Epoch 237/1000\n",
            "16/16 - 1s - loss: 0.5529 - accuracy: 0.7191 - val_loss: 0.5460 - val_accuracy: 0.7316\n",
            "Epoch 238/1000\n",
            "16/16 - 1s - loss: 0.5521 - accuracy: 0.7192 - val_loss: 0.5423 - val_accuracy: 0.7343\n",
            "Epoch 239/1000\n",
            "16/16 - 1s - loss: 0.5512 - accuracy: 0.7210 - val_loss: 0.5431 - val_accuracy: 0.7341\n",
            "Epoch 240/1000\n",
            "16/16 - 1s - loss: 0.5542 - accuracy: 0.7185 - val_loss: 0.5416 - val_accuracy: 0.7339\n",
            "Epoch 241/1000\n",
            "16/16 - 1s - loss: 0.5515 - accuracy: 0.7220 - val_loss: 0.5420 - val_accuracy: 0.7344\n",
            "Epoch 242/1000\n",
            "16/16 - 1s - loss: 0.5531 - accuracy: 0.7177 - val_loss: 0.5404 - val_accuracy: 0.7351\n",
            "Epoch 243/1000\n",
            "16/16 - 1s - loss: 0.5509 - accuracy: 0.7203 - val_loss: 0.5424 - val_accuracy: 0.7341\n",
            "Epoch 244/1000\n",
            "16/16 - 1s - loss: 0.5509 - accuracy: 0.7203 - val_loss: 0.5421 - val_accuracy: 0.7340\n",
            "Epoch 245/1000\n",
            "16/16 - 1s - loss: 0.5526 - accuracy: 0.7186 - val_loss: 0.5398 - val_accuracy: 0.7354\n",
            "Epoch 246/1000\n",
            "16/16 - 1s - loss: 0.5474 - accuracy: 0.7242 - val_loss: 0.5429 - val_accuracy: 0.7343\n",
            "Epoch 247/1000\n",
            "16/16 - 1s - loss: 0.5529 - accuracy: 0.7190 - val_loss: 0.5404 - val_accuracy: 0.7350\n",
            "Epoch 248/1000\n",
            "16/16 - 1s - loss: 0.5526 - accuracy: 0.7181 - val_loss: 0.5416 - val_accuracy: 0.7344\n",
            "Epoch 249/1000\n",
            "16/16 - 1s - loss: 0.5491 - accuracy: 0.7217 - val_loss: 0.5401 - val_accuracy: 0.7354\n",
            "Epoch 250/1000\n",
            "16/16 - 1s - loss: 0.5512 - accuracy: 0.7199 - val_loss: 0.5401 - val_accuracy: 0.7356\n",
            "Epoch 251/1000\n",
            "16/16 - 1s - loss: 0.5493 - accuracy: 0.7224 - val_loss: 0.5423 - val_accuracy: 0.7347\n",
            "Epoch 252/1000\n",
            "16/16 - 1s - loss: 0.5479 - accuracy: 0.7252 - val_loss: 0.5388 - val_accuracy: 0.7359\n",
            "Epoch 253/1000\n",
            "16/16 - 1s - loss: 0.5520 - accuracy: 0.7180 - val_loss: 0.5392 - val_accuracy: 0.7359\n",
            "Epoch 254/1000\n",
            "16/16 - 1s - loss: 0.5520 - accuracy: 0.7204 - val_loss: 0.5387 - val_accuracy: 0.7359\n",
            "Epoch 255/1000\n",
            "16/16 - 1s - loss: 0.5495 - accuracy: 0.7208 - val_loss: 0.5376 - val_accuracy: 0.7359\n",
            "Epoch 256/1000\n",
            "16/16 - 1s - loss: 0.5498 - accuracy: 0.7222 - val_loss: 0.5411 - val_accuracy: 0.7352\n",
            "Epoch 257/1000\n",
            "16/16 - 1s - loss: 0.5498 - accuracy: 0.7207 - val_loss: 0.5384 - val_accuracy: 0.7356\n",
            "Epoch 258/1000\n",
            "16/16 - 1s - loss: 0.5505 - accuracy: 0.7205 - val_loss: 0.5394 - val_accuracy: 0.7359\n",
            "Epoch 259/1000\n",
            "16/16 - 1s - loss: 0.5486 - accuracy: 0.7195 - val_loss: 0.5390 - val_accuracy: 0.7360\n",
            "Epoch 260/1000\n",
            "16/16 - 1s - loss: 0.5498 - accuracy: 0.7210 - val_loss: 0.5372 - val_accuracy: 0.7365\n",
            "Epoch 261/1000\n",
            "16/16 - 1s - loss: 0.5503 - accuracy: 0.7198 - val_loss: 0.5376 - val_accuracy: 0.7356\n",
            "Epoch 262/1000\n",
            "16/16 - 1s - loss: 0.5490 - accuracy: 0.7211 - val_loss: 0.5383 - val_accuracy: 0.7358\n",
            "Epoch 263/1000\n",
            "16/16 - 1s - loss: 0.5476 - accuracy: 0.7230 - val_loss: 0.5379 - val_accuracy: 0.7359\n",
            "Epoch 264/1000\n",
            "16/16 - 1s - loss: 0.5489 - accuracy: 0.7217 - val_loss: 0.5404 - val_accuracy: 0.7366\n",
            "Epoch 265/1000\n",
            "16/16 - 1s - loss: 0.5504 - accuracy: 0.7196 - val_loss: 0.5372 - val_accuracy: 0.7365\n",
            "Epoch 266/1000\n",
            "16/16 - 1s - loss: 0.5479 - accuracy: 0.7229 - val_loss: 0.5391 - val_accuracy: 0.7360\n",
            "Epoch 267/1000\n",
            "16/16 - 1s - loss: 0.5474 - accuracy: 0.7236 - val_loss: 0.5375 - val_accuracy: 0.7372\n",
            "Epoch 268/1000\n",
            "16/16 - 1s - loss: 0.5488 - accuracy: 0.7222 - val_loss: 0.5392 - val_accuracy: 0.7365\n",
            "Epoch 269/1000\n",
            "16/16 - 1s - loss: 0.5498 - accuracy: 0.7219 - val_loss: 0.5379 - val_accuracy: 0.7371\n",
            "Epoch 270/1000\n",
            "16/16 - 1s - loss: 0.5482 - accuracy: 0.7236 - val_loss: 0.5377 - val_accuracy: 0.7368\n",
            "Epoch 271/1000\n",
            "16/16 - 1s - loss: 0.5496 - accuracy: 0.7222 - val_loss: 0.5376 - val_accuracy: 0.7371\n",
            "Epoch 272/1000\n",
            "16/16 - 1s - loss: 0.5453 - accuracy: 0.7267 - val_loss: 0.5388 - val_accuracy: 0.7371\n",
            "Epoch 273/1000\n",
            "16/16 - 1s - loss: 0.5469 - accuracy: 0.7228 - val_loss: 0.5377 - val_accuracy: 0.7375\n",
            "Epoch 274/1000\n",
            "16/16 - 1s - loss: 0.5463 - accuracy: 0.7223 - val_loss: 0.5388 - val_accuracy: 0.7377\n",
            "Epoch 275/1000\n",
            "16/16 - 1s - loss: 0.5473 - accuracy: 0.7222 - val_loss: 0.5385 - val_accuracy: 0.7381\n",
            "Epoch 276/1000\n",
            "16/16 - 1s - loss: 0.5464 - accuracy: 0.7245 - val_loss: 0.5370 - val_accuracy: 0.7377\n",
            "Epoch 277/1000\n",
            "16/16 - 1s - loss: 0.5478 - accuracy: 0.7214 - val_loss: 0.5362 - val_accuracy: 0.7379\n",
            "Epoch 278/1000\n",
            "16/16 - 1s - loss: 0.5450 - accuracy: 0.7257 - val_loss: 0.5374 - val_accuracy: 0.7386\n",
            "Epoch 279/1000\n",
            "16/16 - 1s - loss: 0.5445 - accuracy: 0.7241 - val_loss: 0.5368 - val_accuracy: 0.7383\n",
            "Epoch 280/1000\n",
            "16/16 - 1s - loss: 0.5473 - accuracy: 0.7228 - val_loss: 0.5347 - val_accuracy: 0.7387\n",
            "Epoch 281/1000\n",
            "16/16 - 1s - loss: 0.5471 - accuracy: 0.7239 - val_loss: 0.5373 - val_accuracy: 0.7379\n",
            "Epoch 282/1000\n",
            "16/16 - 1s - loss: 0.5457 - accuracy: 0.7258 - val_loss: 0.5345 - val_accuracy: 0.7387\n",
            "Epoch 283/1000\n",
            "16/16 - 1s - loss: 0.5462 - accuracy: 0.7226 - val_loss: 0.5356 - val_accuracy: 0.7386\n",
            "Epoch 284/1000\n",
            "16/16 - 1s - loss: 0.5458 - accuracy: 0.7243 - val_loss: 0.5351 - val_accuracy: 0.7386\n",
            "Epoch 285/1000\n",
            "16/16 - 1s - loss: 0.5419 - accuracy: 0.7260 - val_loss: 0.5368 - val_accuracy: 0.7391\n",
            "Epoch 286/1000\n",
            "16/16 - 1s - loss: 0.5441 - accuracy: 0.7259 - val_loss: 0.5372 - val_accuracy: 0.7386\n",
            "Epoch 287/1000\n",
            "16/16 - 1s - loss: 0.5445 - accuracy: 0.7267 - val_loss: 0.5351 - val_accuracy: 0.7393\n",
            "Epoch 288/1000\n",
            "16/16 - 1s - loss: 0.5449 - accuracy: 0.7234 - val_loss: 0.5359 - val_accuracy: 0.7387\n",
            "Epoch 289/1000\n",
            "16/16 - 1s - loss: 0.5458 - accuracy: 0.7239 - val_loss: 0.5369 - val_accuracy: 0.7383\n",
            "Epoch 290/1000\n",
            "16/16 - 1s - loss: 0.5468 - accuracy: 0.7238 - val_loss: 0.5354 - val_accuracy: 0.7386\n",
            "Epoch 291/1000\n",
            "16/16 - 1s - loss: 0.5449 - accuracy: 0.7235 - val_loss: 0.5358 - val_accuracy: 0.7381\n",
            "Epoch 292/1000\n",
            "16/16 - 1s - loss: 0.5402 - accuracy: 0.7275 - val_loss: 0.5351 - val_accuracy: 0.7391\n",
            "Epoch 293/1000\n",
            "16/16 - 1s - loss: 0.5449 - accuracy: 0.7230 - val_loss: 0.5359 - val_accuracy: 0.7386\n",
            "Epoch 294/1000\n",
            "16/16 - 1s - loss: 0.5426 - accuracy: 0.7257 - val_loss: 0.5338 - val_accuracy: 0.7404\n",
            "Epoch 295/1000\n",
            "16/16 - 1s - loss: 0.5436 - accuracy: 0.7252 - val_loss: 0.5351 - val_accuracy: 0.7393\n",
            "Epoch 296/1000\n",
            "16/16 - 1s - loss: 0.5428 - accuracy: 0.7252 - val_loss: 0.5326 - val_accuracy: 0.7406\n",
            "Epoch 297/1000\n",
            "16/16 - 1s - loss: 0.5423 - accuracy: 0.7268 - val_loss: 0.5356 - val_accuracy: 0.7385\n",
            "Epoch 298/1000\n",
            "16/16 - 1s - loss: 0.5440 - accuracy: 0.7253 - val_loss: 0.5353 - val_accuracy: 0.7381\n",
            "Epoch 299/1000\n",
            "16/16 - 1s - loss: 0.5425 - accuracy: 0.7255 - val_loss: 0.5322 - val_accuracy: 0.7418\n",
            "Epoch 300/1000\n",
            "16/16 - 1s - loss: 0.5444 - accuracy: 0.7245 - val_loss: 0.5360 - val_accuracy: 0.7387\n",
            "Epoch 301/1000\n",
            "16/16 - 1s - loss: 0.5416 - accuracy: 0.7275 - val_loss: 0.5334 - val_accuracy: 0.7406\n",
            "Epoch 302/1000\n",
            "16/16 - 1s - loss: 0.5433 - accuracy: 0.7262 - val_loss: 0.5356 - val_accuracy: 0.7390\n",
            "Epoch 303/1000\n",
            "16/16 - 1s - loss: 0.5446 - accuracy: 0.7254 - val_loss: 0.5330 - val_accuracy: 0.7406\n",
            "Epoch 304/1000\n",
            "16/16 - 1s - loss: 0.5424 - accuracy: 0.7288 - val_loss: 0.5309 - val_accuracy: 0.7419\n",
            "Epoch 305/1000\n",
            "16/16 - 1s - loss: 0.5425 - accuracy: 0.7268 - val_loss: 0.5328 - val_accuracy: 0.7408\n",
            "Epoch 306/1000\n",
            "16/16 - 1s - loss: 0.5424 - accuracy: 0.7243 - val_loss: 0.5315 - val_accuracy: 0.7415\n",
            "Epoch 307/1000\n",
            "16/16 - 1s - loss: 0.5444 - accuracy: 0.7272 - val_loss: 0.5334 - val_accuracy: 0.7404\n",
            "Epoch 308/1000\n",
            "16/16 - 1s - loss: 0.5414 - accuracy: 0.7265 - val_loss: 0.5328 - val_accuracy: 0.7412\n",
            "Epoch 309/1000\n",
            "16/16 - 1s - loss: 0.5404 - accuracy: 0.7257 - val_loss: 0.5348 - val_accuracy: 0.7389\n",
            "Epoch 310/1000\n",
            "16/16 - 1s - loss: 0.5395 - accuracy: 0.7279 - val_loss: 0.5337 - val_accuracy: 0.7398\n",
            "Epoch 311/1000\n",
            "16/16 - 1s - loss: 0.5417 - accuracy: 0.7269 - val_loss: 0.5335 - val_accuracy: 0.7394\n",
            "Epoch 312/1000\n",
            "16/16 - 1s - loss: 0.5406 - accuracy: 0.7286 - val_loss: 0.5326 - val_accuracy: 0.7408\n",
            "Epoch 313/1000\n",
            "16/16 - 1s - loss: 0.5405 - accuracy: 0.7283 - val_loss: 0.5327 - val_accuracy: 0.7399\n",
            "Epoch 314/1000\n",
            "16/16 - 1s - loss: 0.5388 - accuracy: 0.7284 - val_loss: 0.5301 - val_accuracy: 0.7429\n",
            "Epoch 315/1000\n",
            "16/16 - 1s - loss: 0.5401 - accuracy: 0.7279 - val_loss: 0.5330 - val_accuracy: 0.7400\n",
            "Epoch 316/1000\n",
            "16/16 - 1s - loss: 0.5420 - accuracy: 0.7250 - val_loss: 0.5308 - val_accuracy: 0.7430\n",
            "Epoch 317/1000\n",
            "16/16 - 1s - loss: 0.5405 - accuracy: 0.7285 - val_loss: 0.5334 - val_accuracy: 0.7393\n",
            "Epoch 318/1000\n",
            "16/16 - 1s - loss: 0.5394 - accuracy: 0.7290 - val_loss: 0.5316 - val_accuracy: 0.7424\n",
            "Epoch 319/1000\n",
            "16/16 - 1s - loss: 0.5387 - accuracy: 0.7271 - val_loss: 0.5305 - val_accuracy: 0.7431\n",
            "Epoch 320/1000\n",
            "16/16 - 1s - loss: 0.5404 - accuracy: 0.7260 - val_loss: 0.5312 - val_accuracy: 0.7430\n",
            "Epoch 321/1000\n",
            "16/16 - 1s - loss: 0.5380 - accuracy: 0.7291 - val_loss: 0.5299 - val_accuracy: 0.7440\n",
            "Epoch 322/1000\n",
            "16/16 - 1s - loss: 0.5384 - accuracy: 0.7312 - val_loss: 0.5303 - val_accuracy: 0.7440\n",
            "Epoch 323/1000\n",
            "16/16 - 1s - loss: 0.5396 - accuracy: 0.7288 - val_loss: 0.5298 - val_accuracy: 0.7448\n",
            "Epoch 324/1000\n",
            "16/16 - 1s - loss: 0.5368 - accuracy: 0.7300 - val_loss: 0.5322 - val_accuracy: 0.7423\n",
            "Epoch 325/1000\n",
            "16/16 - 1s - loss: 0.5416 - accuracy: 0.7248 - val_loss: 0.5301 - val_accuracy: 0.7446\n",
            "Epoch 326/1000\n",
            "16/16 - 1s - loss: 0.5386 - accuracy: 0.7278 - val_loss: 0.5307 - val_accuracy: 0.7440\n",
            "Epoch 327/1000\n",
            "16/16 - 1s - loss: 0.5358 - accuracy: 0.7346 - val_loss: 0.5331 - val_accuracy: 0.7398\n",
            "Epoch 328/1000\n",
            "16/16 - 1s - loss: 0.5400 - accuracy: 0.7265 - val_loss: 0.5318 - val_accuracy: 0.7402\n",
            "Epoch 329/1000\n",
            "16/16 - 1s - loss: 0.5372 - accuracy: 0.7312 - val_loss: 0.5299 - val_accuracy: 0.7451\n",
            "Epoch 330/1000\n",
            "16/16 - 1s - loss: 0.5373 - accuracy: 0.7293 - val_loss: 0.5300 - val_accuracy: 0.7451\n",
            "Epoch 331/1000\n",
            "16/16 - 1s - loss: 0.5388 - accuracy: 0.7265 - val_loss: 0.5307 - val_accuracy: 0.7418\n",
            "Epoch 332/1000\n",
            "16/16 - 1s - loss: 0.5388 - accuracy: 0.7277 - val_loss: 0.5298 - val_accuracy: 0.7439\n",
            "Epoch 333/1000\n",
            "16/16 - 1s - loss: 0.5393 - accuracy: 0.7293 - val_loss: 0.5301 - val_accuracy: 0.7426\n",
            "Epoch 334/1000\n",
            "16/16 - 1s - loss: 0.5367 - accuracy: 0.7305 - val_loss: 0.5305 - val_accuracy: 0.7416\n",
            "Epoch 335/1000\n",
            "16/16 - 1s - loss: 0.5344 - accuracy: 0.7327 - val_loss: 0.5282 - val_accuracy: 0.7466\n",
            "Epoch 336/1000\n",
            "16/16 - 1s - loss: 0.5385 - accuracy: 0.7292 - val_loss: 0.5302 - val_accuracy: 0.7433\n",
            "Epoch 337/1000\n",
            "16/16 - 1s - loss: 0.5362 - accuracy: 0.7309 - val_loss: 0.5295 - val_accuracy: 0.7449\n",
            "Epoch 338/1000\n",
            "16/16 - 1s - loss: 0.5383 - accuracy: 0.7306 - val_loss: 0.5304 - val_accuracy: 0.7415\n",
            "Epoch 339/1000\n",
            "16/16 - 1s - loss: 0.5348 - accuracy: 0.7300 - val_loss: 0.5274 - val_accuracy: 0.7465\n",
            "Epoch 340/1000\n",
            "16/16 - 1s - loss: 0.5386 - accuracy: 0.7287 - val_loss: 0.5297 - val_accuracy: 0.7435\n",
            "Epoch 341/1000\n",
            "16/16 - 1s - loss: 0.5368 - accuracy: 0.7297 - val_loss: 0.5271 - val_accuracy: 0.7461\n",
            "Epoch 342/1000\n",
            "16/16 - 1s - loss: 0.5369 - accuracy: 0.7316 - val_loss: 0.5295 - val_accuracy: 0.7433\n",
            "Epoch 343/1000\n",
            "16/16 - 1s - loss: 0.5357 - accuracy: 0.7309 - val_loss: 0.5278 - val_accuracy: 0.7462\n",
            "Epoch 344/1000\n",
            "16/16 - 1s - loss: 0.5333 - accuracy: 0.7308 - val_loss: 0.5278 - val_accuracy: 0.7465\n",
            "Epoch 345/1000\n",
            "16/16 - 1s - loss: 0.5366 - accuracy: 0.7313 - val_loss: 0.5280 - val_accuracy: 0.7462\n",
            "Epoch 346/1000\n",
            "16/16 - 1s - loss: 0.5326 - accuracy: 0.7328 - val_loss: 0.5279 - val_accuracy: 0.7467\n",
            "Epoch 347/1000\n",
            "16/16 - 1s - loss: 0.5344 - accuracy: 0.7323 - val_loss: 0.5277 - val_accuracy: 0.7455\n",
            "Epoch 348/1000\n",
            "16/16 - 1s - loss: 0.5365 - accuracy: 0.7292 - val_loss: 0.5307 - val_accuracy: 0.7409\n",
            "Epoch 349/1000\n",
            "16/16 - 1s - loss: 0.5344 - accuracy: 0.7317 - val_loss: 0.5260 - val_accuracy: 0.7464\n",
            "Epoch 350/1000\n",
            "16/16 - 1s - loss: 0.5370 - accuracy: 0.7289 - val_loss: 0.5267 - val_accuracy: 0.7454\n",
            "Epoch 351/1000\n",
            "16/16 - 1s - loss: 0.5364 - accuracy: 0.7306 - val_loss: 0.5260 - val_accuracy: 0.7459\n",
            "Epoch 352/1000\n",
            "16/16 - 1s - loss: 0.5331 - accuracy: 0.7326 - val_loss: 0.5280 - val_accuracy: 0.7439\n",
            "Epoch 353/1000\n",
            "16/16 - 1s - loss: 0.5321 - accuracy: 0.7374 - val_loss: 0.5271 - val_accuracy: 0.7458\n",
            "Epoch 354/1000\n",
            "16/16 - 1s - loss: 0.5329 - accuracy: 0.7311 - val_loss: 0.5276 - val_accuracy: 0.7452\n",
            "Epoch 355/1000\n",
            "16/16 - 1s - loss: 0.5340 - accuracy: 0.7311 - val_loss: 0.5263 - val_accuracy: 0.7464\n",
            "Epoch 356/1000\n",
            "16/16 - 1s - loss: 0.5333 - accuracy: 0.7316 - val_loss: 0.5285 - val_accuracy: 0.7433\n",
            "Epoch 357/1000\n",
            "16/16 - 1s - loss: 0.5341 - accuracy: 0.7333 - val_loss: 0.5258 - val_accuracy: 0.7466\n",
            "Epoch 358/1000\n",
            "16/16 - 1s - loss: 0.5338 - accuracy: 0.7318 - val_loss: 0.5256 - val_accuracy: 0.7465\n",
            "Epoch 359/1000\n",
            "16/16 - 1s - loss: 0.5366 - accuracy: 0.7276 - val_loss: 0.5249 - val_accuracy: 0.7466\n",
            "Epoch 360/1000\n",
            "16/16 - 1s - loss: 0.5331 - accuracy: 0.7340 - val_loss: 0.5250 - val_accuracy: 0.7461\n",
            "Epoch 361/1000\n",
            "16/16 - 1s - loss: 0.5352 - accuracy: 0.7284 - val_loss: 0.5255 - val_accuracy: 0.7451\n",
            "Epoch 362/1000\n",
            "16/16 - 1s - loss: 0.5342 - accuracy: 0.7341 - val_loss: 0.5255 - val_accuracy: 0.7454\n",
            "Epoch 363/1000\n",
            "16/16 - 1s - loss: 0.5326 - accuracy: 0.7336 - val_loss: 0.5239 - val_accuracy: 0.7474\n",
            "Epoch 364/1000\n",
            "16/16 - 1s - loss: 0.5317 - accuracy: 0.7325 - val_loss: 0.5255 - val_accuracy: 0.7456\n",
            "Epoch 365/1000\n",
            "16/16 - 1s - loss: 0.5314 - accuracy: 0.7335 - val_loss: 0.5235 - val_accuracy: 0.7490\n",
            "Epoch 366/1000\n",
            "16/16 - 1s - loss: 0.5332 - accuracy: 0.7306 - val_loss: 0.5253 - val_accuracy: 0.7458\n",
            "Epoch 367/1000\n",
            "16/16 - 1s - loss: 0.5337 - accuracy: 0.7304 - val_loss: 0.5243 - val_accuracy: 0.7464\n",
            "Epoch 368/1000\n",
            "16/16 - 1s - loss: 0.5349 - accuracy: 0.7298 - val_loss: 0.5261 - val_accuracy: 0.7456\n",
            "Epoch 369/1000\n",
            "16/16 - 1s - loss: 0.5318 - accuracy: 0.7327 - val_loss: 0.5233 - val_accuracy: 0.7475\n",
            "Epoch 370/1000\n",
            "16/16 - 1s - loss: 0.5324 - accuracy: 0.7325 - val_loss: 0.5261 - val_accuracy: 0.7454\n",
            "Epoch 371/1000\n",
            "16/16 - 1s - loss: 0.5323 - accuracy: 0.7342 - val_loss: 0.5240 - val_accuracy: 0.7465\n",
            "Epoch 372/1000\n",
            "16/16 - 1s - loss: 0.5316 - accuracy: 0.7333 - val_loss: 0.5236 - val_accuracy: 0.7477\n",
            "Epoch 373/1000\n",
            "16/16 - 1s - loss: 0.5328 - accuracy: 0.7316 - val_loss: 0.5241 - val_accuracy: 0.7465\n",
            "Epoch 374/1000\n",
            "16/16 - 1s - loss: 0.5330 - accuracy: 0.7303 - val_loss: 0.5231 - val_accuracy: 0.7467\n",
            "Epoch 375/1000\n",
            "16/16 - 1s - loss: 0.5323 - accuracy: 0.7323 - val_loss: 0.5226 - val_accuracy: 0.7474\n",
            "Epoch 376/1000\n",
            "16/16 - 1s - loss: 0.5303 - accuracy: 0.7346 - val_loss: 0.5237 - val_accuracy: 0.7469\n",
            "Epoch 377/1000\n",
            "16/16 - 1s - loss: 0.5301 - accuracy: 0.7366 - val_loss: 0.5241 - val_accuracy: 0.7469\n",
            "Epoch 378/1000\n",
            "16/16 - 1s - loss: 0.5319 - accuracy: 0.7338 - val_loss: 0.5209 - val_accuracy: 0.7496\n",
            "Epoch 379/1000\n",
            "16/16 - 1s - loss: 0.5305 - accuracy: 0.7335 - val_loss: 0.5250 - val_accuracy: 0.7465\n",
            "Epoch 380/1000\n",
            "16/16 - 1s - loss: 0.5274 - accuracy: 0.7366 - val_loss: 0.5225 - val_accuracy: 0.7480\n",
            "Epoch 381/1000\n",
            "16/16 - 1s - loss: 0.5272 - accuracy: 0.7380 - val_loss: 0.5217 - val_accuracy: 0.7491\n",
            "Epoch 382/1000\n",
            "16/16 - 1s - loss: 0.5319 - accuracy: 0.7319 - val_loss: 0.5222 - val_accuracy: 0.7474\n",
            "Epoch 383/1000\n",
            "16/16 - 1s - loss: 0.5277 - accuracy: 0.7369 - val_loss: 0.5216 - val_accuracy: 0.7484\n",
            "Epoch 384/1000\n",
            "16/16 - 1s - loss: 0.5297 - accuracy: 0.7368 - val_loss: 0.5245 - val_accuracy: 0.7477\n",
            "Epoch 385/1000\n",
            "16/16 - 1s - loss: 0.5298 - accuracy: 0.7344 - val_loss: 0.5220 - val_accuracy: 0.7479\n",
            "Epoch 386/1000\n",
            "16/16 - 1s - loss: 0.5302 - accuracy: 0.7326 - val_loss: 0.5209 - val_accuracy: 0.7490\n",
            "Epoch 387/1000\n",
            "16/16 - 1s - loss: 0.5296 - accuracy: 0.7352 - val_loss: 0.5221 - val_accuracy: 0.7484\n",
            "Epoch 388/1000\n",
            "16/16 - 1s - loss: 0.5270 - accuracy: 0.7394 - val_loss: 0.5216 - val_accuracy: 0.7485\n",
            "Epoch 389/1000\n",
            "16/16 - 1s - loss: 0.5286 - accuracy: 0.7370 - val_loss: 0.5230 - val_accuracy: 0.7487\n",
            "Epoch 390/1000\n",
            "16/16 - 1s - loss: 0.5276 - accuracy: 0.7370 - val_loss: 0.5215 - val_accuracy: 0.7487\n",
            "Epoch 391/1000\n",
            "16/16 - 1s - loss: 0.5270 - accuracy: 0.7380 - val_loss: 0.5218 - val_accuracy: 0.7484\n",
            "Epoch 392/1000\n",
            "16/16 - 1s - loss: 0.5307 - accuracy: 0.7320 - val_loss: 0.5203 - val_accuracy: 0.7491\n",
            "Epoch 393/1000\n",
            "16/16 - 1s - loss: 0.5262 - accuracy: 0.7371 - val_loss: 0.5214 - val_accuracy: 0.7494\n",
            "Epoch 394/1000\n",
            "16/16 - 1s - loss: 0.5297 - accuracy: 0.7357 - val_loss: 0.5193 - val_accuracy: 0.7502\n",
            "Epoch 395/1000\n",
            "16/16 - 1s - loss: 0.5302 - accuracy: 0.7344 - val_loss: 0.5213 - val_accuracy: 0.7498\n",
            "Epoch 396/1000\n",
            "16/16 - 1s - loss: 0.5271 - accuracy: 0.7357 - val_loss: 0.5191 - val_accuracy: 0.7501\n",
            "Epoch 397/1000\n",
            "16/16 - 1s - loss: 0.5259 - accuracy: 0.7381 - val_loss: 0.5196 - val_accuracy: 0.7499\n",
            "Epoch 398/1000\n",
            "16/16 - 1s - loss: 0.5275 - accuracy: 0.7365 - val_loss: 0.5229 - val_accuracy: 0.7490\n",
            "Epoch 399/1000\n",
            "16/16 - 1s - loss: 0.5280 - accuracy: 0.7382 - val_loss: 0.5178 - val_accuracy: 0.7511\n",
            "Epoch 400/1000\n",
            "16/16 - 1s - loss: 0.5264 - accuracy: 0.7374 - val_loss: 0.5219 - val_accuracy: 0.7491\n",
            "Epoch 401/1000\n",
            "16/16 - 1s - loss: 0.5257 - accuracy: 0.7362 - val_loss: 0.5193 - val_accuracy: 0.7506\n",
            "Epoch 402/1000\n",
            "16/16 - 1s - loss: 0.5250 - accuracy: 0.7383 - val_loss: 0.5200 - val_accuracy: 0.7511\n",
            "Epoch 403/1000\n",
            "16/16 - 1s - loss: 0.5270 - accuracy: 0.7333 - val_loss: 0.5211 - val_accuracy: 0.7508\n",
            "Epoch 404/1000\n",
            "16/16 - 1s - loss: 0.5265 - accuracy: 0.7389 - val_loss: 0.5199 - val_accuracy: 0.7513\n",
            "Epoch 405/1000\n",
            "16/16 - 1s - loss: 0.5257 - accuracy: 0.7377 - val_loss: 0.5200 - val_accuracy: 0.7510\n",
            "Epoch 406/1000\n",
            "16/16 - 1s - loss: 0.5273 - accuracy: 0.7362 - val_loss: 0.5185 - val_accuracy: 0.7511\n",
            "Epoch 407/1000\n",
            "16/16 - 1s - loss: 0.5264 - accuracy: 0.7369 - val_loss: 0.5210 - val_accuracy: 0.7509\n",
            "Epoch 408/1000\n",
            "16/16 - 1s - loss: 0.5280 - accuracy: 0.7334 - val_loss: 0.5186 - val_accuracy: 0.7510\n",
            "Epoch 409/1000\n",
            "16/16 - 1s - loss: 0.5274 - accuracy: 0.7365 - val_loss: 0.5165 - val_accuracy: 0.7516\n",
            "Epoch 410/1000\n",
            "16/16 - 1s - loss: 0.5252 - accuracy: 0.7351 - val_loss: 0.5156 - val_accuracy: 0.7519\n",
            "Epoch 411/1000\n",
            "16/16 - 1s - loss: 0.5241 - accuracy: 0.7386 - val_loss: 0.5172 - val_accuracy: 0.7514\n",
            "Epoch 412/1000\n",
            "16/16 - 1s - loss: 0.5253 - accuracy: 0.7365 - val_loss: 0.5149 - val_accuracy: 0.7533\n",
            "Epoch 413/1000\n",
            "16/16 - 1s - loss: 0.5260 - accuracy: 0.7382 - val_loss: 0.5199 - val_accuracy: 0.7514\n",
            "Epoch 414/1000\n",
            "16/16 - 1s - loss: 0.5270 - accuracy: 0.7350 - val_loss: 0.5159 - val_accuracy: 0.7521\n",
            "Epoch 415/1000\n",
            "16/16 - 1s - loss: 0.5234 - accuracy: 0.7381 - val_loss: 0.5197 - val_accuracy: 0.7525\n",
            "Epoch 416/1000\n",
            "16/16 - 1s - loss: 0.5227 - accuracy: 0.7384 - val_loss: 0.5155 - val_accuracy: 0.7529\n",
            "Epoch 417/1000\n",
            "16/16 - 1s - loss: 0.5217 - accuracy: 0.7416 - val_loss: 0.5179 - val_accuracy: 0.7519\n",
            "Epoch 418/1000\n",
            "16/16 - 1s - loss: 0.5232 - accuracy: 0.7399 - val_loss: 0.5179 - val_accuracy: 0.7516\n",
            "Epoch 419/1000\n",
            "16/16 - 1s - loss: 0.5227 - accuracy: 0.7401 - val_loss: 0.5184 - val_accuracy: 0.7517\n",
            "Epoch 420/1000\n",
            "16/16 - 1s - loss: 0.5244 - accuracy: 0.7358 - val_loss: 0.5177 - val_accuracy: 0.7519\n",
            "Epoch 421/1000\n",
            "16/16 - 1s - loss: 0.5235 - accuracy: 0.7392 - val_loss: 0.5176 - val_accuracy: 0.7519\n",
            "Epoch 422/1000\n",
            "16/16 - 1s - loss: 0.5224 - accuracy: 0.7397 - val_loss: 0.5149 - val_accuracy: 0.7535\n",
            "Epoch 423/1000\n",
            "16/16 - 1s - loss: 0.5213 - accuracy: 0.7398 - val_loss: 0.5159 - val_accuracy: 0.7529\n",
            "Epoch 424/1000\n",
            "16/16 - 1s - loss: 0.5201 - accuracy: 0.7428 - val_loss: 0.5193 - val_accuracy: 0.7530\n",
            "Epoch 425/1000\n",
            "16/16 - 1s - loss: 0.5276 - accuracy: 0.7332 - val_loss: 0.5154 - val_accuracy: 0.7540\n",
            "Epoch 426/1000\n",
            "16/16 - 1s - loss: 0.5220 - accuracy: 0.7409 - val_loss: 0.5150 - val_accuracy: 0.7539\n",
            "Epoch 427/1000\n",
            "16/16 - 1s - loss: 0.5183 - accuracy: 0.7422 - val_loss: 0.5203 - val_accuracy: 0.7529\n",
            "Epoch 428/1000\n",
            "16/16 - 1s - loss: 0.5236 - accuracy: 0.7352 - val_loss: 0.5133 - val_accuracy: 0.7556\n",
            "Epoch 429/1000\n",
            "16/16 - 1s - loss: 0.5246 - accuracy: 0.7400 - val_loss: 0.5177 - val_accuracy: 0.7542\n",
            "Epoch 430/1000\n",
            "16/16 - 1s - loss: 0.5232 - accuracy: 0.7390 - val_loss: 0.5142 - val_accuracy: 0.7545\n",
            "Epoch 431/1000\n",
            "16/16 - 1s - loss: 0.5223 - accuracy: 0.7401 - val_loss: 0.5148 - val_accuracy: 0.7544\n",
            "Epoch 432/1000\n",
            "16/16 - 1s - loss: 0.5231 - accuracy: 0.7386 - val_loss: 0.5140 - val_accuracy: 0.7546\n",
            "Epoch 433/1000\n",
            "16/16 - 1s - loss: 0.5213 - accuracy: 0.7408 - val_loss: 0.5131 - val_accuracy: 0.7552\n",
            "Epoch 434/1000\n",
            "16/16 - 1s - loss: 0.5237 - accuracy: 0.7383 - val_loss: 0.5144 - val_accuracy: 0.7552\n",
            "Epoch 435/1000\n",
            "16/16 - 1s - loss: 0.5187 - accuracy: 0.7407 - val_loss: 0.5142 - val_accuracy: 0.7551\n",
            "Epoch 436/1000\n",
            "16/16 - 1s - loss: 0.5188 - accuracy: 0.7398 - val_loss: 0.5162 - val_accuracy: 0.7549\n",
            "Epoch 437/1000\n",
            "16/16 - 1s - loss: 0.5219 - accuracy: 0.7395 - val_loss: 0.5121 - val_accuracy: 0.7567\n",
            "Epoch 438/1000\n",
            "16/16 - 1s - loss: 0.5197 - accuracy: 0.7400 - val_loss: 0.5150 - val_accuracy: 0.7555\n",
            "Epoch 439/1000\n",
            "16/16 - 1s - loss: 0.5198 - accuracy: 0.7446 - val_loss: 0.5156 - val_accuracy: 0.7558\n",
            "Epoch 440/1000\n",
            "16/16 - 1s - loss: 0.5214 - accuracy: 0.7401 - val_loss: 0.5125 - val_accuracy: 0.7571\n",
            "Epoch 441/1000\n",
            "16/16 - 1s - loss: 0.5205 - accuracy: 0.7396 - val_loss: 0.5157 - val_accuracy: 0.7569\n",
            "Epoch 442/1000\n",
            "16/16 - 1s - loss: 0.5212 - accuracy: 0.7395 - val_loss: 0.5104 - val_accuracy: 0.7584\n",
            "Epoch 443/1000\n",
            "16/16 - 1s - loss: 0.5214 - accuracy: 0.7405 - val_loss: 0.5143 - val_accuracy: 0.7570\n",
            "Epoch 444/1000\n",
            "16/16 - 1s - loss: 0.5185 - accuracy: 0.7423 - val_loss: 0.5130 - val_accuracy: 0.7567\n",
            "Epoch 445/1000\n",
            "16/16 - 1s - loss: 0.5200 - accuracy: 0.7427 - val_loss: 0.5116 - val_accuracy: 0.7581\n",
            "Epoch 446/1000\n",
            "16/16 - 1s - loss: 0.5184 - accuracy: 0.7434 - val_loss: 0.5136 - val_accuracy: 0.7575\n",
            "Epoch 447/1000\n",
            "16/16 - 1s - loss: 0.5200 - accuracy: 0.7407 - val_loss: 0.5147 - val_accuracy: 0.7576\n",
            "Epoch 448/1000\n",
            "16/16 - 1s - loss: 0.5166 - accuracy: 0.7447 - val_loss: 0.5115 - val_accuracy: 0.7584\n",
            "Epoch 449/1000\n",
            "16/16 - 1s - loss: 0.5198 - accuracy: 0.7405 - val_loss: 0.5119 - val_accuracy: 0.7586\n",
            "Epoch 450/1000\n",
            "16/16 - 1s - loss: 0.5200 - accuracy: 0.7412 - val_loss: 0.5117 - val_accuracy: 0.7586\n",
            "Epoch 451/1000\n",
            "16/16 - 1s - loss: 0.5199 - accuracy: 0.7407 - val_loss: 0.5114 - val_accuracy: 0.7588\n",
            "Epoch 452/1000\n",
            "16/16 - 1s - loss: 0.5137 - accuracy: 0.7461 - val_loss: 0.5112 - val_accuracy: 0.7594\n",
            "Epoch 453/1000\n",
            "16/16 - 1s - loss: 0.5172 - accuracy: 0.7430 - val_loss: 0.5132 - val_accuracy: 0.7585\n",
            "Epoch 454/1000\n",
            "16/16 - 1s - loss: 0.5191 - accuracy: 0.7412 - val_loss: 0.5134 - val_accuracy: 0.7585\n",
            "Epoch 455/1000\n",
            "16/16 - 1s - loss: 0.5175 - accuracy: 0.7425 - val_loss: 0.5112 - val_accuracy: 0.7599\n",
            "Epoch 456/1000\n",
            "16/16 - 1s - loss: 0.5185 - accuracy: 0.7414 - val_loss: 0.5104 - val_accuracy: 0.7605\n",
            "Epoch 457/1000\n",
            "16/16 - 1s - loss: 0.5164 - accuracy: 0.7445 - val_loss: 0.5124 - val_accuracy: 0.7598\n",
            "Epoch 458/1000\n",
            "16/16 - 1s - loss: 0.5177 - accuracy: 0.7441 - val_loss: 0.5111 - val_accuracy: 0.7604\n"
          ],
          "name": "stdout"
        }
      ]
    },
    {
      "cell_type": "code",
      "metadata": {
        "colab": {
          "base_uri": "https://localhost:8080/",
          "height": 343
        },
        "id": "jcbq4APKn5IZ",
        "outputId": "ffb6ebb4-e528-4eb3-cd12-73690db3fd1f"
      },
      "source": [
        "#model.save('model1.h5')\n",
        "hist = pd.DataFrame(history.history)\n",
        "hist['epoch'] = history.epoch\n",
        "hist.tail(10)"
      ],
      "execution_count": null,
      "outputs": [
        {
          "output_type": "execute_result",
          "data": {
            "text/html": [
              "<div>\n",
              "<style scoped>\n",
              "    .dataframe tbody tr th:only-of-type {\n",
              "        vertical-align: middle;\n",
              "    }\n",
              "\n",
              "    .dataframe tbody tr th {\n",
              "        vertical-align: top;\n",
              "    }\n",
              "\n",
              "    .dataframe thead th {\n",
              "        text-align: right;\n",
              "    }\n",
              "</style>\n",
              "<table border=\"1\" class=\"dataframe\">\n",
              "  <thead>\n",
              "    <tr style=\"text-align: right;\">\n",
              "      <th></th>\n",
              "      <th>loss</th>\n",
              "      <th>accuracy</th>\n",
              "      <th>val_loss</th>\n",
              "      <th>val_accuracy</th>\n",
              "      <th>epoch</th>\n",
              "    </tr>\n",
              "  </thead>\n",
              "  <tbody>\n",
              "    <tr>\n",
              "      <th>448</th>\n",
              "      <td>0.519765</td>\n",
              "      <td>0.740469</td>\n",
              "      <td>0.511862</td>\n",
              "      <td>0.758625</td>\n",
              "      <td>448</td>\n",
              "    </tr>\n",
              "    <tr>\n",
              "      <th>449</th>\n",
              "      <td>0.520015</td>\n",
              "      <td>0.741219</td>\n",
              "      <td>0.511657</td>\n",
              "      <td>0.758625</td>\n",
              "      <td>449</td>\n",
              "    </tr>\n",
              "    <tr>\n",
              "      <th>450</th>\n",
              "      <td>0.519880</td>\n",
              "      <td>0.740656</td>\n",
              "      <td>0.511432</td>\n",
              "      <td>0.758750</td>\n",
              "      <td>450</td>\n",
              "    </tr>\n",
              "    <tr>\n",
              "      <th>451</th>\n",
              "      <td>0.513735</td>\n",
              "      <td>0.746063</td>\n",
              "      <td>0.511226</td>\n",
              "      <td>0.759375</td>\n",
              "      <td>451</td>\n",
              "    </tr>\n",
              "    <tr>\n",
              "      <th>452</th>\n",
              "      <td>0.517233</td>\n",
              "      <td>0.742969</td>\n",
              "      <td>0.513168</td>\n",
              "      <td>0.758500</td>\n",
              "      <td>452</td>\n",
              "    </tr>\n",
              "    <tr>\n",
              "      <th>453</th>\n",
              "      <td>0.519063</td>\n",
              "      <td>0.741156</td>\n",
              "      <td>0.513379</td>\n",
              "      <td>0.758500</td>\n",
              "      <td>453</td>\n",
              "    </tr>\n",
              "    <tr>\n",
              "      <th>454</th>\n",
              "      <td>0.517527</td>\n",
              "      <td>0.742500</td>\n",
              "      <td>0.511173</td>\n",
              "      <td>0.759875</td>\n",
              "      <td>454</td>\n",
              "    </tr>\n",
              "    <tr>\n",
              "      <th>455</th>\n",
              "      <td>0.518456</td>\n",
              "      <td>0.741375</td>\n",
              "      <td>0.510403</td>\n",
              "      <td>0.760500</td>\n",
              "      <td>455</td>\n",
              "    </tr>\n",
              "    <tr>\n",
              "      <th>456</th>\n",
              "      <td>0.516405</td>\n",
              "      <td>0.744531</td>\n",
              "      <td>0.512390</td>\n",
              "      <td>0.759750</td>\n",
              "      <td>456</td>\n",
              "    </tr>\n",
              "    <tr>\n",
              "      <th>457</th>\n",
              "      <td>0.517656</td>\n",
              "      <td>0.744094</td>\n",
              "      <td>0.511128</td>\n",
              "      <td>0.760375</td>\n",
              "      <td>457</td>\n",
              "    </tr>\n",
              "  </tbody>\n",
              "</table>\n",
              "</div>"
            ],
            "text/plain": [
              "         loss  accuracy  val_loss  val_accuracy  epoch\n",
              "448  0.519765  0.740469  0.511862      0.758625    448\n",
              "449  0.520015  0.741219  0.511657      0.758625    449\n",
              "450  0.519880  0.740656  0.511432      0.758750    450\n",
              "451  0.513735  0.746063  0.511226      0.759375    451\n",
              "452  0.517233  0.742969  0.513168      0.758500    452\n",
              "453  0.519063  0.741156  0.513379      0.758500    453\n",
              "454  0.517527  0.742500  0.511173      0.759875    454\n",
              "455  0.518456  0.741375  0.510403      0.760500    455\n",
              "456  0.516405  0.744531  0.512390      0.759750    456\n",
              "457  0.517656  0.744094  0.511128      0.760375    457"
            ]
          },
          "metadata": {
            "tags": []
          },
          "execution_count": 39
        }
      ]
    },
    {
      "cell_type": "code",
      "metadata": {
        "colab": {
          "base_uri": "https://localhost:8080/",
          "height": 513
        },
        "id": "0AhV-FsdqeAk",
        "outputId": "fde7b3c0-fa51-4888-efce-d1da0e1116a2"
      },
      "source": [
        "epochs_range = range(458)\n",
        "\n",
        "fig=plt.figure(figsize=(12, 8))\n",
        "\n",
        "plt.subplot(1, 2, 1)\n",
        "plt.plot(epochs_range, history.history['accuracy'], label='Training Accuracy', color=[0.75, 0.75, 0])\n",
        "plt.plot(epochs_range, history.history['val_accuracy'], label='Validation Accuracy', color= \t[0.6350, 0.0780, 0.1840])\n",
        "plt.xlabel('Epochs')\n",
        "plt.ylabel('Accuracy')\n",
        "plt.title('Training and Validation Accuracy')\n",
        "plt.legend()\n",
        "plt.grid(True)\n",
        "\n",
        "plt.subplot(1, 2, 2)\n",
        "plt.plot(epochs_range, history.history['loss'], label='Training Loss', color=\t[0.4940, 0.1840, 0.5560])\n",
        "plt.plot(epochs_range, history.history['val_loss'], label='Validation Loss', color= [0.3010, 0.7450, 0.9330])\n",
        "plt.xlabel('Epochs')\n",
        "plt.ylabel('Loss')\n",
        "plt.legend()\n",
        "plt.grid(True)\n",
        "plt.title('Training and Validation Loss')\n",
        "plt.show()\n",
        "#fig.savefig('TrainHistory_LSTM_1.pdf')"
      ],
      "execution_count": null,
      "outputs": [
        {
          "output_type": "display_data",
          "data": {
            "image/png": "[encoded data removed]",
            "text/plain": [
              "<Figure size 864x576 with 2 Axes>"
            ]
          },
          "metadata": {
            "tags": [],
            "needs_background": "light"
          }
        }
      ]
    },
    {
      "cell_type": "code",
      "metadata": {
        "colab": {
          "base_uri": "https://localhost:8080/"
        },
        "id": "TeibCGHwqlsl",
        "outputId": "1973744c-ef05-4215-b4f5-9f035b0c453e"
      },
      "source": [
        "loss, accuracy = model.evaluate(X_train, y_train, verbose=False)\n",
        "print(\"Training Accuracy: {:.4f}\".format(accuracy*100))\n",
        "\n",
        "# test data for test_accuracy\n",
        "test_loss, test_accuracy = model.evaluate(X_test, y_test, verbose=False)\n",
        "print(\"Testing Accuracy:  {:.4f}\".format(test_accuracy*100))"
      ],
      "execution_count": null,
      "outputs": [
        {
          "output_type": "stream",
          "text": [
            "Training Accuracy: 75.8700\n",
            "Testing Accuracy:  75.4200\n"
          ],
          "name": "stdout"
        }
      ]
    },
    {
      "cell_type": "markdown",
      "metadata": {
        "id": "qgdgNtvvO8zL"
      },
      "source": [
        "###Classification Report "
      ]
    },
    {
      "cell_type": "code",
      "metadata": {
        "colab": {
          "base_uri": "https://localhost:8080/"
        },
        "id": "9LEnzooWZwiA",
        "outputId": "c7d0f953-d317-4387-f730-fc9907a7895f"
      },
      "source": [
        "##Predicting the Test Data\n",
        "y_pred_lstm = model.predict(X_test)\n",
        "#Rounding of the Probabilities \n",
        "y_pred_lstm_round = y_pred_lstm.round().astype('int')\n",
        "# Classification Reports\n",
        "report_rfc = classification_report(y_test, y_pred_lstm_round)\n",
        "print(report_rfc)\n",
        "y_auc = roc_auc_score(y_test, y_pred_lstm_round)\n",
        "print('LSTM: ROC AUC=%.3f' % (y_auc))"
      ],
      "execution_count": null,
      "outputs": [
        {
          "output_type": "stream",
          "text": [
            "              precision    recall  f1-score   support\n",
            "\n",
            "           0       0.82      0.66      0.73      5082\n",
            "           1       0.71      0.85      0.77      4918\n",
            "\n",
            "    accuracy                           0.75     10000\n",
            "   macro avg       0.76      0.76      0.75     10000\n",
            "weighted avg       0.76      0.75      0.75     10000\n",
            "\n",
            "LSTM: ROC AUC=0.756\n"
          ],
          "name": "stdout"
        }
      ]
    },
    {
      "cell_type": "markdown",
      "metadata": {
        "id": "OkW9Xwv3PFIW"
      },
      "source": [
        "### ROC Curve "
      ]
    },
    {
      "cell_type": "code",
      "metadata": {
        "colab": {
          "base_uri": "https://localhost:8080/",
          "height": 350
        },
        "id": "wgfkBQlzfhL7",
        "outputId": "e9d2ff9b-33a9-4107-993d-427d28fbf7f1"
      },
      "source": [
        "fpr, tpr, thresholds = roc_curve(y_test,y_pred_lstm)\r\n",
        "roc_auc = auc(fpr, tpr)\r\n",
        "fig=plt.figure(figsize=(6, 5))\r\n",
        "plt.plot(fpr, tpr, color= 'navy', lw=2, label='ROC curve (area = %0.2f)' % roc_auc)\r\n",
        "plt.plot([0, 1], [0, 1], color= 'red', lw=2, linestyle='--')\r\n",
        "plt.xlim([0.0, 1.0])\r\n",
        "plt.ylim([0.0, 1.05])\r\n",
        "plt.xlabel('False Positive Rate')\r\n",
        "plt.ylabel('True Positive Rate')\r\n",
        "plt.grid(True)\r\n",
        "plt.title('ROC curve for LSTM Model')\r\n",
        "plt.legend(loc=\"lower right\")\r\n",
        "plt.show()\r\n",
        "#fig.savefig('ROC_BiLSTM_83_1.pdf')"
      ],
      "execution_count": null,
      "outputs": [
        {
          "output_type": "display_data",
          "data": {
            "image/png": "[encoded data removed]",
            "text/plain": [
              "<Figure size 432x360 with 1 Axes>"
            ]
          },
          "metadata": {
            "tags": [],
            "needs_background": "light"
          }
        }
      ]
    },
    {
      "cell_type": "markdown",
      "metadata": {
        "id": "Z89rXRxGPQIi"
      },
      "source": [
        "###Confusion Matrix"
      ]
    },
    {
      "cell_type": "code",
      "metadata": {
        "colab": {
          "base_uri": "https://localhost:8080/",
          "height": 350
        },
        "id": "M4siJVjbiw3m",
        "outputId": "1652e91e-adb4-4da8-a260-9da640b6d1e6"
      },
      "source": [
        "# Creates a confusion matrix\r\n",
        "cm = confusion_matrix(y_test,y_pred_lstm_round) \r\n",
        "\r\n",
        "# Transform to df for easier plotting\r\n",
        "cm_df = pd.DataFrame(cm,\r\n",
        "                     index = ['Postive','Negative'], \r\n",
        "                     columns = ['Postive','Negative'])\r\n",
        "\r\n",
        "fig = plt.figure(figsize=(6,5))\r\n",
        "sns.heatmap(cm_df, annot=True,fmt='g')\r\n",
        "plt.title('Confusion Matrix for LSTM Model')\r\n",
        "plt.ylabel('True label')\r\n",
        "plt.xlabel('Predicted label')\r\n",
        "plt.show()\r\n",
        "#fig.savefig('ConfusionMatrix_BiLSTM_final.pdf')"
      ],
      "execution_count": null,
      "outputs": [
        {
          "output_type": "display_data",
          "data": {
            "image/png": "[encoded data removed]",
            "text/plain": [
              "<Figure size 432x360 with 2 Axes>"
            ]
          },
          "metadata": {
            "tags": [],
            "needs_background": "light"
          }
        }
      ]
    },
    {
      "cell_type": "markdown",
      "metadata": {
        "id": "hXXTeRHg2jTz"
      },
      "source": [
        "##Model 2 - Bidirectional LSTM \n"
      ]
    },
    {
      "cell_type": "code",
      "metadata": {
        "id": "y_sNDGMz2jT1"
      },
      "source": [
        "model_BiLSTM = tf.keras.Sequential([\n",
        "    tf.keras.layers.Embedding(num_words, embedding_matrix.shape[1], input_length = MAX_LEN, weights = [embedding_matrix],\n",
        "                             trainable = False),                   \n",
        "    tf.keras.layers.Bidirectional(tf.keras.layers.LSTM(64, return_sequences = True, dropout = 0.6, recurrent_dropout = 0.6)),\n",
        "    tf.keras.layers.GlobalMaxPool1D(),\n",
        "    tf.keras.layers.Dropout(0.6),\n",
        "    tf.keras.layers.Dense(units=8, activation=\"relu\"),\n",
        "    tf.keras.layers.Dense(units=1, activation=\"sigmoid\")    \n",
        "])\n",
        "\n",
        "model_BiLSTM.compile(loss = 'binary_crossentropy', optimizer = tf.keras.optimizers.RMSprop(lr=4*0.0001), metrics = ['acc'])\n",
        "\n",
        "#define early stopping callback\n",
        "callback = tf.keras.callbacks.EarlyStopping(monitor='val_loss', patience=16)\n"
      ],
      "execution_count": null,
      "outputs": []
    },
    {
      "cell_type": "code",
      "metadata": {
        "id": "m67rdGII2jT5",
        "colab": {
          "base_uri": "https://localhost:8080/"
        },
        "outputId": "81489d60-37e0-45d6-9f99-a88bf263c974"
      },
      "source": [
        "model_BiLSTM.summary()"
      ],
      "execution_count": null,
      "outputs": [
        {
          "output_type": "stream",
          "text": [
            "Model: \"sequential_1\"\n",
            "_________________________________________________________________\n",
            "Layer (type)                 Output Shape              Param #   \n",
            "=================================================================\n",
            "embedding_1 (Embedding)      (None, 50, 100)           21415800  \n",
            "_________________________________________________________________\n",
            "bidirectional (Bidirectional (None, 50, 128)           84480     \n",
            "_________________________________________________________________\n",
            "global_max_pooling1d (Global (None, 128)               0         \n",
            "_________________________________________________________________\n",
            "dropout (Dropout)            (None, 128)               0         \n",
            "_________________________________________________________________\n",
            "dense_1 (Dense)              (None, 8)                 1032      \n",
            "_________________________________________________________________\n",
            "dense_2 (Dense)              (None, 1)                 9         \n",
            "=================================================================\n",
            "Total params: 21,501,321\n",
            "Trainable params: 85,521\n",
            "Non-trainable params: 21,415,800\n",
            "_________________________________________________________________\n"
          ],
          "name": "stdout"
        }
      ]
    },
    {
      "cell_type": "code",
      "metadata": {
        "colab": {
          "base_uri": "https://localhost:8080/"
        },
        "id": "NDCsse882jUB",
        "outputId": "9ae296cf-e6d2-4c8d-c8e4-96a5f46b1a37"
      },
      "source": [
        "history=model_BiLSTM.fit(X_train,y_train,batch_size=2000,epochs=1000,validation_split=0.15,verbose=1,callbacks = [callback])"
      ],
      "execution_count": null,
      "outputs": [
        {
          "output_type": "stream",
          "text": [
            "Epoch 1/1000\n",
            "17/17 [==============================] - 3s 174ms/step - loss: 0.7144 - acc: 0.5065 - val_loss: 0.6936 - val_acc: 0.4982\n",
            "Epoch 2/1000\n",
            "17/17 [==============================] - 2s 146ms/step - loss: 0.6941 - acc: 0.5299 - val_loss: 0.6842 - val_acc: 0.5590\n",
            "Epoch 3/1000\n",
            "17/17 [==============================] - 3s 153ms/step - loss: 0.6837 - acc: 0.5582 - val_loss: 0.6648 - val_acc: 0.6210\n",
            "Epoch 4/1000\n",
            "17/17 [==============================] - 3s 157ms/step - loss: 0.6616 - acc: 0.6056 - val_loss: 0.6174 - val_acc: 0.6867\n",
            "Epoch 5/1000\n",
            "17/17 [==============================] - 2s 141ms/step - loss: 0.6268 - acc: 0.6555 - val_loss: 0.5962 - val_acc: 0.6898\n",
            "Epoch 6/1000\n",
            "17/17 [==============================] - 3s 150ms/step - loss: 0.6087 - acc: 0.6753 - val_loss: 0.5765 - val_acc: 0.7068\n",
            "Epoch 7/1000\n",
            "17/17 [==============================] - 3s 149ms/step - loss: 0.5947 - acc: 0.6897 - val_loss: 0.5684 - val_acc: 0.7167\n",
            "Epoch 8/1000\n",
            "17/17 [==============================] - 3s 162ms/step - loss: 0.5875 - acc: 0.6953 - val_loss: 0.5696 - val_acc: 0.7050\n",
            "Epoch 9/1000\n",
            "17/17 [==============================] - 3s 155ms/step - loss: 0.5818 - acc: 0.7008 - val_loss: 0.5518 - val_acc: 0.7298\n",
            "Epoch 10/1000\n",
            "17/17 [==============================] - 3s 156ms/step - loss: 0.5752 - acc: 0.7028 - val_loss: 0.5509 - val_acc: 0.7243\n",
            "Epoch 11/1000\n",
            "17/17 [==============================] - 2s 147ms/step - loss: 0.5702 - acc: 0.7090 - val_loss: 0.5377 - val_acc: 0.7340\n",
            "Epoch 12/1000\n",
            "17/17 [==============================] - 3s 155ms/step - loss: 0.5670 - acc: 0.7118 - val_loss: 0.5512 - val_acc: 0.7240\n",
            "Epoch 13/1000\n",
            "17/17 [==============================] - 2s 145ms/step - loss: 0.5645 - acc: 0.7123 - val_loss: 0.5430 - val_acc: 0.7322\n",
            "Epoch 14/1000\n",
            "17/17 [==============================] - 3s 153ms/step - loss: 0.5606 - acc: 0.7122 - val_loss: 0.5229 - val_acc: 0.7435\n",
            "Epoch 15/1000\n",
            "17/17 [==============================] - 2s 144ms/step - loss: 0.5597 - acc: 0.7128 - val_loss: 0.5228 - val_acc: 0.7442\n",
            "Epoch 16/1000\n",
            "17/17 [==============================] - 3s 152ms/step - loss: 0.5556 - acc: 0.7216 - val_loss: 0.5328 - val_acc: 0.7353\n",
            "Epoch 17/1000\n",
            "17/17 [==============================] - 3s 149ms/step - loss: 0.5505 - acc: 0.7237 - val_loss: 0.5127 - val_acc: 0.7495\n",
            "Epoch 18/1000\n",
            "17/17 [==============================] - 2s 144ms/step - loss: 0.5504 - acc: 0.7199 - val_loss: 0.5153 - val_acc: 0.7510\n",
            "Epoch 19/1000\n",
            "17/17 [==============================] - 3s 161ms/step - loss: 0.5518 - acc: 0.7193 - val_loss: 0.5050 - val_acc: 0.7588\n",
            "Epoch 20/1000\n",
            "17/17 [==============================] - 3s 153ms/step - loss: 0.5423 - acc: 0.7294 - val_loss: 0.5058 - val_acc: 0.7612\n",
            "Epoch 21/1000\n",
            "17/17 [==============================] - 3s 153ms/step - loss: 0.5423 - acc: 0.7292 - val_loss: 0.5097 - val_acc: 0.7542\n",
            "Epoch 22/1000\n",
            "17/17 [==============================] - 2s 140ms/step - loss: 0.5413 - acc: 0.7270 - val_loss: 0.5092 - val_acc: 0.7548\n",
            "Epoch 23/1000\n",
            "17/17 [==============================] - 3s 154ms/step - loss: 0.5421 - acc: 0.7290 - val_loss: 0.5006 - val_acc: 0.7602\n",
            "Epoch 24/1000\n",
            "17/17 [==============================] - 3s 154ms/step - loss: 0.5359 - acc: 0.7304 - val_loss: 0.4981 - val_acc: 0.7642\n",
            "Epoch 25/1000\n",
            "17/17 [==============================] - 3s 162ms/step - loss: 0.5331 - acc: 0.7336 - val_loss: 0.4989 - val_acc: 0.7630\n",
            "Epoch 26/1000\n",
            "17/17 [==============================] - 3s 168ms/step - loss: 0.5291 - acc: 0.7380 - val_loss: 0.4919 - val_acc: 0.7687\n",
            "Epoch 27/1000\n",
            "17/17 [==============================] - 2s 146ms/step - loss: 0.5298 - acc: 0.7361 - val_loss: 0.4916 - val_acc: 0.7698\n",
            "Epoch 28/1000\n",
            "17/17 [==============================] - 3s 157ms/step - loss: 0.5270 - acc: 0.7397 - val_loss: 0.4908 - val_acc: 0.7662\n",
            "Epoch 29/1000\n",
            "17/17 [==============================] - 3s 148ms/step - loss: 0.5275 - acc: 0.7377 - val_loss: 0.4965 - val_acc: 0.7628\n",
            "Epoch 30/1000\n",
            "17/17 [==============================] - 3s 153ms/step - loss: 0.5253 - acc: 0.7384 - val_loss: 0.5114 - val_acc: 0.7558\n",
            "Epoch 31/1000\n",
            "17/17 [==============================] - 3s 158ms/step - loss: 0.5263 - acc: 0.7370 - val_loss: 0.4928 - val_acc: 0.7653\n",
            "Epoch 32/1000\n",
            "17/17 [==============================] - 2s 143ms/step - loss: 0.5210 - acc: 0.7434 - val_loss: 0.4923 - val_acc: 0.7638\n",
            "Epoch 33/1000\n",
            "17/17 [==============================] - 2s 144ms/step - loss: 0.5202 - acc: 0.7414 - val_loss: 0.4888 - val_acc: 0.7702\n",
            "Epoch 34/1000\n",
            "17/17 [==============================] - 3s 147ms/step - loss: 0.5161 - acc: 0.7464 - val_loss: 0.4830 - val_acc: 0.7728\n",
            "Epoch 35/1000\n",
            "17/17 [==============================] - 3s 150ms/step - loss: 0.5174 - acc: 0.7427 - val_loss: 0.4784 - val_acc: 0.7758\n",
            "Epoch 36/1000\n",
            "17/17 [==============================] - 3s 152ms/step - loss: 0.5139 - acc: 0.7478 - val_loss: 0.4781 - val_acc: 0.7757\n",
            "Epoch 37/1000\n",
            "17/17 [==============================] - 3s 158ms/step - loss: 0.5150 - acc: 0.7460 - val_loss: 0.4868 - val_acc: 0.7672\n",
            "Epoch 38/1000\n",
            "17/17 [==============================] - 2s 140ms/step - loss: 0.5104 - acc: 0.7496 - val_loss: 0.4735 - val_acc: 0.7785\n",
            "Epoch 39/1000\n",
            "17/17 [==============================] - 3s 150ms/step - loss: 0.5094 - acc: 0.7496 - val_loss: 0.4785 - val_acc: 0.7732\n",
            "Epoch 40/1000\n",
            "17/17 [==============================] - 2s 144ms/step - loss: 0.5088 - acc: 0.7494 - val_loss: 0.4762 - val_acc: 0.7748\n",
            "Epoch 41/1000\n",
            "17/17 [==============================] - 3s 160ms/step - loss: 0.5085 - acc: 0.7498 - val_loss: 0.4679 - val_acc: 0.7787\n",
            "Epoch 42/1000\n",
            "17/17 [==============================] - 3s 150ms/step - loss: 0.5054 - acc: 0.7530 - val_loss: 0.4834 - val_acc: 0.7722\n",
            "Epoch 43/1000\n",
            "17/17 [==============================] - 2s 142ms/step - loss: 0.5035 - acc: 0.7544 - val_loss: 0.4687 - val_acc: 0.7808\n",
            "Epoch 44/1000\n",
            "17/17 [==============================] - 3s 151ms/step - loss: 0.5044 - acc: 0.7554 - val_loss: 0.4704 - val_acc: 0.7765\n",
            "Epoch 45/1000\n",
            "17/17 [==============================] - 2s 144ms/step - loss: 0.5025 - acc: 0.7554 - val_loss: 0.4687 - val_acc: 0.7765\n",
            "Epoch 46/1000\n",
            "17/17 [==============================] - 2s 146ms/step - loss: 0.5001 - acc: 0.7531 - val_loss: 0.4600 - val_acc: 0.7822\n",
            "Epoch 47/1000\n",
            "17/17 [==============================] - 2s 145ms/step - loss: 0.4969 - acc: 0.7581 - val_loss: 0.4629 - val_acc: 0.7855\n",
            "Epoch 48/1000\n",
            "17/17 [==============================] - 2s 143ms/step - loss: 0.4954 - acc: 0.7613 - val_loss: 0.4661 - val_acc: 0.7848\n",
            "Epoch 49/1000\n",
            "17/17 [==============================] - 2s 145ms/step - loss: 0.4946 - acc: 0.7584 - val_loss: 0.4705 - val_acc: 0.7822\n",
            "Epoch 50/1000\n",
            "17/17 [==============================] - 2s 146ms/step - loss: 0.4952 - acc: 0.7578 - val_loss: 0.4719 - val_acc: 0.7778\n",
            "Epoch 51/1000\n",
            "17/17 [==============================] - 2s 143ms/step - loss: 0.4927 - acc: 0.7616 - val_loss: 0.4564 - val_acc: 0.7822\n",
            "Epoch 52/1000\n",
            "17/17 [==============================] - 2s 138ms/step - loss: 0.4944 - acc: 0.7600 - val_loss: 0.4569 - val_acc: 0.7865\n",
            "Epoch 53/1000\n",
            "17/17 [==============================] - 3s 150ms/step - loss: 0.4937 - acc: 0.7612 - val_loss: 0.4543 - val_acc: 0.7883\n",
            "Epoch 54/1000\n",
            "17/17 [==============================] - 3s 155ms/step - loss: 0.4852 - acc: 0.7666 - val_loss: 0.4517 - val_acc: 0.7860\n",
            "Epoch 55/1000\n",
            "17/17 [==============================] - 3s 155ms/step - loss: 0.4899 - acc: 0.7615 - val_loss: 0.4591 - val_acc: 0.7817\n",
            "Epoch 56/1000\n",
            "17/17 [==============================] - 3s 149ms/step - loss: 0.4906 - acc: 0.7617 - val_loss: 0.4536 - val_acc: 0.7832\n",
            "Epoch 57/1000\n",
            "17/17 [==============================] - 2s 140ms/step - loss: 0.4862 - acc: 0.7630 - val_loss: 0.4520 - val_acc: 0.7903\n",
            "Epoch 58/1000\n",
            "17/17 [==============================] - 2s 143ms/step - loss: 0.4869 - acc: 0.7651 - val_loss: 0.4551 - val_acc: 0.7847\n",
            "Epoch 59/1000\n",
            "17/17 [==============================] - 3s 164ms/step - loss: 0.4823 - acc: 0.7674 - val_loss: 0.4563 - val_acc: 0.7870\n",
            "Epoch 60/1000\n",
            "17/17 [==============================] - 3s 149ms/step - loss: 0.4854 - acc: 0.7643 - val_loss: 0.4623 - val_acc: 0.7868\n",
            "Epoch 61/1000\n",
            "17/17 [==============================] - 3s 150ms/step - loss: 0.4806 - acc: 0.7682 - val_loss: 0.4712 - val_acc: 0.7788\n",
            "Epoch 62/1000\n",
            "17/17 [==============================] - 3s 156ms/step - loss: 0.4828 - acc: 0.7679 - val_loss: 0.4496 - val_acc: 0.7857\n",
            "Epoch 63/1000\n",
            "17/17 [==============================] - 3s 153ms/step - loss: 0.4809 - acc: 0.7699 - val_loss: 0.4525 - val_acc: 0.7902\n",
            "Epoch 64/1000\n",
            "17/17 [==============================] - 2s 147ms/step - loss: 0.4819 - acc: 0.7675 - val_loss: 0.4572 - val_acc: 0.7827\n",
            "Epoch 65/1000\n",
            "17/17 [==============================] - 3s 150ms/step - loss: 0.4785 - acc: 0.7719 - val_loss: 0.4705 - val_acc: 0.7837\n",
            "Epoch 66/1000\n",
            "17/17 [==============================] - 3s 157ms/step - loss: 0.4794 - acc: 0.7696 - val_loss: 0.4587 - val_acc: 0.7878\n",
            "Epoch 67/1000\n",
            "17/17 [==============================] - 3s 152ms/step - loss: 0.4784 - acc: 0.7675 - val_loss: 0.4611 - val_acc: 0.7872\n",
            "Epoch 68/1000\n",
            "17/17 [==============================] - 3s 152ms/step - loss: 0.4782 - acc: 0.7695 - val_loss: 0.4459 - val_acc: 0.7920\n",
            "Epoch 69/1000\n",
            "17/17 [==============================] - 3s 153ms/step - loss: 0.4780 - acc: 0.7669 - val_loss: 0.4493 - val_acc: 0.7905\n",
            "Epoch 70/1000\n",
            "17/17 [==============================] - 3s 155ms/step - loss: 0.4745 - acc: 0.7715 - val_loss: 0.4438 - val_acc: 0.7955\n",
            "Epoch 71/1000\n",
            "17/17 [==============================] - 3s 159ms/step - loss: 0.4760 - acc: 0.7698 - val_loss: 0.4491 - val_acc: 0.7902\n",
            "Epoch 72/1000\n",
            "17/17 [==============================] - 3s 152ms/step - loss: 0.4742 - acc: 0.7722 - val_loss: 0.4468 - val_acc: 0.7928\n",
            "Epoch 73/1000\n",
            "17/17 [==============================] - 3s 152ms/step - loss: 0.4748 - acc: 0.7725 - val_loss: 0.4487 - val_acc: 0.7923\n",
            "Epoch 74/1000\n",
            "17/17 [==============================] - 2s 145ms/step - loss: 0.4755 - acc: 0.7697 - val_loss: 0.4423 - val_acc: 0.7938\n",
            "Epoch 75/1000\n",
            "17/17 [==============================] - 2s 145ms/step - loss: 0.4715 - acc: 0.7735 - val_loss: 0.4432 - val_acc: 0.7925\n",
            "Epoch 76/1000\n",
            "17/17 [==============================] - 3s 158ms/step - loss: 0.4707 - acc: 0.7749 - val_loss: 0.4593 - val_acc: 0.7888\n",
            "Epoch 77/1000\n",
            "17/17 [==============================] - 3s 157ms/step - loss: 0.4684 - acc: 0.7759 - val_loss: 0.4432 - val_acc: 0.7943\n",
            "Epoch 78/1000\n",
            "17/17 [==============================] - 3s 156ms/step - loss: 0.4736 - acc: 0.7715 - val_loss: 0.4546 - val_acc: 0.7893\n",
            "Epoch 79/1000\n",
            "17/17 [==============================] - 3s 153ms/step - loss: 0.4687 - acc: 0.7751 - val_loss: 0.4635 - val_acc: 0.7875\n",
            "Epoch 80/1000\n",
            "17/17 [==============================] - 3s 154ms/step - loss: 0.4670 - acc: 0.7772 - val_loss: 0.4504 - val_acc: 0.7930\n",
            "Epoch 81/1000\n",
            "17/17 [==============================] - 2s 143ms/step - loss: 0.4658 - acc: 0.7769 - val_loss: 0.4435 - val_acc: 0.7957\n",
            "Epoch 82/1000\n",
            "17/17 [==============================] - 3s 153ms/step - loss: 0.4703 - acc: 0.7732 - val_loss: 0.4414 - val_acc: 0.7925\n",
            "Epoch 83/1000\n",
            "17/17 [==============================] - 3s 160ms/step - loss: 0.4664 - acc: 0.7786 - val_loss: 0.4443 - val_acc: 0.7948\n",
            "Epoch 84/1000\n",
            "17/17 [==============================] - 3s 155ms/step - loss: 0.4664 - acc: 0.7752 - val_loss: 0.4492 - val_acc: 0.7932\n",
            "Epoch 85/1000\n",
            "17/17 [==============================] - 3s 148ms/step - loss: 0.4655 - acc: 0.7769 - val_loss: 0.4388 - val_acc: 0.7978\n",
            "Epoch 86/1000\n",
            "17/17 [==============================] - 3s 152ms/step - loss: 0.4636 - acc: 0.7789 - val_loss: 0.4405 - val_acc: 0.7963\n",
            "Epoch 87/1000\n",
            "17/17 [==============================] - 3s 152ms/step - loss: 0.4687 - acc: 0.7771 - val_loss: 0.4431 - val_acc: 0.7953\n",
            "Epoch 88/1000\n",
            "17/17 [==============================] - 2s 137ms/step - loss: 0.4636 - acc: 0.7806 - val_loss: 0.4462 - val_acc: 0.7968\n",
            "Epoch 89/1000\n",
            "17/17 [==============================] - 2s 142ms/step - loss: 0.4664 - acc: 0.7778 - val_loss: 0.4461 - val_acc: 0.7943\n",
            "Epoch 90/1000\n",
            "17/17 [==============================] - 2s 141ms/step - loss: 0.4622 - acc: 0.7801 - val_loss: 0.4618 - val_acc: 0.7873\n",
            "Epoch 91/1000\n",
            "17/17 [==============================] - 2s 143ms/step - loss: 0.4644 - acc: 0.7783 - val_loss: 0.4360 - val_acc: 0.7977\n",
            "Epoch 92/1000\n",
            "17/17 [==============================] - 2s 144ms/step - loss: 0.4608 - acc: 0.7808 - val_loss: 0.4469 - val_acc: 0.7975\n",
            "Epoch 93/1000\n",
            "17/17 [==============================] - 2s 147ms/step - loss: 0.4652 - acc: 0.7776 - val_loss: 0.4373 - val_acc: 0.7982\n",
            "Epoch 94/1000\n",
            "17/17 [==============================] - 3s 148ms/step - loss: 0.4651 - acc: 0.7787 - val_loss: 0.4325 - val_acc: 0.7993\n",
            "Epoch 95/1000\n",
            "17/17 [==============================] - 2s 133ms/step - loss: 0.4605 - acc: 0.7780 - val_loss: 0.4308 - val_acc: 0.7992\n",
            "Epoch 96/1000\n",
            "17/17 [==============================] - 2s 147ms/step - loss: 0.4600 - acc: 0.7828 - val_loss: 0.4648 - val_acc: 0.7875\n",
            "Epoch 97/1000\n",
            "17/17 [==============================] - 3s 148ms/step - loss: 0.4623 - acc: 0.7790 - val_loss: 0.4547 - val_acc: 0.7908\n",
            "Epoch 98/1000\n",
            "17/17 [==============================] - 2s 143ms/step - loss: 0.4627 - acc: 0.7794 - val_loss: 0.4347 - val_acc: 0.7998\n",
            "Epoch 99/1000\n",
            "17/17 [==============================] - 3s 149ms/step - loss: 0.4590 - acc: 0.7800 - val_loss: 0.4514 - val_acc: 0.7940\n",
            "Epoch 100/1000\n",
            "17/17 [==============================] - 2s 146ms/step - loss: 0.4617 - acc: 0.7785 - val_loss: 0.4549 - val_acc: 0.7937\n",
            "Epoch 101/1000\n",
            "17/17 [==============================] - 3s 148ms/step - loss: 0.4575 - acc: 0.7835 - val_loss: 0.4702 - val_acc: 0.7885\n",
            "Epoch 102/1000\n",
            "17/17 [==============================] - 3s 160ms/step - loss: 0.4581 - acc: 0.7835 - val_loss: 0.4343 - val_acc: 0.8003\n",
            "Epoch 103/1000\n",
            "17/17 [==============================] - 3s 151ms/step - loss: 0.4580 - acc: 0.7830 - val_loss: 0.4435 - val_acc: 0.8010\n",
            "Epoch 104/1000\n",
            "17/17 [==============================] - 3s 147ms/step - loss: 0.4625 - acc: 0.7796 - val_loss: 0.4404 - val_acc: 0.7960\n",
            "Epoch 105/1000\n",
            "17/17 [==============================] - 2s 138ms/step - loss: 0.4582 - acc: 0.7826 - val_loss: 0.4349 - val_acc: 0.8000\n",
            "Epoch 106/1000\n",
            "17/17 [==============================] - 2s 144ms/step - loss: 0.4553 - acc: 0.7832 - val_loss: 0.4327 - val_acc: 0.7993\n",
            "Epoch 107/1000\n",
            "17/17 [==============================] - 2s 145ms/step - loss: 0.4546 - acc: 0.7859 - val_loss: 0.4384 - val_acc: 0.7965\n",
            "Epoch 108/1000\n",
            "17/17 [==============================] - 2s 138ms/step - loss: 0.4564 - acc: 0.7810 - val_loss: 0.4410 - val_acc: 0.7992\n",
            "Epoch 109/1000\n",
            "17/17 [==============================] - 3s 147ms/step - loss: 0.4588 - acc: 0.7806 - val_loss: 0.4316 - val_acc: 0.8033\n",
            "Epoch 110/1000\n",
            "17/17 [==============================] - 2s 140ms/step - loss: 0.4547 - acc: 0.7833 - val_loss: 0.4342 - val_acc: 0.8008\n",
            "Epoch 111/1000\n",
            "17/17 [==============================] - 2s 140ms/step - loss: 0.4556 - acc: 0.7825 - val_loss: 0.4375 - val_acc: 0.8025\n"
          ],
          "name": "stdout"
        }
      ]
    },
    {
      "cell_type": "code",
      "metadata": {
        "colab": {
          "base_uri": "https://localhost:8080/",
          "height": 343
        },
        "id": "dwblHz922jUD",
        "outputId": "91ab6a97-2583-44f2-bc53-a5bcd58734ad"
      },
      "source": [
        "# Ref : https://stackoverflow.com/questions/51463383/buffered-data-was-truncated-after-reaching-the-output-size-limit\n",
        "hist = pd.DataFrame(history.history)\n",
        "hist['epoch'] = history.epoch\n",
        "hist.tail(10)"
      ],
      "execution_count": null,
      "outputs": [
        {
          "output_type": "execute_result",
          "data": {
            "text/html": [
              "<div>\n",
              "<style scoped>\n",
              "    .dataframe tbody tr th:only-of-type {\n",
              "        vertical-align: middle;\n",
              "    }\n",
              "\n",
              "    .dataframe tbody tr th {\n",
              "        vertical-align: top;\n",
              "    }\n",
              "\n",
              "    .dataframe thead th {\n",
              "        text-align: right;\n",
              "    }\n",
              "</style>\n",
              "<table border=\"1\" class=\"dataframe\">\n",
              "  <thead>\n",
              "    <tr style=\"text-align: right;\">\n",
              "      <th></th>\n",
              "      <th>loss</th>\n",
              "      <th>acc</th>\n",
              "      <th>val_loss</th>\n",
              "      <th>val_acc</th>\n",
              "      <th>epoch</th>\n",
              "    </tr>\n",
              "  </thead>\n",
              "  <tbody>\n",
              "    <tr>\n",
              "      <th>101</th>\n",
              "      <td>0.458125</td>\n",
              "      <td>0.783529</td>\n",
              "      <td>0.434331</td>\n",
              "      <td>0.800333</td>\n",
              "      <td>101</td>\n",
              "    </tr>\n",
              "    <tr>\n",
              "      <th>102</th>\n",
              "      <td>0.457981</td>\n",
              "      <td>0.782971</td>\n",
              "      <td>0.443548</td>\n",
              "      <td>0.801000</td>\n",
              "      <td>102</td>\n",
              "    </tr>\n",
              "    <tr>\n",
              "      <th>103</th>\n",
              "      <td>0.462514</td>\n",
              "      <td>0.779647</td>\n",
              "      <td>0.440381</td>\n",
              "      <td>0.796000</td>\n",
              "      <td>103</td>\n",
              "    </tr>\n",
              "    <tr>\n",
              "      <th>104</th>\n",
              "      <td>0.458243</td>\n",
              "      <td>0.782618</td>\n",
              "      <td>0.434885</td>\n",
              "      <td>0.800000</td>\n",
              "      <td>104</td>\n",
              "    </tr>\n",
              "    <tr>\n",
              "      <th>105</th>\n",
              "      <td>0.455334</td>\n",
              "      <td>0.783176</td>\n",
              "      <td>0.432726</td>\n",
              "      <td>0.799333</td>\n",
              "      <td>105</td>\n",
              "    </tr>\n",
              "    <tr>\n",
              "      <th>106</th>\n",
              "      <td>0.454568</td>\n",
              "      <td>0.785912</td>\n",
              "      <td>0.438418</td>\n",
              "      <td>0.796500</td>\n",
              "      <td>106</td>\n",
              "    </tr>\n",
              "    <tr>\n",
              "      <th>107</th>\n",
              "      <td>0.456445</td>\n",
              "      <td>0.780971</td>\n",
              "      <td>0.441018</td>\n",
              "      <td>0.799167</td>\n",
              "      <td>107</td>\n",
              "    </tr>\n",
              "    <tr>\n",
              "      <th>108</th>\n",
              "      <td>0.458750</td>\n",
              "      <td>0.780647</td>\n",
              "      <td>0.431609</td>\n",
              "      <td>0.803333</td>\n",
              "      <td>108</td>\n",
              "    </tr>\n",
              "    <tr>\n",
              "      <th>109</th>\n",
              "      <td>0.454706</td>\n",
              "      <td>0.783265</td>\n",
              "      <td>0.434218</td>\n",
              "      <td>0.800833</td>\n",
              "      <td>109</td>\n",
              "    </tr>\n",
              "    <tr>\n",
              "      <th>110</th>\n",
              "      <td>0.455646</td>\n",
              "      <td>0.782500</td>\n",
              "      <td>0.437511</td>\n",
              "      <td>0.802500</td>\n",
              "      <td>110</td>\n",
              "    </tr>\n",
              "  </tbody>\n",
              "</table>\n",
              "</div>"
            ],
            "text/plain": [
              "         loss       acc  val_loss   val_acc  epoch\n",
              "101  0.458125  0.783529  0.434331  0.800333    101\n",
              "102  0.457981  0.782971  0.443548  0.801000    102\n",
              "103  0.462514  0.779647  0.440381  0.796000    103\n",
              "104  0.458243  0.782618  0.434885  0.800000    104\n",
              "105  0.455334  0.783176  0.432726  0.799333    105\n",
              "106  0.454568  0.785912  0.438418  0.796500    106\n",
              "107  0.456445  0.780971  0.441018  0.799167    107\n",
              "108  0.458750  0.780647  0.431609  0.803333    108\n",
              "109  0.454706  0.783265  0.434218  0.800833    109\n",
              "110  0.455646  0.782500  0.437511  0.802500    110"
            ]
          },
          "metadata": {
            "tags": []
          },
          "execution_count": 51
        }
      ]
    },
    {
      "cell_type": "code",
      "metadata": {
        "colab": {
          "base_uri": "https://localhost:8080/",
          "height": 513
        },
        "id": "T-HGj9WPx-1o",
        "outputId": "0e8c14a4-ba10-4edf-8a2f-08753c59d862"
      },
      "source": [
        "epochs_range = range(111)# Where 111 is Total Number of Epochs during the training\n",
        "\n",
        "fig=plt.figure(figsize=(12, 8))\n",
        "\n",
        "plt.subplot(1, 2, 1)\n",
        "plt.plot(epochs_range, hist['acc'], label='Training Accuracy', color=[0.75, 0.75, 0])\n",
        "plt.plot(epochs_range, hist['val_acc'], label='Validation Accuracy', color= \t[0.6350, 0.0780, 0.1840])\n",
        "plt.xlabel('Epochs')\n",
        "plt.ylabel('Accuracy')\n",
        "plt.title('Training and Validation Accuracy')\n",
        "plt.legend()\n",
        "plt.grid(True)\n",
        "\n",
        "plt.subplot(1, 2, 2)\n",
        "plt.plot(epochs_range, hist['loss'], label='Training Loss', color=\t[0.7940, 0.1850, 0.5560])\n",
        "plt.plot(epochs_range, hist['val_loss'], label='Validation Loss', color= [0.2010, 0.7450, 0.1330])\n",
        "plt.xlabel('Epochs')\n",
        "plt.ylabel('Loss')\n",
        "plt.legend()\n",
        "plt.grid(True)\n",
        "plt.title('Training and Validation Loss')\n",
        "plt.show()\n",
        "#fig.savefig('TrainingHistory_BiLSTM_83.pdf')"
      ],
      "execution_count": null,
      "outputs": [
        {
          "output_type": "display_data",
          "data": {
            "image/png": "[encoded data removed]",
            "text/plain": [
              "<Figure size 864x576 with 2 Axes>"
            ]
          },
          "metadata": {
            "tags": [],
            "needs_background": "light"
          }
        }
      ]
    },
    {
      "cell_type": "code",
      "metadata": {
        "colab": {
          "base_uri": "https://localhost:8080/"
        },
        "id": "iIujofQiyszO",
        "outputId": "4e0bd324-3264-427b-f289-ab1d85063f1e"
      },
      "source": [
        "\n",
        "loss, accuracy = model_BiLSTM.evaluate(X_train, y_train, verbose=False)\n",
        "print(\"Training Accuracy: {:.4f}\".format(accuracy*100))\n",
        "\n",
        "# test data for test_accuracy\n",
        "test_loss, test_accuracy = model_BiLSTM.evaluate(X_test, y_test, verbose=False)\n",
        "print(\"Testing Accuracy:  {:.4f}\".format(test_accuracy*100))"
      ],
      "execution_count": null,
      "outputs": [
        {
          "output_type": "stream",
          "text": [
            "Training Accuracy: 81.1050\n",
            "Testing Accuracy:  80.3800\n"
          ],
          "name": "stdout"
        }
      ]
    },
    {
      "cell_type": "markdown",
      "metadata": {
        "id": "GqF0Hi5pPW83"
      },
      "source": [
        "###Classification Report"
      ]
    },
    {
      "cell_type": "code",
      "metadata": {
        "colab": {
          "base_uri": "https://localhost:8080/"
        },
        "id": "m9TzFSvTy3-I",
        "outputId": "d6a60fb4-56ae-44e9-e0d1-9c32f7b7833b"
      },
      "source": [
        "##Predicting the Test Data\n",
        "y_pred_blstm = model_BiLSTM.predict(X_test)\n",
        "\n",
        "#Rounding of the Probabilities \n",
        "y_pred_blstm_round = y_pred_blstm.round().astype('int')\n",
        "\n",
        "# Classification Reports\n",
        "report_rfc = classification_report(y_test, y_pred_blstm_round)\n",
        "print(report_rfc)\n",
        "y_auc = roc_auc_score(y_test, y_pred_blstm_round)\n",
        "print('BiLSTM: ROC AUC=%.3f' % (y_auc))\n"
      ],
      "execution_count": null,
      "outputs": [
        {
          "output_type": "stream",
          "text": [
            "              precision    recall  f1-score   support\n",
            "\n",
            "           0       0.84      0.75      0.80      5082\n",
            "           1       0.77      0.86      0.81      4918\n",
            "\n",
            "    accuracy                           0.80     10000\n",
            "   macro avg       0.81      0.80      0.80     10000\n",
            "weighted avg       0.81      0.80      0.80     10000\n",
            "\n",
            "BiLSTM: ROC AUC=0.805\n"
          ],
          "name": "stdout"
        }
      ]
    },
    {
      "cell_type": "code",
      "metadata": {
        "colab": {
          "base_uri": "https://localhost:8080/"
        },
        "id": "kbgMVEb92_Fa",
        "outputId": "dc863b44-88ce-4e4f-e312-82dd12058dcf"
      },
      "source": [
        "y_test.shape"
      ],
      "execution_count": null,
      "outputs": [
        {
          "output_type": "execute_result",
          "data": {
            "text/plain": [
              "(10000,)"
            ]
          },
          "metadata": {
            "tags": []
          },
          "execution_count": 60
        }
      ]
    },
    {
      "cell_type": "markdown",
      "metadata": {
        "id": "-JJ0C_XzPdS_"
      },
      "source": [
        "###ROC Curve"
      ]
    },
    {
      "cell_type": "code",
      "metadata": {
        "colab": {
          "base_uri": "https://localhost:8080/",
          "height": 350
        },
        "id": "9zEQazIdzMa_",
        "outputId": "41dc5b07-83e4-4251-82b3-081d269a62d7"
      },
      "source": [
        "fpr, tpr, thresholds = roc_curve(y_test,y_pred_blstm)\n",
        "roc_auc = auc(fpr, tpr)\n",
        "fig=plt.figure(figsize=(6, 5))\n",
        "#plt.figure()\n",
        "plt.plot(fpr, tpr, color= 'navy', lw=2, label='ROC curve (area = %0.2f)' % roc_auc)\n",
        "plt.plot([0, 1], [0, 1], color= 'red', lw=2, linestyle='--')\n",
        "plt.xlim([0.0, 1.0])\n",
        "plt.ylim([0.0, 1.05])\n",
        "plt.xlabel('False Positive Rate')\n",
        "plt.ylabel('True Positive Rate')\n",
        "plt.grid(True)\n",
        "plt.title('ROC curve for Bi-Directional LSTM Model')\n",
        "plt.legend(loc=\"lower right\")\n",
        "plt.show()\n",
        "#fig.savefig('ROC_BiLSTM_83_1.pdf')"
      ],
      "execution_count": null,
      "outputs": [
        {
          "output_type": "display_data",
          "data": {
            "image/png": "[encoded data removed]",
            "text/plain": [
              "<Figure size 432x360 with 1 Axes>"
            ]
          },
          "metadata": {
            "tags": [],
            "needs_background": "light"
          }
        }
      ]
    },
    {
      "cell_type": "markdown",
      "metadata": {
        "id": "sclpW_msPhMl"
      },
      "source": [
        "###Confusion Matrix"
      ]
    },
    {
      "cell_type": "code",
      "metadata": {
        "colab": {
          "base_uri": "https://localhost:8080/",
          "height": 350
        },
        "id": "f9t_WcM7zdrh",
        "outputId": "5d2295bd-55f4-436b-8668-41e4ec33d201"
      },
      "source": [
        "# Creates a confusion matrix\n",
        "cm = confusion_matrix(y_test,y_pred_blstm_round) \n",
        "\n",
        "# Transform to df for easier plotting\n",
        "cm_df = pd.DataFrame(cm,\n",
        "                     index = ['Postive','Negative'], \n",
        "                     columns = ['Postive','Negative'])\n",
        "\n",
        "fig = plt.figure(figsize=(6,5))\n",
        "sns.heatmap(cm_df, annot=True,fmt='g')\n",
        "plt.title('Confusion Matrix for Bi-Directional LSTM Model')\n",
        "plt.ylabel('True label')\n",
        "plt.xlabel('Predicted label')\n",
        "plt.show()\n",
        "#fig.savefig('ConfusionMatrix_BiLSTM_final.pdf')"
      ],
      "execution_count": null,
      "outputs": [
        {
          "output_type": "display_data",
          "data": {
            "image/png": "[encoded data removed]",
            "text/plain": [
              "<Figure size 432x360 with 2 Axes>"
            ]
          },
          "metadata": {
            "tags": [],
            "needs_background": "light"
          }
        }
      ]
    },
    {
      "cell_type": "code",
      "metadata": {
        "id": "qTkCdqwhD-yo"
      },
      "source": [
        "model_BiLSTM.save('biLSTM.h5')"
      ],
      "execution_count": null,
      "outputs": []
    },
    {
      "cell_type": "markdown",
      "metadata": {
        "id": "30clL51rsxws"
      },
      "source": [
        "##Model 3 - Gated Recurrent Unit"
      ]
    },
    {
      "cell_type": "code",
      "metadata": {
        "id": "33DRyxQgsxws"
      },
      "source": [
        "model_GRU = tf.keras.Sequential([\n",
        "    tf.keras.layers.Embedding(num_words, embedding_matrix.shape[1], input_length = MAX_LEN, weights = [embedding_matrix],\n",
        "                             trainable = False),   \n",
        "    tf.keras.layers.Bidirectional(tf.keras.layers.GRU(64 ,return_sequences=True,dropout = 0.4, recurrent_dropout = 0.4)),\n",
        "    tf.keras.layers.Bidirectional(tf.keras.layers.GRU(64 ,return_sequences=True,dropout = 0.4, recurrent_dropout = 0.4)),   \n",
        "    tf.keras.layers.Dropout(0.6),\n",
        "    tf.keras.layers.Dense(units=32, activation=\"relu\"),\n",
        "    tf.keras.layers.GlobalMaxPool1D(),\n",
        "    tf.keras.layers.Dense(units=1, activation=\"sigmoid\")   \n",
        "])\n",
        "\n",
        "model_GRU.compile(loss = 'binary_crossentropy',  optimizer = tf.keras.optimizers.RMSprop(lr=4*0.0001), metrics = ['acc'])\n",
        "\n",
        "#define early stopping callback\n",
        "callback = tf.keras.callbacks.EarlyStopping(monitor='val_loss', patience=16)"
      ],
      "execution_count": null,
      "outputs": []
    },
    {
      "cell_type": "code",
      "metadata": {
        "id": "GGtPRKX6sxwt",
        "colab": {
          "base_uri": "https://localhost:8080/"
        },
        "outputId": "f2a77ff0-af1e-4e29-b0a2-52998db1ba51"
      },
      "source": [
        "model_GRU.summary()"
      ],
      "execution_count": null,
      "outputs": [
        {
          "output_type": "stream",
          "text": [
            "Model: \"sequential_2\"\n",
            "_________________________________________________________________\n",
            "Layer (type)                 Output Shape              Param #   \n",
            "=================================================================\n",
            "embedding_2 (Embedding)      (None, 50, 100)           21415800  \n",
            "_________________________________________________________________\n",
            "bidirectional_1 (Bidirection (None, 50, 128)           63744     \n",
            "_________________________________________________________________\n",
            "bidirectional_2 (Bidirection (None, 50, 128)           74496     \n",
            "_________________________________________________________________\n",
            "dropout_1 (Dropout)          (None, 50, 128)           0         \n",
            "_________________________________________________________________\n",
            "dense_3 (Dense)              (None, 50, 32)            4128      \n",
            "_________________________________________________________________\n",
            "global_max_pooling1d_1 (Glob (None, 32)                0         \n",
            "_________________________________________________________________\n",
            "dense_4 (Dense)              (None, 1)                 33        \n",
            "=================================================================\n",
            "Total params: 21,558,201\n",
            "Trainable params: 142,401\n",
            "Non-trainable params: 21,415,800\n",
            "_________________________________________________________________\n"
          ],
          "name": "stdout"
        }
      ]
    },
    {
      "cell_type": "code",
      "metadata": {
        "colab": {
          "base_uri": "https://localhost:8080/"
        },
        "id": "EcmT6I1tsxwu",
        "outputId": "cbddb22d-67e4-4bc3-d447-a95ef49fec18"
      },
      "source": [
        "history=model_GRU.fit(X_train,y_train,batch_size=2000,epochs=1000,validation_split = .2,verbose=1,callbacks = [callback])"
      ],
      "execution_count": null,
      "outputs": [
        {
          "output_type": "stream",
          "text": [
            "Epoch 1/1000\n",
            "16/16 [==============================] - 5s 299ms/step - loss: 0.6808 - acc: 0.5700 - val_loss: 0.6360 - val_acc: 0.6633\n",
            "Epoch 2/1000\n",
            "16/16 [==============================] - 4s 243ms/step - loss: 0.6375 - acc: 0.6378 - val_loss: 0.6136 - val_acc: 0.6609\n",
            "Epoch 3/1000\n",
            "16/16 [==============================] - 4s 272ms/step - loss: 0.6098 - acc: 0.6681 - val_loss: 0.5772 - val_acc: 0.6998\n",
            "Epoch 4/1000\n",
            "16/16 [==============================] - 4s 255ms/step - loss: 0.5881 - acc: 0.6889 - val_loss: 0.5455 - val_acc: 0.7289\n",
            "Epoch 5/1000\n",
            "16/16 [==============================] - 4s 244ms/step - loss: 0.5706 - acc: 0.7060 - val_loss: 0.5402 - val_acc: 0.7289\n",
            "Epoch 6/1000\n",
            "16/16 [==============================] - 4s 264ms/step - loss: 0.5624 - acc: 0.7087 - val_loss: 0.5229 - val_acc: 0.7398\n",
            "Epoch 7/1000\n",
            "16/16 [==============================] - 4s 235ms/step - loss: 0.5580 - acc: 0.7140 - val_loss: 0.5240 - val_acc: 0.7390\n",
            "Epoch 8/1000\n",
            "16/16 [==============================] - 4s 242ms/step - loss: 0.5474 - acc: 0.7232 - val_loss: 0.5198 - val_acc: 0.7425\n",
            "Epoch 9/1000\n",
            "16/16 [==============================] - 4s 237ms/step - loss: 0.5448 - acc: 0.7265 - val_loss: 0.4962 - val_acc: 0.7566\n",
            "Epoch 10/1000\n",
            "16/16 [==============================] - 4s 255ms/step - loss: 0.5390 - acc: 0.7296 - val_loss: 0.4902 - val_acc: 0.7610\n",
            "Epoch 11/1000\n",
            "16/16 [==============================] - 4s 251ms/step - loss: 0.5350 - acc: 0.7312 - val_loss: 0.4881 - val_acc: 0.7609\n",
            "Epoch 12/1000\n",
            "16/16 [==============================] - 4s 265ms/step - loss: 0.5315 - acc: 0.7351 - val_loss: 0.4833 - val_acc: 0.7613\n",
            "Epoch 13/1000\n",
            "16/16 [==============================] - 4s 237ms/step - loss: 0.5277 - acc: 0.7380 - val_loss: 0.4781 - val_acc: 0.7680\n",
            "Epoch 14/1000\n",
            "16/16 [==============================] - 4s 265ms/step - loss: 0.5238 - acc: 0.7400 - val_loss: 0.4750 - val_acc: 0.7696\n",
            "Epoch 15/1000\n",
            "16/16 [==============================] - 4s 256ms/step - loss: 0.5193 - acc: 0.7421 - val_loss: 0.5236 - val_acc: 0.7430\n",
            "Epoch 16/1000\n",
            "16/16 [==============================] - 4s 269ms/step - loss: 0.5216 - acc: 0.7422 - val_loss: 0.4863 - val_acc: 0.7651\n",
            "Epoch 17/1000\n",
            "16/16 [==============================] - 4s 252ms/step - loss: 0.5154 - acc: 0.7427 - val_loss: 0.4712 - val_acc: 0.7711\n",
            "Epoch 18/1000\n",
            "16/16 [==============================] - 4s 265ms/step - loss: 0.5106 - acc: 0.7474 - val_loss: 0.4613 - val_acc: 0.7769\n",
            "Epoch 19/1000\n",
            "16/16 [==============================] - 4s 249ms/step - loss: 0.5083 - acc: 0.7516 - val_loss: 0.4598 - val_acc: 0.7799\n",
            "Epoch 20/1000\n",
            "16/16 [==============================] - 4s 247ms/step - loss: 0.5057 - acc: 0.7516 - val_loss: 0.4767 - val_acc: 0.7701\n",
            "Epoch 21/1000\n",
            "16/16 [==============================] - 4s 244ms/step - loss: 0.5020 - acc: 0.7545 - val_loss: 0.4757 - val_acc: 0.7706\n",
            "Epoch 22/1000\n",
            "16/16 [==============================] - 4s 252ms/step - loss: 0.5016 - acc: 0.7546 - val_loss: 0.4630 - val_acc: 0.7765\n",
            "Epoch 23/1000\n",
            "16/16 [==============================] - 4s 259ms/step - loss: 0.4962 - acc: 0.7549 - val_loss: 0.4603 - val_acc: 0.7784\n",
            "Epoch 24/1000\n",
            "16/16 [==============================] - 4s 252ms/step - loss: 0.4964 - acc: 0.7565 - val_loss: 0.4588 - val_acc: 0.7794\n",
            "Epoch 25/1000\n",
            "16/16 [==============================] - 4s 236ms/step - loss: 0.4941 - acc: 0.7602 - val_loss: 0.4589 - val_acc: 0.7804\n",
            "Epoch 26/1000\n",
            "16/16 [==============================] - 4s 240ms/step - loss: 0.4915 - acc: 0.7613 - val_loss: 0.4523 - val_acc: 0.7866\n",
            "Epoch 27/1000\n",
            "16/16 [==============================] - 4s 236ms/step - loss: 0.4912 - acc: 0.7600 - val_loss: 0.4457 - val_acc: 0.7871\n",
            "Epoch 28/1000\n",
            "16/16 [==============================] - 4s 242ms/step - loss: 0.4866 - acc: 0.7643 - val_loss: 0.4454 - val_acc: 0.7896\n",
            "Epoch 29/1000\n",
            "16/16 [==============================] - 4s 240ms/step - loss: 0.4852 - acc: 0.7661 - val_loss: 0.4687 - val_acc: 0.7755\n",
            "Epoch 30/1000\n",
            "16/16 [==============================] - 4s 242ms/step - loss: 0.4825 - acc: 0.7667 - val_loss: 0.4571 - val_acc: 0.7814\n",
            "Epoch 31/1000\n",
            "16/16 [==============================] - 4s 250ms/step - loss: 0.4830 - acc: 0.7674 - val_loss: 0.4449 - val_acc: 0.7897\n",
            "Epoch 32/1000\n",
            "16/16 [==============================] - 4s 238ms/step - loss: 0.4814 - acc: 0.7683 - val_loss: 0.4407 - val_acc: 0.7899\n",
            "Epoch 33/1000\n",
            "16/16 [==============================] - 4s 266ms/step - loss: 0.4773 - acc: 0.7689 - val_loss: 0.4388 - val_acc: 0.7900\n",
            "Epoch 34/1000\n",
            "16/16 [==============================] - 4s 241ms/step - loss: 0.4772 - acc: 0.7721 - val_loss: 0.4500 - val_acc: 0.7878\n",
            "Epoch 35/1000\n",
            "16/16 [==============================] - 4s 254ms/step - loss: 0.4724 - acc: 0.7737 - val_loss: 0.4397 - val_acc: 0.7910\n",
            "Epoch 36/1000\n",
            "16/16 [==============================] - 4s 264ms/step - loss: 0.4737 - acc: 0.7738 - val_loss: 0.4444 - val_acc: 0.7914\n",
            "Epoch 37/1000\n",
            "16/16 [==============================] - 4s 244ms/step - loss: 0.4716 - acc: 0.7730 - val_loss: 0.4569 - val_acc: 0.7803\n",
            "Epoch 38/1000\n",
            "16/16 [==============================] - 4s 243ms/step - loss: 0.4704 - acc: 0.7754 - val_loss: 0.4334 - val_acc: 0.7928\n",
            "Epoch 39/1000\n",
            "16/16 [==============================] - 4s 264ms/step - loss: 0.4708 - acc: 0.7740 - val_loss: 0.4480 - val_acc: 0.7874\n",
            "Epoch 40/1000\n",
            "16/16 [==============================] - 4s 254ms/step - loss: 0.4703 - acc: 0.7751 - val_loss: 0.4528 - val_acc: 0.7828\n",
            "Epoch 41/1000\n",
            "16/16 [==============================] - 4s 253ms/step - loss: 0.4665 - acc: 0.7749 - val_loss: 0.4371 - val_acc: 0.7925\n",
            "Epoch 42/1000\n",
            "16/16 [==============================] - 4s 261ms/step - loss: 0.4596 - acc: 0.7796 - val_loss: 0.4505 - val_acc: 0.7849\n",
            "Epoch 43/1000\n",
            "16/16 [==============================] - 4s 259ms/step - loss: 0.4651 - acc: 0.7770 - val_loss: 0.4466 - val_acc: 0.7872\n",
            "Epoch 44/1000\n",
            "16/16 [==============================] - 4s 252ms/step - loss: 0.4617 - acc: 0.7775 - val_loss: 0.4290 - val_acc: 0.7962\n",
            "Epoch 45/1000\n",
            "16/16 [==============================] - 4s 241ms/step - loss: 0.4673 - acc: 0.7733 - val_loss: 0.4315 - val_acc: 0.7977\n",
            "Epoch 46/1000\n",
            "16/16 [==============================] - 4s 260ms/step - loss: 0.4616 - acc: 0.7792 - val_loss: 0.4512 - val_acc: 0.7840\n",
            "Epoch 47/1000\n",
            "16/16 [==============================] - 4s 255ms/step - loss: 0.4589 - acc: 0.7804 - val_loss: 0.4290 - val_acc: 0.7974\n",
            "Epoch 48/1000\n",
            "16/16 [==============================] - 4s 271ms/step - loss: 0.4591 - acc: 0.7819 - val_loss: 0.4290 - val_acc: 0.7995\n",
            "Epoch 49/1000\n",
            "16/16 [==============================] - 4s 250ms/step - loss: 0.4551 - acc: 0.7829 - val_loss: 0.4266 - val_acc: 0.7996\n",
            "Epoch 50/1000\n",
            "16/16 [==============================] - 5s 286ms/step - loss: 0.4565 - acc: 0.7820 - val_loss: 0.4261 - val_acc: 0.7997\n",
            "Epoch 51/1000\n",
            "16/16 [==============================] - 4s 254ms/step - loss: 0.4561 - acc: 0.7818 - val_loss: 0.4317 - val_acc: 0.7993\n",
            "Epoch 52/1000\n",
            "16/16 [==============================] - 4s 249ms/step - loss: 0.4579 - acc: 0.7800 - val_loss: 0.4283 - val_acc: 0.8005\n",
            "Epoch 53/1000\n",
            "16/16 [==============================] - 4s 254ms/step - loss: 0.4571 - acc: 0.7796 - val_loss: 0.4264 - val_acc: 0.8020\n",
            "Epoch 54/1000\n",
            "16/16 [==============================] - 4s 269ms/step - loss: 0.4521 - acc: 0.7863 - val_loss: 0.4330 - val_acc: 0.8005\n",
            "Epoch 55/1000\n",
            "16/16 [==============================] - 4s 266ms/step - loss: 0.4512 - acc: 0.7851 - val_loss: 0.4328 - val_acc: 0.8009\n",
            "Epoch 56/1000\n",
            "16/16 [==============================] - 4s 248ms/step - loss: 0.4476 - acc: 0.7871 - val_loss: 0.4252 - val_acc: 0.8012\n",
            "Epoch 57/1000\n",
            "16/16 [==============================] - 4s 252ms/step - loss: 0.4516 - acc: 0.7857 - val_loss: 0.4506 - val_acc: 0.7870\n",
            "Epoch 58/1000\n",
            "16/16 [==============================] - 4s 260ms/step - loss: 0.4485 - acc: 0.7857 - val_loss: 0.4231 - val_acc: 0.8034\n",
            "Epoch 59/1000\n",
            "16/16 [==============================] - 4s 261ms/step - loss: 0.4535 - acc: 0.7835 - val_loss: 0.4225 - val_acc: 0.8029\n",
            "Epoch 60/1000\n",
            "16/16 [==============================] - 4s 268ms/step - loss: 0.4429 - acc: 0.7888 - val_loss: 0.4337 - val_acc: 0.7940\n",
            "Epoch 61/1000\n",
            "16/16 [==============================] - 4s 251ms/step - loss: 0.4471 - acc: 0.7879 - val_loss: 0.4293 - val_acc: 0.7966\n",
            "Epoch 62/1000\n",
            "16/16 [==============================] - 4s 240ms/step - loss: 0.4425 - acc: 0.7905 - val_loss: 0.4199 - val_acc: 0.8044\n",
            "Epoch 63/1000\n",
            "16/16 [==============================] - 4s 254ms/step - loss: 0.4464 - acc: 0.7878 - val_loss: 0.4223 - val_acc: 0.8023\n",
            "Epoch 64/1000\n",
            "16/16 [==============================] - 4s 242ms/step - loss: 0.4437 - acc: 0.7893 - val_loss: 0.4324 - val_acc: 0.8010\n",
            "Epoch 65/1000\n",
            "16/16 [==============================] - 4s 260ms/step - loss: 0.4446 - acc: 0.7885 - val_loss: 0.4225 - val_acc: 0.8070\n",
            "Epoch 66/1000\n",
            "16/16 [==============================] - 4s 270ms/step - loss: 0.4432 - acc: 0.7897 - val_loss: 0.4345 - val_acc: 0.7976\n",
            "Epoch 67/1000\n",
            "16/16 [==============================] - 4s 247ms/step - loss: 0.4436 - acc: 0.7892 - val_loss: 0.4390 - val_acc: 0.7956\n",
            "Epoch 68/1000\n",
            "16/16 [==============================] - 4s 259ms/step - loss: 0.4423 - acc: 0.7902 - val_loss: 0.4198 - val_acc: 0.8076\n",
            "Epoch 69/1000\n",
            "16/16 [==============================] - 4s 246ms/step - loss: 0.4395 - acc: 0.7934 - val_loss: 0.4216 - val_acc: 0.8086\n",
            "Epoch 70/1000\n",
            "16/16 [==============================] - 4s 253ms/step - loss: 0.4371 - acc: 0.7942 - val_loss: 0.4181 - val_acc: 0.8055\n",
            "Epoch 71/1000\n",
            "16/16 [==============================] - 4s 256ms/step - loss: 0.4391 - acc: 0.7932 - val_loss: 0.4190 - val_acc: 0.8052\n",
            "Epoch 72/1000\n",
            "16/16 [==============================] - 4s 242ms/step - loss: 0.4369 - acc: 0.7921 - val_loss: 0.4279 - val_acc: 0.8039\n",
            "Epoch 73/1000\n",
            "16/16 [==============================] - 4s 257ms/step - loss: 0.4353 - acc: 0.7950 - val_loss: 0.4263 - val_acc: 0.8027\n",
            "Epoch 74/1000\n",
            "16/16 [==============================] - 4s 240ms/step - loss: 0.4368 - acc: 0.7930 - val_loss: 0.4217 - val_acc: 0.8087\n",
            "Epoch 75/1000\n",
            "16/16 [==============================] - 4s 267ms/step - loss: 0.4366 - acc: 0.7946 - val_loss: 0.4221 - val_acc: 0.8080\n",
            "Epoch 76/1000\n",
            "16/16 [==============================] - 4s 255ms/step - loss: 0.4328 - acc: 0.7956 - val_loss: 0.4177 - val_acc: 0.8105\n",
            "Epoch 77/1000\n",
            "16/16 [==============================] - 4s 233ms/step - loss: 0.4343 - acc: 0.7943 - val_loss: 0.4149 - val_acc: 0.8079\n",
            "Epoch 78/1000\n",
            "16/16 [==============================] - 4s 251ms/step - loss: 0.4327 - acc: 0.7970 - val_loss: 0.4147 - val_acc: 0.8106\n",
            "Epoch 79/1000\n",
            "16/16 [==============================] - 4s 254ms/step - loss: 0.4312 - acc: 0.7968 - val_loss: 0.4261 - val_acc: 0.8035\n",
            "Epoch 80/1000\n",
            "16/16 [==============================] - 4s 255ms/step - loss: 0.4350 - acc: 0.7927 - val_loss: 0.4198 - val_acc: 0.8080\n",
            "Epoch 81/1000\n",
            "16/16 [==============================] - 4s 261ms/step - loss: 0.4328 - acc: 0.7972 - val_loss: 0.4248 - val_acc: 0.8043\n",
            "Epoch 82/1000\n",
            "16/16 [==============================] - 4s 259ms/step - loss: 0.4315 - acc: 0.7963 - val_loss: 0.4145 - val_acc: 0.8120\n",
            "Epoch 83/1000\n",
            "16/16 [==============================] - 4s 271ms/step - loss: 0.4281 - acc: 0.7982 - val_loss: 0.4154 - val_acc: 0.8076\n",
            "Epoch 84/1000\n",
            "16/16 [==============================] - 4s 243ms/step - loss: 0.4288 - acc: 0.7988 - val_loss: 0.4267 - val_acc: 0.8011\n",
            "Epoch 85/1000\n",
            "16/16 [==============================] - 4s 255ms/step - loss: 0.4289 - acc: 0.7990 - val_loss: 0.4259 - val_acc: 0.8020\n",
            "Epoch 86/1000\n",
            "16/16 [==============================] - 4s 266ms/step - loss: 0.4289 - acc: 0.7975 - val_loss: 0.4222 - val_acc: 0.8058\n",
            "Epoch 87/1000\n",
            "16/16 [==============================] - 4s 256ms/step - loss: 0.4248 - acc: 0.8010 - val_loss: 0.4204 - val_acc: 0.8064\n",
            "Epoch 88/1000\n",
            "16/16 [==============================] - 4s 255ms/step - loss: 0.4253 - acc: 0.7985 - val_loss: 0.4285 - val_acc: 0.7995\n",
            "Epoch 89/1000\n",
            "16/16 [==============================] - 4s 250ms/step - loss: 0.4257 - acc: 0.8002 - val_loss: 0.4109 - val_acc: 0.8101\n",
            "Epoch 90/1000\n",
            "16/16 [==============================] - 4s 264ms/step - loss: 0.4217 - acc: 0.8032 - val_loss: 0.4095 - val_acc: 0.8138\n",
            "Epoch 91/1000\n",
            "16/16 [==============================] - 4s 254ms/step - loss: 0.4271 - acc: 0.7972 - val_loss: 0.4227 - val_acc: 0.8046\n",
            "Epoch 92/1000\n",
            "16/16 [==============================] - 4s 239ms/step - loss: 0.4242 - acc: 0.7996 - val_loss: 0.4339 - val_acc: 0.7969\n",
            "Epoch 93/1000\n",
            "16/16 [==============================] - 4s 241ms/step - loss: 0.4222 - acc: 0.7993 - val_loss: 0.4124 - val_acc: 0.8119\n",
            "Epoch 94/1000\n",
            "16/16 [==============================] - 4s 249ms/step - loss: 0.4239 - acc: 0.8002 - val_loss: 0.4198 - val_acc: 0.8031\n",
            "Epoch 95/1000\n",
            "16/16 [==============================] - 4s 259ms/step - loss: 0.4190 - acc: 0.8054 - val_loss: 0.4209 - val_acc: 0.8041\n",
            "Epoch 96/1000\n",
            "16/16 [==============================] - 4s 256ms/step - loss: 0.4203 - acc: 0.8026 - val_loss: 0.4105 - val_acc: 0.8129\n",
            "Epoch 97/1000\n",
            "16/16 [==============================] - 4s 258ms/step - loss: 0.4204 - acc: 0.8016 - val_loss: 0.4084 - val_acc: 0.8129\n",
            "Epoch 98/1000\n",
            "16/16 [==============================] - 4s 259ms/step - loss: 0.4224 - acc: 0.8001 - val_loss: 0.4191 - val_acc: 0.8056\n",
            "Epoch 99/1000\n",
            "16/16 [==============================] - 4s 245ms/step - loss: 0.4224 - acc: 0.8029 - val_loss: 0.4109 - val_acc: 0.8110\n",
            "Epoch 100/1000\n",
            "16/16 [==============================] - 4s 249ms/step - loss: 0.4170 - acc: 0.8055 - val_loss: 0.4235 - val_acc: 0.8031\n",
            "Epoch 101/1000\n",
            "16/16 [==============================] - 4s 256ms/step - loss: 0.4175 - acc: 0.8030 - val_loss: 0.4052 - val_acc: 0.8154\n",
            "Epoch 102/1000\n",
            "16/16 [==============================] - 4s 276ms/step - loss: 0.4189 - acc: 0.8042 - val_loss: 0.4099 - val_acc: 0.8126\n",
            "Epoch 103/1000\n",
            "16/16 [==============================] - 4s 248ms/step - loss: 0.4171 - acc: 0.8049 - val_loss: 0.4171 - val_acc: 0.8079\n",
            "Epoch 104/1000\n",
            "16/16 [==============================] - 4s 256ms/step - loss: 0.4177 - acc: 0.8033 - val_loss: 0.4102 - val_acc: 0.8133\n",
            "Epoch 105/1000\n",
            "16/16 [==============================] - 4s 256ms/step - loss: 0.4165 - acc: 0.8055 - val_loss: 0.4113 - val_acc: 0.8125\n",
            "Epoch 106/1000\n",
            "16/16 [==============================] - 4s 249ms/step - loss: 0.4187 - acc: 0.8026 - val_loss: 0.4109 - val_acc: 0.8126\n",
            "Epoch 107/1000\n",
            "16/16 [==============================] - 4s 249ms/step - loss: 0.4153 - acc: 0.8083 - val_loss: 0.4085 - val_acc: 0.8127\n",
            "Epoch 108/1000\n",
            "16/16 [==============================] - 4s 258ms/step - loss: 0.4158 - acc: 0.8044 - val_loss: 0.4052 - val_acc: 0.8155\n",
            "Epoch 109/1000\n",
            "16/16 [==============================] - 4s 248ms/step - loss: 0.4155 - acc: 0.8056 - val_loss: 0.4037 - val_acc: 0.8165\n",
            "Epoch 110/1000\n",
            "16/16 [==============================] - 4s 273ms/step - loss: 0.4126 - acc: 0.8074 - val_loss: 0.4075 - val_acc: 0.8116\n",
            "Epoch 111/1000\n",
            "16/16 [==============================] - 4s 244ms/step - loss: 0.4122 - acc: 0.8063 - val_loss: 0.4098 - val_acc: 0.8105\n",
            "Epoch 112/1000\n",
            "16/16 [==============================] - 4s 259ms/step - loss: 0.4150 - acc: 0.8065 - val_loss: 0.4056 - val_acc: 0.8145\n",
            "Epoch 113/1000\n",
            "16/16 [==============================] - 4s 256ms/step - loss: 0.4119 - acc: 0.8070 - val_loss: 0.4070 - val_acc: 0.8136\n",
            "Epoch 114/1000\n",
            "16/16 [==============================] - 4s 261ms/step - loss: 0.4105 - acc: 0.8093 - val_loss: 0.4310 - val_acc: 0.7964\n",
            "Epoch 115/1000\n",
            "16/16 [==============================] - 4s 267ms/step - loss: 0.4119 - acc: 0.8063 - val_loss: 0.4222 - val_acc: 0.8029\n",
            "Epoch 116/1000\n",
            "16/16 [==============================] - 4s 258ms/step - loss: 0.4093 - acc: 0.8101 - val_loss: 0.4120 - val_acc: 0.8090\n",
            "Epoch 117/1000\n",
            "16/16 [==============================] - 4s 252ms/step - loss: 0.4105 - acc: 0.8100 - val_loss: 0.4087 - val_acc: 0.8104\n",
            "Epoch 118/1000\n",
            "16/16 [==============================] - 4s 250ms/step - loss: 0.4107 - acc: 0.8100 - val_loss: 0.4087 - val_acc: 0.8117\n",
            "Epoch 119/1000\n",
            "16/16 [==============================] - 4s 263ms/step - loss: 0.4110 - acc: 0.8058 - val_loss: 0.4026 - val_acc: 0.8158\n",
            "Epoch 120/1000\n",
            "16/16 [==============================] - 4s 258ms/step - loss: 0.4078 - acc: 0.8103 - val_loss: 0.4025 - val_acc: 0.8161\n",
            "Epoch 121/1000\n",
            "16/16 [==============================] - 4s 261ms/step - loss: 0.4086 - acc: 0.8115 - val_loss: 0.4013 - val_acc: 0.8176\n",
            "Epoch 122/1000\n",
            "16/16 [==============================] - 4s 250ms/step - loss: 0.4107 - acc: 0.8077 - val_loss: 0.4028 - val_acc: 0.8180\n",
            "Epoch 123/1000\n",
            "16/16 [==============================] - 4s 269ms/step - loss: 0.4061 - acc: 0.8128 - val_loss: 0.4039 - val_acc: 0.8140\n",
            "Epoch 124/1000\n",
            "16/16 [==============================] - 4s 279ms/step - loss: 0.4054 - acc: 0.8117 - val_loss: 0.4013 - val_acc: 0.8185\n",
            "Epoch 125/1000\n",
            "16/16 [==============================] - 4s 270ms/step - loss: 0.4106 - acc: 0.8083 - val_loss: 0.4086 - val_acc: 0.8120\n",
            "Epoch 126/1000\n",
            "16/16 [==============================] - 4s 259ms/step - loss: 0.4037 - acc: 0.8122 - val_loss: 0.4042 - val_acc: 0.8135\n",
            "Epoch 127/1000\n",
            "16/16 [==============================] - 4s 263ms/step - loss: 0.4071 - acc: 0.8105 - val_loss: 0.4147 - val_acc: 0.8086\n",
            "Epoch 128/1000\n",
            "16/16 [==============================] - 4s 271ms/step - loss: 0.4023 - acc: 0.8138 - val_loss: 0.4136 - val_acc: 0.8087\n",
            "Epoch 129/1000\n",
            "16/16 [==============================] - 4s 256ms/step - loss: 0.4046 - acc: 0.8111 - val_loss: 0.4046 - val_acc: 0.8131\n",
            "Epoch 130/1000\n",
            "16/16 [==============================] - 4s 253ms/step - loss: 0.4028 - acc: 0.8145 - val_loss: 0.4068 - val_acc: 0.8102\n",
            "Epoch 131/1000\n",
            "16/16 [==============================] - 4s 259ms/step - loss: 0.4033 - acc: 0.8107 - val_loss: 0.4112 - val_acc: 0.8073\n",
            "Epoch 132/1000\n",
            "16/16 [==============================] - 4s 249ms/step - loss: 0.4066 - acc: 0.8098 - val_loss: 0.3984 - val_acc: 0.8200\n",
            "Epoch 133/1000\n",
            "16/16 [==============================] - 4s 261ms/step - loss: 0.4056 - acc: 0.8102 - val_loss: 0.3981 - val_acc: 0.8173\n",
            "Epoch 134/1000\n",
            "16/16 [==============================] - 4s 239ms/step - loss: 0.4050 - acc: 0.8131 - val_loss: 0.3994 - val_acc: 0.8151\n",
            "Epoch 135/1000\n",
            "16/16 [==============================] - 4s 267ms/step - loss: 0.4053 - acc: 0.8106 - val_loss: 0.4015 - val_acc: 0.8176\n",
            "Epoch 136/1000\n",
            "16/16 [==============================] - 4s 254ms/step - loss: 0.4051 - acc: 0.8135 - val_loss: 0.3982 - val_acc: 0.8202\n",
            "Epoch 137/1000\n",
            "16/16 [==============================] - 4s 254ms/step - loss: 0.4000 - acc: 0.8163 - val_loss: 0.4163 - val_acc: 0.8055\n",
            "Epoch 138/1000\n",
            "16/16 [==============================] - 4s 267ms/step - loss: 0.3988 - acc: 0.8143 - val_loss: 0.4107 - val_acc: 0.8070\n",
            "Epoch 139/1000\n",
            "16/16 [==============================] - 4s 253ms/step - loss: 0.4014 - acc: 0.8133 - val_loss: 0.3987 - val_acc: 0.8200\n",
            "Epoch 140/1000\n",
            "16/16 [==============================] - 4s 260ms/step - loss: 0.3988 - acc: 0.8149 - val_loss: 0.4237 - val_acc: 0.7990\n",
            "Epoch 141/1000\n",
            "16/16 [==============================] - 4s 248ms/step - loss: 0.4030 - acc: 0.8128 - val_loss: 0.4119 - val_acc: 0.8071\n",
            "Epoch 142/1000\n",
            "16/16 [==============================] - 4s 256ms/step - loss: 0.3970 - acc: 0.8167 - val_loss: 0.4291 - val_acc: 0.7975\n",
            "Epoch 143/1000\n",
            "16/16 [==============================] - 4s 266ms/step - loss: 0.3994 - acc: 0.8173 - val_loss: 0.4163 - val_acc: 0.8037\n",
            "Epoch 144/1000\n",
            "16/16 [==============================] - 4s 250ms/step - loss: 0.3999 - acc: 0.8148 - val_loss: 0.4012 - val_acc: 0.8154\n",
            "Epoch 145/1000\n",
            "16/16 [==============================] - 4s 253ms/step - loss: 0.3988 - acc: 0.8162 - val_loss: 0.3960 - val_acc: 0.8209\n",
            "Epoch 146/1000\n",
            "16/16 [==============================] - 4s 249ms/step - loss: 0.4004 - acc: 0.8136 - val_loss: 0.3997 - val_acc: 0.8155\n",
            "Epoch 147/1000\n",
            "16/16 [==============================] - 4s 243ms/step - loss: 0.3971 - acc: 0.8170 - val_loss: 0.3961 - val_acc: 0.8175\n",
            "Epoch 148/1000\n",
            "16/16 [==============================] - 4s 258ms/step - loss: 0.3984 - acc: 0.8157 - val_loss: 0.3959 - val_acc: 0.8180\n",
            "Epoch 149/1000\n",
            "16/16 [==============================] - 4s 233ms/step - loss: 0.3987 - acc: 0.8167 - val_loss: 0.4063 - val_acc: 0.8112\n",
            "Epoch 150/1000\n",
            "16/16 [==============================] - 4s 251ms/step - loss: 0.3955 - acc: 0.8179 - val_loss: 0.3950 - val_acc: 0.8190\n",
            "Epoch 151/1000\n",
            "16/16 [==============================] - 4s 267ms/step - loss: 0.3936 - acc: 0.8175 - val_loss: 0.3994 - val_acc: 0.8173\n",
            "Epoch 152/1000\n",
            "16/16 [==============================] - 4s 269ms/step - loss: 0.3943 - acc: 0.8193 - val_loss: 0.4000 - val_acc: 0.8125\n",
            "Epoch 153/1000\n",
            "16/16 [==============================] - 4s 256ms/step - loss: 0.4008 - acc: 0.8142 - val_loss: 0.4032 - val_acc: 0.8117\n",
            "Epoch 154/1000\n",
            "16/16 [==============================] - 4s 254ms/step - loss: 0.3932 - acc: 0.8194 - val_loss: 0.4023 - val_acc: 0.8142\n",
            "Epoch 155/1000\n",
            "16/16 [==============================] - 4s 241ms/step - loss: 0.3929 - acc: 0.8174 - val_loss: 0.4075 - val_acc: 0.8084\n",
            "Epoch 156/1000\n",
            "16/16 [==============================] - 4s 252ms/step - loss: 0.3956 - acc: 0.8194 - val_loss: 0.3971 - val_acc: 0.8183\n",
            "Epoch 157/1000\n",
            "16/16 [==============================] - 4s 252ms/step - loss: 0.3964 - acc: 0.8173 - val_loss: 0.4012 - val_acc: 0.8140\n",
            "Epoch 158/1000\n",
            "16/16 [==============================] - 4s 260ms/step - loss: 0.3968 - acc: 0.8145 - val_loss: 0.4066 - val_acc: 0.8114\n",
            "Epoch 159/1000\n",
            "16/16 [==============================] - 4s 255ms/step - loss: 0.3929 - acc: 0.8199 - val_loss: 0.4007 - val_acc: 0.8139\n",
            "Epoch 160/1000\n",
            "16/16 [==============================] - 5s 281ms/step - loss: 0.3929 - acc: 0.8186 - val_loss: 0.3943 - val_acc: 0.8211\n",
            "Epoch 161/1000\n",
            "16/16 [==============================] - 4s 273ms/step - loss: 0.3912 - acc: 0.8209 - val_loss: 0.4086 - val_acc: 0.8084\n",
            "Epoch 162/1000\n",
            "16/16 [==============================] - 4s 259ms/step - loss: 0.3915 - acc: 0.8198 - val_loss: 0.3991 - val_acc: 0.8154\n",
            "Epoch 163/1000\n",
            "16/16 [==============================] - 4s 240ms/step - loss: 0.3897 - acc: 0.8220 - val_loss: 0.4012 - val_acc: 0.8155\n",
            "Epoch 164/1000\n",
            "16/16 [==============================] - 4s 240ms/step - loss: 0.3931 - acc: 0.8188 - val_loss: 0.3978 - val_acc: 0.8159\n",
            "Epoch 165/1000\n",
            "16/16 [==============================] - 4s 254ms/step - loss: 0.3902 - acc: 0.8212 - val_loss: 0.3969 - val_acc: 0.8174\n",
            "Epoch 166/1000\n",
            "16/16 [==============================] - 4s 238ms/step - loss: 0.3875 - acc: 0.8205 - val_loss: 0.3995 - val_acc: 0.8154\n",
            "Epoch 167/1000\n",
            "16/16 [==============================] - 4s 246ms/step - loss: 0.3872 - acc: 0.8207 - val_loss: 0.3984 - val_acc: 0.8166\n",
            "Epoch 168/1000\n",
            "16/16 [==============================] - 4s 245ms/step - loss: 0.3859 - acc: 0.8232 - val_loss: 0.3956 - val_acc: 0.8164\n",
            "Epoch 169/1000\n",
            "16/16 [==============================] - 4s 255ms/step - loss: 0.3902 - acc: 0.8185 - val_loss: 0.3925 - val_acc: 0.8217\n",
            "Epoch 170/1000\n",
            "16/16 [==============================] - 4s 239ms/step - loss: 0.3848 - acc: 0.8238 - val_loss: 0.3964 - val_acc: 0.8164\n",
            "Epoch 171/1000\n",
            "16/16 [==============================] - 4s 241ms/step - loss: 0.3851 - acc: 0.8229 - val_loss: 0.3934 - val_acc: 0.8175\n",
            "Epoch 172/1000\n",
            "16/16 [==============================] - 4s 255ms/step - loss: 0.3911 - acc: 0.8196 - val_loss: 0.3981 - val_acc: 0.8169\n",
            "Epoch 173/1000\n",
            "16/16 [==============================] - 4s 251ms/step - loss: 0.3865 - acc: 0.8213 - val_loss: 0.4025 - val_acc: 0.8123\n",
            "Epoch 174/1000\n",
            "16/16 [==============================] - 4s 248ms/step - loss: 0.3853 - acc: 0.8241 - val_loss: 0.3919 - val_acc: 0.8195\n",
            "Epoch 175/1000\n",
            "16/16 [==============================] - 4s 251ms/step - loss: 0.3837 - acc: 0.8251 - val_loss: 0.3893 - val_acc: 0.8231\n",
            "Epoch 176/1000\n",
            "16/16 [==============================] - 4s 254ms/step - loss: 0.3863 - acc: 0.8211 - val_loss: 0.3921 - val_acc: 0.8211\n",
            "Epoch 177/1000\n",
            "16/16 [==============================] - 4s 246ms/step - loss: 0.3908 - acc: 0.8176 - val_loss: 0.4024 - val_acc: 0.8131\n",
            "Epoch 178/1000\n",
            "16/16 [==============================] - 4s 260ms/step - loss: 0.3823 - acc: 0.8233 - val_loss: 0.4043 - val_acc: 0.8101\n",
            "Epoch 179/1000\n",
            "16/16 [==============================] - 4s 272ms/step - loss: 0.3847 - acc: 0.8243 - val_loss: 0.3909 - val_acc: 0.8194\n",
            "Epoch 180/1000\n",
            "16/16 [==============================] - 4s 247ms/step - loss: 0.3828 - acc: 0.8248 - val_loss: 0.3905 - val_acc: 0.8221\n",
            "Epoch 181/1000\n",
            "16/16 [==============================] - 4s 249ms/step - loss: 0.3840 - acc: 0.8238 - val_loss: 0.3971 - val_acc: 0.8159\n",
            "Epoch 182/1000\n",
            "16/16 [==============================] - 4s 255ms/step - loss: 0.3844 - acc: 0.8240 - val_loss: 0.4116 - val_acc: 0.8049\n",
            "Epoch 183/1000\n",
            "16/16 [==============================] - 4s 251ms/step - loss: 0.3862 - acc: 0.8208 - val_loss: 0.3933 - val_acc: 0.8186\n",
            "Epoch 184/1000\n",
            "16/16 [==============================] - 4s 250ms/step - loss: 0.3828 - acc: 0.8230 - val_loss: 0.3901 - val_acc: 0.8224\n",
            "Epoch 185/1000\n",
            "16/16 [==============================] - 4s 241ms/step - loss: 0.3853 - acc: 0.8246 - val_loss: 0.4030 - val_acc: 0.8114\n",
            "Epoch 186/1000\n",
            "16/16 [==============================] - 4s 237ms/step - loss: 0.3827 - acc: 0.8240 - val_loss: 0.3937 - val_acc: 0.8176\n",
            "Epoch 187/1000\n",
            "16/16 [==============================] - 4s 262ms/step - loss: 0.3836 - acc: 0.8226 - val_loss: 0.3997 - val_acc: 0.8138\n",
            "Epoch 188/1000\n",
            "16/16 [==============================] - 4s 271ms/step - loss: 0.3831 - acc: 0.8234 - val_loss: 0.3975 - val_acc: 0.8154\n",
            "Epoch 189/1000\n",
            "16/16 [==============================] - 4s 258ms/step - loss: 0.3816 - acc: 0.8246 - val_loss: 0.3892 - val_acc: 0.8235\n",
            "Epoch 190/1000\n",
            "16/16 [==============================] - 4s 250ms/step - loss: 0.3832 - acc: 0.8258 - val_loss: 0.3970 - val_acc: 0.8181\n",
            "Epoch 191/1000\n",
            "16/16 [==============================] - 4s 272ms/step - loss: 0.3799 - acc: 0.8252 - val_loss: 0.3890 - val_acc: 0.8199\n",
            "Epoch 192/1000\n",
            "16/16 [==============================] - 4s 242ms/step - loss: 0.3808 - acc: 0.8264 - val_loss: 0.3975 - val_acc: 0.8159\n",
            "Epoch 193/1000\n",
            "16/16 [==============================] - 4s 270ms/step - loss: 0.3812 - acc: 0.8252 - val_loss: 0.4208 - val_acc: 0.7995\n",
            "Epoch 194/1000\n",
            "16/16 [==============================] - 5s 284ms/step - loss: 0.3770 - acc: 0.8292 - val_loss: 0.4029 - val_acc: 0.8108\n",
            "Epoch 195/1000\n",
            "16/16 [==============================] - 4s 256ms/step - loss: 0.3822 - acc: 0.8248 - val_loss: 0.3954 - val_acc: 0.8186\n",
            "Epoch 196/1000\n",
            "16/16 [==============================] - 4s 247ms/step - loss: 0.3774 - acc: 0.8279 - val_loss: 0.3919 - val_acc: 0.8191\n",
            "Epoch 197/1000\n",
            "16/16 [==============================] - 4s 259ms/step - loss: 0.3793 - acc: 0.8257 - val_loss: 0.3864 - val_acc: 0.8250\n",
            "Epoch 198/1000\n",
            "16/16 [==============================] - 4s 249ms/step - loss: 0.3782 - acc: 0.8288 - val_loss: 0.3865 - val_acc: 0.8245\n",
            "Epoch 199/1000\n",
            "16/16 [==============================] - 4s 258ms/step - loss: 0.3775 - acc: 0.8257 - val_loss: 0.3918 - val_acc: 0.8183\n",
            "Epoch 200/1000\n",
            "16/16 [==============================] - 4s 244ms/step - loss: 0.3739 - acc: 0.8311 - val_loss: 0.4003 - val_acc: 0.8119\n",
            "Epoch 201/1000\n",
            "16/16 [==============================] - 4s 253ms/step - loss: 0.3762 - acc: 0.8263 - val_loss: 0.3907 - val_acc: 0.8198\n",
            "Epoch 202/1000\n",
            "16/16 [==============================] - 4s 256ms/step - loss: 0.3757 - acc: 0.8287 - val_loss: 0.3999 - val_acc: 0.8126\n",
            "Epoch 203/1000\n",
            "16/16 [==============================] - 4s 255ms/step - loss: 0.3750 - acc: 0.8292 - val_loss: 0.3899 - val_acc: 0.8201\n",
            "Epoch 204/1000\n",
            "16/16 [==============================] - 4s 258ms/step - loss: 0.3767 - acc: 0.8269 - val_loss: 0.3897 - val_acc: 0.8200\n",
            "Epoch 205/1000\n",
            "16/16 [==============================] - 4s 260ms/step - loss: 0.3766 - acc: 0.8301 - val_loss: 0.3890 - val_acc: 0.8205\n",
            "Epoch 206/1000\n",
            "16/16 [==============================] - 4s 238ms/step - loss: 0.3742 - acc: 0.8299 - val_loss: 0.3857 - val_acc: 0.8223\n",
            "Epoch 207/1000\n",
            "16/16 [==============================] - 4s 257ms/step - loss: 0.3780 - acc: 0.8275 - val_loss: 0.3960 - val_acc: 0.8149\n",
            "Epoch 208/1000\n",
            "16/16 [==============================] - 4s 246ms/step - loss: 0.3739 - acc: 0.8295 - val_loss: 0.3843 - val_acc: 0.8241\n",
            "Epoch 209/1000\n",
            "16/16 [==============================] - 4s 259ms/step - loss: 0.3743 - acc: 0.8285 - val_loss: 0.3845 - val_acc: 0.8226\n",
            "Epoch 210/1000\n",
            "16/16 [==============================] - 4s 255ms/step - loss: 0.3722 - acc: 0.8290 - val_loss: 0.4102 - val_acc: 0.8058\n",
            "Epoch 211/1000\n",
            "16/16 [==============================] - 4s 252ms/step - loss: 0.3755 - acc: 0.8297 - val_loss: 0.4188 - val_acc: 0.7997\n",
            "Epoch 212/1000\n",
            "16/16 [==============================] - 4s 240ms/step - loss: 0.3693 - acc: 0.8321 - val_loss: 0.3863 - val_acc: 0.8241\n",
            "Epoch 213/1000\n",
            "16/16 [==============================] - 4s 246ms/step - loss: 0.3791 - acc: 0.8270 - val_loss: 0.3851 - val_acc: 0.8232\n",
            "Epoch 214/1000\n",
            "16/16 [==============================] - 4s 237ms/step - loss: 0.3739 - acc: 0.8266 - val_loss: 0.3999 - val_acc: 0.8120\n",
            "Epoch 215/1000\n",
            "16/16 [==============================] - 4s 255ms/step - loss: 0.3717 - acc: 0.8310 - val_loss: 0.3865 - val_acc: 0.8211\n",
            "Epoch 216/1000\n",
            "16/16 [==============================] - 4s 250ms/step - loss: 0.3709 - acc: 0.8310 - val_loss: 0.4035 - val_acc: 0.8099\n",
            "Epoch 217/1000\n",
            "16/16 [==============================] - 4s 252ms/step - loss: 0.3706 - acc: 0.8314 - val_loss: 0.3851 - val_acc: 0.8250\n",
            "Epoch 218/1000\n",
            "16/16 [==============================] - 4s 264ms/step - loss: 0.3718 - acc: 0.8288 - val_loss: 0.3889 - val_acc: 0.8234\n",
            "Epoch 219/1000\n",
            "16/16 [==============================] - 4s 252ms/step - loss: 0.3713 - acc: 0.8316 - val_loss: 0.3848 - val_acc: 0.8224\n",
            "Epoch 220/1000\n",
            "16/16 [==============================] - 4s 266ms/step - loss: 0.3725 - acc: 0.8289 - val_loss: 0.3831 - val_acc: 0.8263\n",
            "Epoch 221/1000\n",
            "16/16 [==============================] - 4s 246ms/step - loss: 0.3699 - acc: 0.8311 - val_loss: 0.3839 - val_acc: 0.8245\n",
            "Epoch 222/1000\n",
            "16/16 [==============================] - 4s 275ms/step - loss: 0.3710 - acc: 0.8288 - val_loss: 0.3934 - val_acc: 0.8170\n",
            "Epoch 223/1000\n",
            "16/16 [==============================] - 4s 242ms/step - loss: 0.3700 - acc: 0.8311 - val_loss: 0.3848 - val_acc: 0.8226\n",
            "Epoch 224/1000\n",
            "16/16 [==============================] - 4s 259ms/step - loss: 0.3720 - acc: 0.8294 - val_loss: 0.3919 - val_acc: 0.8176\n",
            "Epoch 225/1000\n",
            "16/16 [==============================] - 4s 245ms/step - loss: 0.3680 - acc: 0.8328 - val_loss: 0.3892 - val_acc: 0.8198\n",
            "Epoch 226/1000\n",
            "16/16 [==============================] - 4s 242ms/step - loss: 0.3748 - acc: 0.8284 - val_loss: 0.3906 - val_acc: 0.8195\n",
            "Epoch 227/1000\n",
            "16/16 [==============================] - 4s 251ms/step - loss: 0.3678 - acc: 0.8349 - val_loss: 0.3899 - val_acc: 0.8186\n",
            "Epoch 228/1000\n",
            "16/16 [==============================] - 4s 255ms/step - loss: 0.3684 - acc: 0.8317 - val_loss: 0.3832 - val_acc: 0.8248\n",
            "Epoch 229/1000\n",
            "16/16 [==============================] - 4s 253ms/step - loss: 0.3621 - acc: 0.8352 - val_loss: 0.4080 - val_acc: 0.8081\n",
            "Epoch 230/1000\n",
            "16/16 [==============================] - 4s 264ms/step - loss: 0.3723 - acc: 0.8270 - val_loss: 0.3939 - val_acc: 0.8161\n",
            "Epoch 231/1000\n",
            "16/16 [==============================] - 4s 244ms/step - loss: 0.3689 - acc: 0.8317 - val_loss: 0.3975 - val_acc: 0.8141\n",
            "Epoch 232/1000\n",
            "16/16 [==============================] - 4s 264ms/step - loss: 0.3654 - acc: 0.8351 - val_loss: 0.3895 - val_acc: 0.8209\n",
            "Epoch 233/1000\n",
            "16/16 [==============================] - 4s 272ms/step - loss: 0.3666 - acc: 0.8335 - val_loss: 0.3891 - val_acc: 0.8206\n",
            "Epoch 234/1000\n",
            "16/16 [==============================] - 4s 250ms/step - loss: 0.3637 - acc: 0.8334 - val_loss: 0.3851 - val_acc: 0.8250\n",
            "Epoch 235/1000\n",
            "16/16 [==============================] - 4s 249ms/step - loss: 0.3649 - acc: 0.8353 - val_loss: 0.3832 - val_acc: 0.8230\n",
            "Epoch 236/1000\n",
            "16/16 [==============================] - 4s 246ms/step - loss: 0.3702 - acc: 0.8324 - val_loss: 0.3822 - val_acc: 0.8263\n",
            "Epoch 237/1000\n",
            "16/16 [==============================] - 4s 253ms/step - loss: 0.3634 - acc: 0.8334 - val_loss: 0.4106 - val_acc: 0.8043\n",
            "Epoch 238/1000\n",
            "16/16 [==============================] - 4s 243ms/step - loss: 0.3660 - acc: 0.8324 - val_loss: 0.3893 - val_acc: 0.8205\n",
            "Epoch 239/1000\n",
            "16/16 [==============================] - 4s 244ms/step - loss: 0.3633 - acc: 0.8346 - val_loss: 0.3882 - val_acc: 0.8209\n",
            "Epoch 240/1000\n",
            "16/16 [==============================] - 4s 247ms/step - loss: 0.3688 - acc: 0.8315 - val_loss: 0.3858 - val_acc: 0.8253\n",
            "Epoch 241/1000\n",
            "16/16 [==============================] - 4s 259ms/step - loss: 0.3641 - acc: 0.8344 - val_loss: 0.3823 - val_acc: 0.8240\n",
            "Epoch 242/1000\n",
            "16/16 [==============================] - 4s 257ms/step - loss: 0.3649 - acc: 0.8349 - val_loss: 0.3951 - val_acc: 0.8150\n",
            "Epoch 243/1000\n",
            "16/16 [==============================] - 4s 254ms/step - loss: 0.3602 - acc: 0.8370 - val_loss: 0.3876 - val_acc: 0.8209\n",
            "Epoch 244/1000\n",
            "16/16 [==============================] - 4s 240ms/step - loss: 0.3686 - acc: 0.8328 - val_loss: 0.3824 - val_acc: 0.8246\n",
            "Epoch 245/1000\n",
            "16/16 [==============================] - 4s 255ms/step - loss: 0.3652 - acc: 0.8329 - val_loss: 0.3866 - val_acc: 0.8216\n",
            "Epoch 246/1000\n",
            "16/16 [==============================] - 4s 265ms/step - loss: 0.3636 - acc: 0.8334 - val_loss: 0.3862 - val_acc: 0.8230\n",
            "Epoch 247/1000\n",
            "16/16 [==============================] - 4s 246ms/step - loss: 0.3641 - acc: 0.8339 - val_loss: 0.3821 - val_acc: 0.8255\n",
            "Epoch 248/1000\n",
            "16/16 [==============================] - 4s 263ms/step - loss: 0.3596 - acc: 0.8350 - val_loss: 0.3820 - val_acc: 0.8251\n",
            "Epoch 249/1000\n",
            "16/16 [==============================] - 4s 252ms/step - loss: 0.3584 - acc: 0.8378 - val_loss: 0.3783 - val_acc: 0.8280\n",
            "Epoch 250/1000\n",
            "16/16 [==============================] - 4s 244ms/step - loss: 0.3631 - acc: 0.8370 - val_loss: 0.3920 - val_acc: 0.8181\n",
            "Epoch 251/1000\n",
            "16/16 [==============================] - 4s 257ms/step - loss: 0.3607 - acc: 0.8357 - val_loss: 0.3792 - val_acc: 0.8270\n",
            "Epoch 252/1000\n",
            "16/16 [==============================] - 4s 261ms/step - loss: 0.3592 - acc: 0.8393 - val_loss: 0.3785 - val_acc: 0.8270\n",
            "Epoch 253/1000\n",
            "16/16 [==============================] - 4s 259ms/step - loss: 0.3649 - acc: 0.8332 - val_loss: 0.3798 - val_acc: 0.8273\n",
            "Epoch 254/1000\n",
            "16/16 [==============================] - 4s 263ms/step - loss: 0.3570 - acc: 0.8379 - val_loss: 0.3806 - val_acc: 0.8257\n",
            "Epoch 255/1000\n",
            "16/16 [==============================] - 4s 244ms/step - loss: 0.3576 - acc: 0.8380 - val_loss: 0.3988 - val_acc: 0.8148\n",
            "Epoch 256/1000\n",
            "16/16 [==============================] - 4s 264ms/step - loss: 0.3630 - acc: 0.8353 - val_loss: 0.3786 - val_acc: 0.8261\n",
            "Epoch 257/1000\n",
            "16/16 [==============================] - 4s 275ms/step - loss: 0.3565 - acc: 0.8375 - val_loss: 0.3822 - val_acc: 0.8240\n",
            "Epoch 258/1000\n",
            "16/16 [==============================] - 4s 240ms/step - loss: 0.3585 - acc: 0.8386 - val_loss: 0.3837 - val_acc: 0.8224\n",
            "Epoch 259/1000\n",
            "16/16 [==============================] - 4s 241ms/step - loss: 0.3608 - acc: 0.8344 - val_loss: 0.3790 - val_acc: 0.8271\n",
            "Epoch 260/1000\n",
            "16/16 [==============================] - 4s 247ms/step - loss: 0.3573 - acc: 0.8388 - val_loss: 0.3799 - val_acc: 0.8253\n",
            "Epoch 261/1000\n",
            "16/16 [==============================] - 4s 261ms/step - loss: 0.3568 - acc: 0.8374 - val_loss: 0.3935 - val_acc: 0.8173\n",
            "Epoch 262/1000\n",
            "16/16 [==============================] - 4s 258ms/step - loss: 0.3596 - acc: 0.8370 - val_loss: 0.3810 - val_acc: 0.8251\n",
            "Epoch 263/1000\n",
            "16/16 [==============================] - 4s 252ms/step - loss: 0.3580 - acc: 0.8380 - val_loss: 0.3779 - val_acc: 0.8289\n",
            "Epoch 264/1000\n",
            "16/16 [==============================] - 4s 248ms/step - loss: 0.3561 - acc: 0.8390 - val_loss: 0.3806 - val_acc: 0.8251\n",
            "Epoch 265/1000\n",
            "16/16 [==============================] - 4s 258ms/step - loss: 0.3589 - acc: 0.8369 - val_loss: 0.3865 - val_acc: 0.8206\n",
            "Epoch 266/1000\n",
            "16/16 [==============================] - 4s 254ms/step - loss: 0.3572 - acc: 0.8382 - val_loss: 0.3972 - val_acc: 0.8144\n",
            "Epoch 267/1000\n",
            "16/16 [==============================] - 4s 250ms/step - loss: 0.3538 - acc: 0.8410 - val_loss: 0.3796 - val_acc: 0.8242\n",
            "Epoch 268/1000\n",
            "16/16 [==============================] - 4s 241ms/step - loss: 0.3579 - acc: 0.8371 - val_loss: 0.3944 - val_acc: 0.8158\n",
            "Epoch 269/1000\n",
            "16/16 [==============================] - 4s 252ms/step - loss: 0.3568 - acc: 0.8392 - val_loss: 0.3851 - val_acc: 0.8216\n",
            "Epoch 270/1000\n",
            "16/16 [==============================] - 4s 250ms/step - loss: 0.3567 - acc: 0.8399 - val_loss: 0.3790 - val_acc: 0.8253\n",
            "Epoch 271/1000\n",
            "16/16 [==============================] - 4s 274ms/step - loss: 0.3569 - acc: 0.8395 - val_loss: 0.3818 - val_acc: 0.8238\n",
            "Epoch 272/1000\n",
            "16/16 [==============================] - 4s 250ms/step - loss: 0.3555 - acc: 0.8393 - val_loss: 0.3867 - val_acc: 0.8215\n",
            "Epoch 273/1000\n",
            "16/16 [==============================] - 4s 240ms/step - loss: 0.3577 - acc: 0.8380 - val_loss: 0.3798 - val_acc: 0.8259\n",
            "Epoch 274/1000\n",
            "16/16 [==============================] - 4s 253ms/step - loss: 0.3542 - acc: 0.8402 - val_loss: 0.3856 - val_acc: 0.8214\n",
            "Epoch 275/1000\n",
            "16/16 [==============================] - 4s 256ms/step - loss: 0.3540 - acc: 0.8408 - val_loss: 0.3959 - val_acc: 0.8136\n",
            "Epoch 276/1000\n",
            "16/16 [==============================] - 4s 247ms/step - loss: 0.3561 - acc: 0.8377 - val_loss: 0.3915 - val_acc: 0.8194\n",
            "Epoch 277/1000\n",
            "16/16 [==============================] - 4s 238ms/step - loss: 0.3551 - acc: 0.8409 - val_loss: 0.3880 - val_acc: 0.8199\n",
            "Epoch 278/1000\n",
            "16/16 [==============================] - 4s 253ms/step - loss: 0.3517 - acc: 0.8413 - val_loss: 0.3830 - val_acc: 0.8224\n",
            "Epoch 279/1000\n",
            "16/16 [==============================] - 4s 249ms/step - loss: 0.3547 - acc: 0.8412 - val_loss: 0.4006 - val_acc: 0.8105\n"
          ],
          "name": "stdout"
        }
      ]
    },
    {
      "cell_type": "code",
      "metadata": {
        "colab": {
          "base_uri": "https://localhost:8080/",
          "height": 343
        },
        "id": "MjIs6ORNsxwu",
        "outputId": "59ced3f8-2752-4b49-d71a-12053c4e1d68"
      },
      "source": [
        "# Ref : https://stackoverflow.com/questions/51463383/buffered-data-was-truncated-after-reaching-the-output-size-limit\n",
        "#model_GRU_7.save('model_GRU_7.h5')\n",
        "hist = pd.DataFrame(history.history)\n",
        "hist['epoch'] = history.epoch\n",
        "hist.tail(10)"
      ],
      "execution_count": null,
      "outputs": [
        {
          "output_type": "execute_result",
          "data": {
            "text/html": [
              "<div>\n",
              "<style scoped>\n",
              "    .dataframe tbody tr th:only-of-type {\n",
              "        vertical-align: middle;\n",
              "    }\n",
              "\n",
              "    .dataframe tbody tr th {\n",
              "        vertical-align: top;\n",
              "    }\n",
              "\n",
              "    .dataframe thead th {\n",
              "        text-align: right;\n",
              "    }\n",
              "</style>\n",
              "<table border=\"1\" class=\"dataframe\">\n",
              "  <thead>\n",
              "    <tr style=\"text-align: right;\">\n",
              "      <th></th>\n",
              "      <th>loss</th>\n",
              "      <th>acc</th>\n",
              "      <th>val_loss</th>\n",
              "      <th>val_acc</th>\n",
              "      <th>epoch</th>\n",
              "    </tr>\n",
              "  </thead>\n",
              "  <tbody>\n",
              "    <tr>\n",
              "      <th>269</th>\n",
              "      <td>0.356701</td>\n",
              "      <td>0.839938</td>\n",
              "      <td>0.378993</td>\n",
              "      <td>0.825250</td>\n",
              "      <td>269</td>\n",
              "    </tr>\n",
              "    <tr>\n",
              "      <th>270</th>\n",
              "      <td>0.356894</td>\n",
              "      <td>0.839500</td>\n",
              "      <td>0.381797</td>\n",
              "      <td>0.823750</td>\n",
              "      <td>270</td>\n",
              "    </tr>\n",
              "    <tr>\n",
              "      <th>271</th>\n",
              "      <td>0.355547</td>\n",
              "      <td>0.839281</td>\n",
              "      <td>0.386735</td>\n",
              "      <td>0.821500</td>\n",
              "      <td>271</td>\n",
              "    </tr>\n",
              "    <tr>\n",
              "      <th>272</th>\n",
              "      <td>0.357749</td>\n",
              "      <td>0.837969</td>\n",
              "      <td>0.379770</td>\n",
              "      <td>0.825875</td>\n",
              "      <td>272</td>\n",
              "    </tr>\n",
              "    <tr>\n",
              "      <th>273</th>\n",
              "      <td>0.354249</td>\n",
              "      <td>0.840219</td>\n",
              "      <td>0.385621</td>\n",
              "      <td>0.821375</td>\n",
              "      <td>273</td>\n",
              "    </tr>\n",
              "    <tr>\n",
              "      <th>274</th>\n",
              "      <td>0.354033</td>\n",
              "      <td>0.840844</td>\n",
              "      <td>0.395920</td>\n",
              "      <td>0.813625</td>\n",
              "      <td>274</td>\n",
              "    </tr>\n",
              "    <tr>\n",
              "      <th>275</th>\n",
              "      <td>0.356138</td>\n",
              "      <td>0.837687</td>\n",
              "      <td>0.391472</td>\n",
              "      <td>0.819375</td>\n",
              "      <td>275</td>\n",
              "    </tr>\n",
              "    <tr>\n",
              "      <th>276</th>\n",
              "      <td>0.355103</td>\n",
              "      <td>0.840906</td>\n",
              "      <td>0.388039</td>\n",
              "      <td>0.819875</td>\n",
              "      <td>276</td>\n",
              "    </tr>\n",
              "    <tr>\n",
              "      <th>277</th>\n",
              "      <td>0.351694</td>\n",
              "      <td>0.841250</td>\n",
              "      <td>0.382969</td>\n",
              "      <td>0.822375</td>\n",
              "      <td>277</td>\n",
              "    </tr>\n",
              "    <tr>\n",
              "      <th>278</th>\n",
              "      <td>0.354746</td>\n",
              "      <td>0.841187</td>\n",
              "      <td>0.400647</td>\n",
              "      <td>0.810500</td>\n",
              "      <td>278</td>\n",
              "    </tr>\n",
              "  </tbody>\n",
              "</table>\n",
              "</div>"
            ],
            "text/plain": [
              "         loss       acc  val_loss   val_acc  epoch\n",
              "269  0.356701  0.839938  0.378993  0.825250    269\n",
              "270  0.356894  0.839500  0.381797  0.823750    270\n",
              "271  0.355547  0.839281  0.386735  0.821500    271\n",
              "272  0.357749  0.837969  0.379770  0.825875    272\n",
              "273  0.354249  0.840219  0.385621  0.821375    273\n",
              "274  0.354033  0.840844  0.395920  0.813625    274\n",
              "275  0.356138  0.837687  0.391472  0.819375    275\n",
              "276  0.355103  0.840906  0.388039  0.819875    276\n",
              "277  0.351694  0.841250  0.382969  0.822375    277\n",
              "278  0.354746  0.841187  0.400647  0.810500    278"
            ]
          },
          "metadata": {
            "tags": []
          },
          "execution_count": 65
        }
      ]
    },
    {
      "cell_type": "code",
      "metadata": {
        "colab": {
          "base_uri": "https://localhost:8080/",
          "height": 513
        },
        "id": "LxpiGJvLsxwu",
        "outputId": "c70cd4eb-9f4c-4ae5-c4b4-20088eb84a6b"
      },
      "source": [
        "epochs_range = range(279)\n",
        "\n",
        "fig=plt.figure(figsize=(12, 8))\n",
        "\n",
        "plt.subplot(1, 2, 1)\n",
        "plt.plot(epochs_range, history.history['acc'], label='Training Accuracy', color=[0.75, 0.75, 0])\n",
        "plt.plot(epochs_range, history.history['val_acc'], label='Validation Accuracy', color= \t[0.6350, 0.0780, 0.1840])\n",
        "plt.xlabel('Epochs')\n",
        "plt.ylabel('Accuracy')\n",
        "plt.title('Training and Validation Accuracy')\n",
        "plt.legend()\n",
        "plt.grid(True)\n",
        "\n",
        "plt.subplot(1, 2, 2)\n",
        "plt.plot(epochs_range, history.history['loss'], label='Training Loss', color=\t[0.4940, 0.1240, 0.5560])\n",
        "plt.plot(epochs_range, history.history['val_loss'], label='Validation Loss', color= [0.9010, 0.7450, 0.9330])\n",
        "plt.xlabel('Epochs')\n",
        "plt.ylabel('Loss')\n",
        "plt.legend()\n",
        "plt.grid(True)\n",
        "plt.title('Training and Validation Loss')\n",
        "plt.show()\n",
        "#fig.savefig('TrainingHistory_GRU_3.pdf')"
      ],
      "execution_count": null,
      "outputs": [
        {
          "output_type": "display_data",
          "data": {
            "image/png": "[encoded data removed]",
            "text/plain": [
              "<Figure size 864x576 with 2 Axes>"
            ]
          },
          "metadata": {
            "tags": [],
            "needs_background": "light"
          }
        }
      ]
    },
    {
      "cell_type": "code",
      "metadata": {
        "colab": {
          "base_uri": "https://localhost:8080/"
        },
        "id": "JYgBfjgfsxwu",
        "outputId": "a8a30a33-25fd-41fa-ac25-32b93d16ac78"
      },
      "source": [
        "\n",
        "loss, accuracy = model_GRU.evaluate(X_train, y_train, verbose=False)\n",
        "print(\"Training Accuracy: {:.4f}\".format(accuracy*100))\n",
        "\n",
        "\n",
        "# test data for test_accuracy\n",
        "test_loss, test_accuracy = model_GRU.evaluate(X_test, y_test, verbose=False)\n",
        "print(\"Testing Accuracy:  {:.4f}\".format(test_accuracy*100))"
      ],
      "execution_count": null,
      "outputs": [
        {
          "output_type": "stream",
          "text": [
            "Training Accuracy: 84.6950\n",
            "Testing Accuracy:  80.7600\n"
          ],
          "name": "stdout"
        }
      ]
    },
    {
      "cell_type": "markdown",
      "metadata": {
        "id": "2cq8A91TPnXZ"
      },
      "source": [
        "###Classification Report"
      ]
    },
    {
      "cell_type": "code",
      "metadata": {
        "colab": {
          "base_uri": "https://localhost:8080/"
        },
        "id": "Dbei4QRTsxwv",
        "outputId": "6e2da9d2-845a-4367-a2d4-d2ce4f667898"
      },
      "source": [
        "##Predicting the Test Data\n",
        "y_pred_gru = model_GRU.predict(X_test)\n",
        "\n",
        "#Rounding of the Probabilities \n",
        "y_pred_gru_round = y_pred_gru.round().astype('int')\n",
        "\n",
        "# Classification Reports\n",
        "report_rfc = classification_report(y_test, y_pred_gru_round)\n",
        "print(report_rfc)\n",
        "y_auc = roc_auc_score(y_test, y_pred_gru_round)\n",
        "print('GRU: ROC AUC=%.3f' % (y_auc))\n"
      ],
      "execution_count": null,
      "outputs": [
        {
          "output_type": "stream",
          "text": [
            "              precision    recall  f1-score   support\n",
            "\n",
            "           0       0.77      0.89      0.82      5082\n",
            "           1       0.86      0.73      0.79      4918\n",
            "\n",
            "    accuracy                           0.81     10000\n",
            "   macro avg       0.82      0.81      0.81     10000\n",
            "weighted avg       0.81      0.81      0.81     10000\n",
            "\n",
            "GRU: ROC AUC=0.806\n"
          ],
          "name": "stdout"
        }
      ]
    },
    {
      "cell_type": "markdown",
      "metadata": {
        "id": "s1VXC30-PsC-"
      },
      "source": [
        "###ROC Curve"
      ]
    },
    {
      "cell_type": "code",
      "metadata": {
        "colab": {
          "base_uri": "https://localhost:8080/",
          "height": 350
        },
        "id": "gGNjVL1Hsxwv",
        "outputId": "02b11b1a-709c-4b57-bb61-b8ef60da469f"
      },
      "source": [
        "fpr, tpr, thresholds = roc_curve(y_test,y_pred_gru)\n",
        "roc_auc = auc(fpr, tpr)\n",
        "fig=plt.figure(figsize=(6, 5))\n",
        "#plt.figure()\n",
        "plt.plot(fpr, tpr, color= 'navy', lw=2, label='ROC curve (area = %0.2f)' % roc_auc)\n",
        "plt.plot([0, 1], [0, 1], color= 'red', lw=2, linestyle='--')\n",
        "plt.xlim([0.0, 1.0])\n",
        "plt.ylim([0.0, 1.05])\n",
        "plt.xlabel('False Positive Rate')\n",
        "plt.ylabel('True Positive Rate')\n",
        "plt.grid(True)\n",
        "plt.title('ROC curve for Gated Recurrent Unit')\n",
        "plt.legend(loc=\"lower right\")\n",
        "plt.show()\n",
        "#fig.savefig('ROC_GRU.pdf')"
      ],
      "execution_count": null,
      "outputs": [
        {
          "output_type": "display_data",
          "data": {
            "image/png": "[encoded data removed]",
            "text/plain": [
              "<Figure size 432x360 with 1 Axes>"
            ]
          },
          "metadata": {
            "tags": [],
            "needs_background": "light"
          }
        }
      ]
    },
    {
      "cell_type": "markdown",
      "metadata": {
        "id": "Na-IyMvUPydd"
      },
      "source": [
        "###Confusion Matrix"
      ]
    },
    {
      "cell_type": "code",
      "metadata": {
        "colab": {
          "base_uri": "https://localhost:8080/",
          "height": 350
        },
        "id": "UU_Xg0Jjsxwv",
        "outputId": "63fc1495-170f-48b7-cf73-9d51b4d08df1"
      },
      "source": [
        "# Creates a confusion matrix\n",
        "cm = confusion_matrix(y_test,y_pred_gru_round) \n",
        "\n",
        "# Transform to df for easier plotting\n",
        "cm_df = pd.DataFrame(cm,\n",
        "                     index = ['Postive','Negative'], \n",
        "                     columns = ['Postive','Negative'])\n",
        "\n",
        "fig = plt.figure(figsize=(6,5))\n",
        "sns.heatmap(cm_df, annot=True,fmt='g')\n",
        "plt.title('Confusion Matrix for GRU Model')\n",
        "plt.ylabel('True label')\n",
        "plt.xlabel('Predicted label')\n",
        "plt.show()\n",
        "#fig.savefig('ConfusionMatrix_GRU.pdf')"
      ],
      "execution_count": null,
      "outputs": [
        {
          "output_type": "display_data",
          "data": {
            "image/png": "[encoded data removed]",
            "text/plain": [
              "<Figure size 432x360 with 2 Axes>"
            ]
          },
          "metadata": {
            "tags": [],
            "needs_background": "light"
          }
        }
      ]
    },
    {
      "cell_type": "markdown",
      "metadata": {
        "id": "wlC1mUvd-9Fh"
      },
      "source": [
        "#Transfer Learning for NLP"
      ]
    },
    {
      "cell_type": "markdown",
      "metadata": {
        "id": "kuHuMAKXLc3D"
      },
      "source": [
        "\n",
        "Ref: https://towardsdatascience.com/bert-explained-state-of-the-art-language-model-for-nlp-f8b21a9b6270\n",
        "\n",
        "Ref : https://www.kaggle.com/xhlulu/disaster-nlp-keras-bert-using-tfhub\n",
        "\n",
        "Ref : http://jalammar.github.io/a-visual-guide-to-using-bert-for-the-first-time/\n",
        "\n",
        "Ref : https://tfhub.dev/tensorflow/bert_en_uncased_L-24_H-1024_A-16/2"
      ]
    },
    {
      "cell_type": "markdown",
      "metadata": {
        "id": "ZLN8h7qqQStF"
      },
      "source": [
        "##Setting up BERT"
      ]
    },
    {
      "cell_type": "markdown",
      "metadata": {
        "id": "UV5mrNzE592k"
      },
      "source": [
        "\n",
        "Bidirectional Encoder Representations from Transformers (BERT) is a technique for NLP (Natural Language Processing) pre-training developed by Google. \n",
        "A pre-trained BERT model can be fine-tuned with just one additional output layer to create good models."
      ]
    },
    {
      "cell_type": "code",
      "metadata": {
        "id": "AO0ZDXEdPKyy"
      },
      "source": [
        "##Importing Librarires \n",
        "\n",
        "import numpy as np\n",
        "import pandas as pd\n",
        "import tensorflow as tf\n",
        "from tensorflow.keras.layers import Dense, Input\n",
        "from tensorflow.keras.optimizers import Adam\n",
        "from tensorflow.keras.models import Model\n",
        "from tensorflow.keras.callbacks import ModelCheckpoint\n",
        "import tensorflow_hub as hub\n",
        "from tensorflow import keras"
      ],
      "execution_count": null,
      "outputs": []
    },
    {
      "cell_type": "code",
      "metadata": {
        "id": "wel6Ae2wLhQ8"
      },
      "source": [
        "# The official tokenization script created by the Google team\n",
        "!wget --quiet https://raw.githubusercontent.com/tensorflow/models/master/official/nlp/bert/tokenization.py"
      ],
      "execution_count": null,
      "outputs": []
    },
    {
      "cell_type": "code",
      "metadata": {
        "colab": {
          "base_uri": "https://localhost:8080/"
        },
        "id": "jn2Gc8STPlUF",
        "outputId": "70cb9e86-d1f5-405b-d31c-72a25324c7ef"
      },
      "source": [
        "!pip install transformers"
      ],
      "execution_count": null,
      "outputs": [
        {
          "output_type": "stream",
          "text": [
            "Collecting transformers\n",
            "\u001b[?25l  Downloading https://files.pythonhosted.org/packages/ed/db/98c3ea1a78190dac41c0127a063abf92bd01b4b0b6970a6db1c2f5b66fa0/transformers-4.0.1-py3-none-any.whl (1.4MB)\n",
            "\u001b[K     |████████████████████████████████| 1.4MB 12.7MB/s \n",
            "\u001b[?25hRequirement already satisfied: numpy in /usr/local/lib/python3.6/dist-packages (from transformers) (1.18.5)\n",
            "Requirement already satisfied: packaging in /usr/local/lib/python3.6/dist-packages (from transformers) (20.7)\n",
            "Requirement already satisfied: filelock in /usr/local/lib/python3.6/dist-packages (from transformers) (3.0.12)\n",
            "Requirement already satisfied: dataclasses; python_version < \"3.7\" in /usr/local/lib/python3.6/dist-packages (from transformers) (0.8)\n",
            "Requirement already satisfied: requests in /usr/local/lib/python3.6/dist-packages (from transformers) (2.23.0)\n",
            "Requirement already satisfied: tqdm>=4.27 in /usr/local/lib/python3.6/dist-packages (from transformers) (4.41.1)\n",
            "Requirement already satisfied: regex!=2019.12.17 in /usr/local/lib/python3.6/dist-packages (from transformers) (2019.12.20)\n",
            "Collecting tokenizers==0.9.4\n",
            "\u001b[?25l  Downloading https://files.pythonhosted.org/packages/0f/1c/e789a8b12e28be5bc1ce2156cf87cb522b379be9cadc7ad8091a4cc107c4/tokenizers-0.9.4-cp36-cp36m-manylinux2010_x86_64.whl (2.9MB)\n",
            "\u001b[K     |████████████████████████████████| 2.9MB 63.6MB/s \n",
            "\u001b[?25hCollecting sacremoses\n",
            "\u001b[?25l  Downloading https://files.pythonhosted.org/packages/7d/34/09d19aff26edcc8eb2a01bed8e98f13a1537005d31e95233fd48216eed10/sacremoses-0.0.43.tar.gz (883kB)\n",
            "\u001b[K     |████████████████████████████████| 890kB 59.6MB/s \n",
            "\u001b[?25hRequirement already satisfied: pyparsing>=2.0.2 in /usr/local/lib/python3.6/dist-packages (from packaging->transformers) (2.4.7)\n",
            "Requirement already satisfied: certifi>=2017.4.17 in /usr/local/lib/python3.6/dist-packages (from requests->transformers) (2020.12.5)\n",
            "Requirement already satisfied: chardet<4,>=3.0.2 in /usr/local/lib/python3.6/dist-packages (from requests->transformers) (3.0.4)\n",
            "Requirement already satisfied: idna<3,>=2.5 in /usr/local/lib/python3.6/dist-packages (from requests->transformers) (2.10)\n",
            "Requirement already satisfied: urllib3!=1.25.0,!=1.25.1,<1.26,>=1.21.1 in /usr/local/lib/python3.6/dist-packages (from requests->transformers) (1.24.3)\n",
            "Requirement already satisfied: six in /usr/local/lib/python3.6/dist-packages (from sacremoses->transformers) (1.15.0)\n",
            "Requirement already satisfied: click in /usr/local/lib/python3.6/dist-packages (from sacremoses->transformers) (7.1.2)\n",
            "Requirement already satisfied: joblib in /usr/local/lib/python3.6/dist-packages (from sacremoses->transformers) (0.17.0)\n",
            "Building wheels for collected packages: sacremoses\n",
            "  Building wheel for sacremoses (setup.py) ... \u001b[?25l\u001b[?25hdone\n",
            "  Created wheel for sacremoses: filename=sacremoses-0.0.43-cp36-none-any.whl size=893261 sha256=1a7cab32915797dd837c247d6cf0c8addebae6a2fc62df0e468dfe2bfbfc1ea0\n",
            "  Stored in directory: /root/.cache/pip/wheels/29/3c/fd/7ce5c3f0666dab31a50123635e6fb5e19ceb42ce38d4e58f45\n",
            "Successfully built sacremoses\n",
            "Installing collected packages: tokenizers, sacremoses, transformers\n",
            "Successfully installed sacremoses-0.0.43 tokenizers-0.9.4 transformers-4.0.1\n"
          ],
          "name": "stdout"
        }
      ]
    },
    {
      "cell_type": "code",
      "metadata": {
        "colab": {
          "base_uri": "https://localhost:8080/"
        },
        "id": "E41A62mcWDGv",
        "outputId": "0b940538-c1a2-4ed9-ffa0-1f9a7a7060d4"
      },
      "source": [
        "!pip install -q -U tf-hub-nightly\n",
        "!pip install -q tfds-nightly"
      ],
      "execution_count": null,
      "outputs": [
        {
          "output_type": "stream",
          "text": [
            "\u001b[K     |████████████████████████████████| 112kB 13.9MB/s \n",
            "\u001b[K     |████████████████████████████████| 3.7MB 14.1MB/s \n",
            "\u001b[?25h"
          ],
          "name": "stdout"
        }
      ]
    },
    {
      "cell_type": "markdown",
      "metadata": {
        "id": "Xcp7dRMbLT_C"
      },
      "source": [
        "##Model 4 - Using BERT \n",
        "Bidirectional Encoder Representations from Transformers"
      ]
    },
    {
      "cell_type": "code",
      "metadata": {
        "id": "M8JDVit9QHO4"
      },
      "source": [
        "#Ref Source for bert_encode function: https://www.kaggle.com/user123454321/bert-starter-inference\n",
        "def bert_encode(texts, tokenizer, max_len=512):\n",
        "    all_tokens = []\n",
        "    all_masks = []\n",
        "    all_segments = []\n",
        "    \n",
        "    for text in texts:\n",
        "        text = tokenizer.tokenize(text)\n",
        "            \n",
        "        text = text[:max_len-2]\n",
        "        input_sequence = [\"[CLS]\"] + text + [\"[SEP]\"]\n",
        "        pad_len = max_len - len(input_sequence)\n",
        "        \n",
        "        tokens = tokenizer.convert_tokens_to_ids(input_sequence)\n",
        "        tokens += [0] * pad_len\n",
        "        pad_masks = [1] * len(input_sequence) + [0] * pad_len\n",
        "        segment_ids = [0] * max_len\n",
        "        \n",
        "        all_tokens.append(tokens)\n",
        "        all_masks.append(pad_masks)\n",
        "        all_segments.append(segment_ids)\n",
        "    \n",
        "    return np.array(all_tokens), np.array(all_masks), np.array(all_segments)"
      ],
      "execution_count": null,
      "outputs": []
    },
    {
      "cell_type": "markdown",
      "metadata": {
        "id": "1EwEXkwlxxkb"
      },
      "source": [
        "The BERT tokenizer does a pretty good preprocessing job by itself, \n",
        "therefore the input text is tokenized directly without any previous cleaning/preprocessing."
      ]
    },
    {
      "cell_type": "code",
      "metadata": {
        "id": "YeclY6-0bHYN"
      },
      "source": [
        "train_df_master = pd.read_csv(\"/content/gdrive/My Drive/Colab Notebooks/Kaggle/IMDB Dataset.csv\")"
      ],
      "execution_count": null,
      "outputs": []
    },
    {
      "cell_type": "code",
      "metadata": {
        "colab": {
          "base_uri": "https://localhost:8080/",
          "height": 402
        },
        "id": "1oVAR1i58F4O",
        "outputId": "adf2b614-bae0-45d3-d239-69c4507f4496"
      },
      "source": [
        "train_df_master[5000:]"
      ],
      "execution_count": null,
      "outputs": [
        {
          "output_type": "execute_result",
          "data": {
            "text/html": [
              "<div>\n",
              "<style scoped>\n",
              "    .dataframe tbody tr th:only-of-type {\n",
              "        vertical-align: middle;\n",
              "    }\n",
              "\n",
              "    .dataframe tbody tr th {\n",
              "        vertical-align: top;\n",
              "    }\n",
              "\n",
              "    .dataframe thead th {\n",
              "        text-align: right;\n",
              "    }\n",
              "</style>\n",
              "<table border=\"1\" class=\"dataframe\">\n",
              "  <thead>\n",
              "    <tr style=\"text-align: right;\">\n",
              "      <th></th>\n",
              "      <th>review</th>\n",
              "      <th>sentiment</th>\n",
              "    </tr>\n",
              "  </thead>\n",
              "  <tbody>\n",
              "    <tr>\n",
              "      <th>5000</th>\n",
              "      <td>Not a movie for everyone, but this movie is in...</td>\n",
              "      <td>positive</td>\n",
              "    </tr>\n",
              "    <tr>\n",
              "      <th>5001</th>\n",
              "      <td>This film is not your typical Hollywood fare, ...</td>\n",
              "      <td>positive</td>\n",
              "    </tr>\n",
              "    <tr>\n",
              "      <th>5002</th>\n",
              "      <td>RKO Radio Pictures made a real classic in 1947...</td>\n",
              "      <td>positive</td>\n",
              "    </tr>\n",
              "    <tr>\n",
              "      <th>5003</th>\n",
              "      <td>\"Transylvania 6-5000\" is an insignificant but ...</td>\n",
              "      <td>negative</td>\n",
              "    </tr>\n",
              "    <tr>\n",
              "      <th>5004</th>\n",
              "      <td>This is a very good, under-rated action/drama/...</td>\n",
              "      <td>positive</td>\n",
              "    </tr>\n",
              "    <tr>\n",
              "      <th>...</th>\n",
              "      <td>...</td>\n",
              "      <td>...</td>\n",
              "    </tr>\n",
              "    <tr>\n",
              "      <th>49995</th>\n",
              "      <td>I thought this movie did a down right good job...</td>\n",
              "      <td>positive</td>\n",
              "    </tr>\n",
              "    <tr>\n",
              "      <th>49996</th>\n",
              "      <td>Bad plot, bad dialogue, bad acting, idiotic di...</td>\n",
              "      <td>negative</td>\n",
              "    </tr>\n",
              "    <tr>\n",
              "      <th>49997</th>\n",
              "      <td>I am a Catholic taught in parochial elementary...</td>\n",
              "      <td>negative</td>\n",
              "    </tr>\n",
              "    <tr>\n",
              "      <th>49998</th>\n",
              "      <td>I'm going to have to disagree with the previou...</td>\n",
              "      <td>negative</td>\n",
              "    </tr>\n",
              "    <tr>\n",
              "      <th>49999</th>\n",
              "      <td>No one expects the Star Trek movies to be high...</td>\n",
              "      <td>negative</td>\n",
              "    </tr>\n",
              "  </tbody>\n",
              "</table>\n",
              "<p>45000 rows × 2 columns</p>\n",
              "</div>"
            ],
            "text/plain": [
              "                                                  review sentiment\n",
              "5000   Not a movie for everyone, but this movie is in...  positive\n",
              "5001   This film is not your typical Hollywood fare, ...  positive\n",
              "5002   RKO Radio Pictures made a real classic in 1947...  positive\n",
              "5003   \"Transylvania 6-5000\" is an insignificant but ...  negative\n",
              "5004   This is a very good, under-rated action/drama/...  positive\n",
              "...                                                  ...       ...\n",
              "49995  I thought this movie did a down right good job...  positive\n",
              "49996  Bad plot, bad dialogue, bad acting, idiotic di...  negative\n",
              "49997  I am a Catholic taught in parochial elementary...  negative\n",
              "49998  I'm going to have to disagree with the previou...  negative\n",
              "49999  No one expects the Star Trek movies to be high...  negative\n",
              "\n",
              "[45000 rows x 2 columns]"
            ]
          },
          "metadata": {
            "tags": []
          },
          "execution_count": 95
        }
      ]
    },
    {
      "cell_type": "code",
      "metadata": {
        "colab": {
          "base_uri": "https://localhost:8080/"
        },
        "id": "xpOFqtfxrMGN",
        "outputId": "a35c631f-7f44-431c-a03e-8d05623f67b8"
      },
      "source": [
        "labels_id = {'positive':1, 'negative':0 }\n",
        "print(labels_id)"
      ],
      "execution_count": null,
      "outputs": [
        {
          "output_type": "stream",
          "text": [
            "{'positive': 1, 'negative': 0}\n"
          ],
          "name": "stdout"
        }
      ]
    },
    {
      "cell_type": "code",
      "metadata": {
        "id": "qUrfjEharVNA"
      },
      "source": [
        "train_df_master['sentiment'].replace(labels_id,inplace=True)"
      ],
      "execution_count": null,
      "outputs": []
    },
    {
      "cell_type": "code",
      "metadata": {
        "id": "h4AxMeTN7mQj"
      },
      "source": [
        "train= train_df_master[:35000]\n",
        "test=train_df_master[35000:]"
      ],
      "execution_count": null,
      "outputs": []
    },
    {
      "cell_type": "code",
      "metadata": {
        "colab": {
          "base_uri": "https://localhost:8080/"
        },
        "id": "bG95sKKZQ3Of",
        "outputId": "c942e185-2842-46df-e4b1-9181a9525ea0"
      },
      "source": [
        "print(train.shape)\n",
        "print(test.shape)"
      ],
      "execution_count": null,
      "outputs": [
        {
          "output_type": "stream",
          "text": [
            "(35000, 2)\n",
            "(15000, 2)\n"
          ],
          "name": "stdout"
        }
      ]
    },
    {
      "cell_type": "code",
      "metadata": {
        "id": "uUZyzYbuVfvB"
      },
      "source": [
        "module_url = \"https://tfhub.dev/tensorflow/bert_en_uncased_L-24_H-1024_A-16/2\"\n",
        "#module_url =\"https://tfhub.dev/tensorflow/bert_en_uncased_L-24_H-1024_A-16/1\"\n",
        "bert_layer = hub.KerasLayer(module_url, trainable=True)"
      ],
      "execution_count": null,
      "outputs": []
    },
    {
      "cell_type": "code",
      "metadata": {
        "id": "Z45Ai2O3Rppk"
      },
      "source": [
        "#Load tokenizer from the bert layer\n",
        "vocab_file = bert_layer.resolved_object.vocab_file.asset_path.numpy()\n",
        "do_lower_case = bert_layer.resolved_object.do_lower_case.numpy()\n",
        "tokenizer = tokenization.FullTokenizer(vocab_file, do_lower_case)"
      ],
      "execution_count": null,
      "outputs": []
    },
    {
      "cell_type": "code",
      "metadata": {
        "id": "YGv66sgwaiZU"
      },
      "source": [
        "train_input = bert_encode(train.review.values, tokenizer, max_len=160)\n",
        "test_input = bert_encode(test.review.values, tokenizer, max_len=160)\n",
        "train_labels = train.sentiment.values\n",
        "test_labels = test.sentiment.values"
      ],
      "execution_count": null,
      "outputs": []
    },
    {
      "cell_type": "code",
      "metadata": {
        "id": "ePxlB85wT9Sr"
      },
      "source": [
        "#Ref : https://www.kaggle.com/xhlulu/disaster-nlp-keras-bert-using-tfhub\n",
        "#Ref : https://tfhub.dev/tensorflow/bert_en_uncased_L-24_H-1024_A-16/2\n",
        "\n",
        "max_len=160\n",
        "input_word_ids = Input(shape=(max_len,), dtype=tf.int32, name=\"input_word_ids\")\n",
        "input_mask = Input(shape=(max_len,), dtype=tf.int32, name=\"input_mask\")\n",
        "segment_ids = Input(shape=(max_len,), dtype=tf.int32, name=\"segment_ids\")\n",
        "\n",
        "_, sequence_output = bert_layer([input_word_ids, input_mask, segment_ids])\n",
        "clf_output = sequence_output[:, 0, :]\n",
        "out = Dense(1, activation='sigmoid')(clf_output)\n",
        "    \n",
        "model = Model([input_word_ids, input_mask, segment_ids], out)\n",
        "model.compile(Adam(lr=1e-5), loss='binary_crossentropy', metrics=['accuracy'])"
      ],
      "execution_count": null,
      "outputs": []
    },
    {
      "cell_type": "markdown",
      "metadata": {
        "id": "vv2Q3x5Mx5XJ"
      },
      "source": [
        "The model configuration did not use any Dense layer. Simply added a sigmoid output directly to the last layer of BERT."
      ]
    },
    {
      "cell_type": "code",
      "metadata": {
        "colab": {
          "base_uri": "https://localhost:8080/"
        },
        "id": "87xTok93b7Ac",
        "outputId": "fb3169ba-77c3-48fd-af70-596047c7d3b4"
      },
      "source": [
        "model.summary()"
      ],
      "execution_count": null,
      "outputs": [
        {
          "output_type": "stream",
          "text": [
            "Model: \"functional_1\"\n",
            "__________________________________________________________________________________________________\n",
            "Layer (type)                    Output Shape         Param #     Connected to                     \n",
            "==================================================================================================\n",
            "input_word_ids (InputLayer)     [(None, 160)]        0                                            \n",
            "__________________________________________________________________________________________________\n",
            "input_mask (InputLayer)         [(None, 160)]        0                                            \n",
            "__________________________________________________________________________________________________\n",
            "segment_ids (InputLayer)        [(None, 160)]        0                                            \n",
            "__________________________________________________________________________________________________\n",
            "keras_layer (KerasLayer)        [(None, 1024), (None 335141889   input_word_ids[0][0]             \n",
            "                                                                 input_mask[0][0]                 \n",
            "                                                                 segment_ids[0][0]                \n",
            "__________________________________________________________________________________________________\n",
            "tf_op_layer_strided_slice (Tens [(None, 1024)]       0           keras_layer[0][1]                \n",
            "__________________________________________________________________________________________________\n",
            "dense (Dense)                   (None, 1)            1025        tf_op_layer_strided_slice[0][0]  \n",
            "==================================================================================================\n",
            "Total params: 335,142,914\n",
            "Trainable params: 335,142,913\n",
            "Non-trainable params: 1\n",
            "__________________________________________________________________________________________________\n"
          ],
          "name": "stdout"
        }
      ]
    },
    {
      "cell_type": "code",
      "metadata": {
        "colab": {
          "base_uri": "https://localhost:8080/"
        },
        "id": "-K38W9pnRhl8",
        "outputId": "44e0c468-4821-4c0a-b2bb-0dd178bce44e"
      },
      "source": [
        "checkpoint = ModelCheckpoint('bert_model_23.h5', monitor='val_loss', save_best_only=True)\n",
        "\n",
        "train_history = model.fit(\n",
        "    train_input, train_labels,\n",
        "    validation_split=0.2,\n",
        "    epochs=2,\n",
        "    callbacks=[checkpoint],\n",
        "    batch_size=2\n",
        ")"
      ],
      "execution_count": null,
      "outputs": [
        {
          "output_type": "stream",
          "text": [
            "Epoch 1/2\n",
            "14000/14000 [==============================] - ETA: 0s - loss: 0.2793 - accuracy: 0.8867WARNING:tensorflow:Callbacks method `on_test_batch_end` is slow compared to the batch time (batch time: 0.0128s vs `on_test_batch_end` time: 0.0347s). Check your callbacks.\n",
            "14000/14000 [==============================] - 2549s 182ms/step - loss: 0.2793 - accuracy: 0.8867 - val_loss: 0.2526 - val_accuracy: 0.8903\n",
            "Epoch 2/2\n",
            "14000/14000 [==============================] - 2551s 182ms/step - loss: 0.1526 - accuracy: 0.9438 - val_loss: 0.2316 - val_accuracy: 0.9099\n"
          ],
          "name": "stdout"
        }
      ]
    },
    {
      "cell_type": "code",
      "metadata": {
        "colab": {
          "base_uri": "https://localhost:8080/",
          "height": 106
        },
        "id": "EDwA-deKg8eA",
        "outputId": "7fff02c3-ee2b-4780-fd22-dde161808dbe"
      },
      "source": [
        "import pandas as pd\n",
        "\n",
        "hist = pd.DataFrame(train_history.history)\n",
        "hist['epoch'] = train_history.epoch\n",
        "hist.tail(15)"
      ],
      "execution_count": null,
      "outputs": [
        {
          "output_type": "execute_result",
          "data": {
            "text/html": [
              "<div>\n",
              "<style scoped>\n",
              "    .dataframe tbody tr th:only-of-type {\n",
              "        vertical-align: middle;\n",
              "    }\n",
              "\n",
              "    .dataframe tbody tr th {\n",
              "        vertical-align: top;\n",
              "    }\n",
              "\n",
              "    .dataframe thead th {\n",
              "        text-align: right;\n",
              "    }\n",
              "</style>\n",
              "<table border=\"1\" class=\"dataframe\">\n",
              "  <thead>\n",
              "    <tr style=\"text-align: right;\">\n",
              "      <th></th>\n",
              "      <th>loss</th>\n",
              "      <th>accuracy</th>\n",
              "      <th>val_loss</th>\n",
              "      <th>val_accuracy</th>\n",
              "      <th>epoch</th>\n",
              "    </tr>\n",
              "  </thead>\n",
              "  <tbody>\n",
              "    <tr>\n",
              "      <th>0</th>\n",
              "      <td>0.279306</td>\n",
              "      <td>0.886679</td>\n",
              "      <td>0.252583</td>\n",
              "      <td>0.890286</td>\n",
              "      <td>0</td>\n",
              "    </tr>\n",
              "    <tr>\n",
              "      <th>1</th>\n",
              "      <td>0.152566</td>\n",
              "      <td>0.943750</td>\n",
              "      <td>0.231648</td>\n",
              "      <td>0.909857</td>\n",
              "      <td>1</td>\n",
              "    </tr>\n",
              "  </tbody>\n",
              "</table>\n",
              "</div>"
            ],
            "text/plain": [
              "       loss  accuracy  val_loss  val_accuracy  epoch\n",
              "0  0.279306  0.886679  0.252583      0.890286      0\n",
              "1  0.152566  0.943750  0.231648      0.909857      1"
            ]
          },
          "metadata": {
            "tags": []
          },
          "execution_count": 22
        }
      ]
    },
    {
      "cell_type": "code",
      "metadata": {
        "colab": {
          "base_uri": "https://localhost:8080/"
        },
        "id": "NrWSj8_5MtZr",
        "outputId": "e4898595-8c8c-4108-cafa-f7550c59c522"
      },
      "source": [
        "# test data for test_accuracy\n",
        "loss, accuracy = model.evaluate(train_input, train_labels, verbose=False)\n",
        "print(\"Training Accuracy: {:.4f}\".format(accuracy*100))\n",
        "\n",
        "val_loss, val_accuracy = model.evaluate(test_input, test_labels, verbose=False)\n",
        "print(\"Testing Accuracy:  {:.4f}\".format(val_accuracy*100))"
      ],
      "execution_count": null,
      "outputs": [
        {
          "output_type": "stream",
          "text": [
            "Training Accuracy: 97.1686\n",
            "Testing Accuracy:  91.0200\n"
          ],
          "name": "stdout"
        }
      ]
    },
    {
      "cell_type": "code",
      "metadata": {
        "id": "czAZOQsbSx2s"
      },
      "source": [
        "test_pred = model.predict(test_input)\n",
        "test_pred_BERT_int= test_pred.round().astype('int')"
      ],
      "execution_count": null,
      "outputs": []
    },
    {
      "cell_type": "markdown",
      "metadata": {
        "id": "dTO_2LZIQI1m"
      },
      "source": [
        "###Classification Report"
      ]
    },
    {
      "cell_type": "code",
      "metadata": {
        "colab": {
          "base_uri": "https://localhost:8080/"
        },
        "id": "lrrRGExz9cMh",
        "outputId": "841e9006-50a4-4d2b-a336-8abfdf3b9b13"
      },
      "source": [
        "from sklearn.metrics import classification_report\n",
        "\n",
        "print(classification_report(test_labels, test_pred_BERT_int))"
      ],
      "execution_count": null,
      "outputs": [
        {
          "output_type": "stream",
          "text": [
            "              precision    recall  f1-score   support\n",
            "\n",
            "           0       0.90      0.92      0.91      7490\n",
            "           1       0.92      0.90      0.91      7510\n",
            "\n",
            "    accuracy                           0.91     15000\n",
            "   macro avg       0.91      0.91      0.91     15000\n",
            "weighted avg       0.91      0.91      0.91     15000\n",
            "\n"
          ],
          "name": "stdout"
        }
      ]
    },
    {
      "cell_type": "code",
      "metadata": {
        "id": "HPCzlifXMtZu"
      },
      "source": [
        "y_test = test_labels\n",
        "y_score = test_pred"
      ],
      "execution_count": null,
      "outputs": []
    },
    {
      "cell_type": "markdown",
      "metadata": {
        "id": "_A8022y7QNhE"
      },
      "source": [
        "###ROC Curve"
      ]
    },
    {
      "cell_type": "code",
      "metadata": {
        "colab": {
          "base_uri": "https://localhost:8080/",
          "height": 312
        },
        "id": "HVj_JyO5MtZv",
        "outputId": "1b1a7cae-f2dc-409a-8a04-3f7ef30d3604"
      },
      "source": [
        "from sklearn.metrics import roc_curve, auc\n",
        "fpr, tpr, thresholds = roc_curve(y_test,y_score)\n",
        "roc_auc = auc(fpr, tpr)\n",
        "fig=plt.figure(figsize=(12, 8))\n",
        "plt.figure()\n",
        "plt.plot(fpr, tpr, color= 'navy', lw=2, label='ROC curve (area = %0.2f)' % roc_auc)\n",
        "plt.plot([0, 1], [0, 1], color= 'red', lw=2, linestyle='--')\n",
        "plt.xlim([0.0, 1.0])\n",
        "plt.ylim([0.0, 1.05])\n",
        "plt.xlabel('False Positive Rate')\n",
        "plt.ylabel('True Positive Rate')\n",
        "plt.grid(True)\n",
        "plt.title('ROC curve for BERT')\n",
        "plt.legend(loc=\"lower right\")\n",
        "plt.show()\n",
        "#fig.savefig('ROC_BERT.pdf')"
      ],
      "execution_count": null,
      "outputs": [
        {
          "output_type": "display_data",
          "data": {
            "text/plain": [
              "<Figure size 864x576 with 0 Axes>"
            ]
          },
          "metadata": {
            "tags": []
          }
        },
        {
          "output_type": "display_data",
          "data": {
            "image/png": "[encoded data removed]",
            "text/plain": [
              "<Figure size 432x288 with 1 Axes>"
            ]
          },
          "metadata": {
            "tags": [],
            "needs_background": "light"
          }
        }
      ]
    },
    {
      "cell_type": "markdown",
      "metadata": {
        "id": "GhG4vdD2QRa4"
      },
      "source": [
        "###Confusion Matrix"
      ]
    },
    {
      "cell_type": "code",
      "metadata": {
        "colab": {
          "base_uri": "https://localhost:8080/",
          "height": 350
        },
        "id": "FmL4FFW9VK-F",
        "outputId": "2559649a-8a33-4f72-a3b7-1385be6bff60"
      },
      "source": [
        "from sklearn.metrics import accuracy_score, confusion_matrix, precision_recall_fscore_support\n",
        "y_score_round = y_score.round().astype('int')\n",
        "# Creates a confusion matrix\n",
        "cm = confusion_matrix(y_test,y_score_round) \n",
        "\n",
        "# Transform to df for easier plotting\n",
        "cm_df = pd.DataFrame(cm,\n",
        "                     index = ['Postive','Negative'], \n",
        "                     columns = ['Postive','Negative'])\n",
        "\n",
        "fig = plt.figure(figsize=(6,5))\n",
        "sns.heatmap(cm_df, annot=True,fmt='g')\n",
        "plt.title('Confusion Matrix for BERT Model')\n",
        "plt.ylabel('True label')\n",
        "plt.xlabel('Predicted label')\n",
        "plt.show()\n",
        "#fig.savefig('ConfusionMatrix_BERT.pdf')"
      ],
      "execution_count": null,
      "outputs": [
        {
          "output_type": "display_data",
          "data": {
            "image/png": "[encoded data removed]",
            "text/plain": [
              "<Figure size 432x360 with 2 Axes>"
            ]
          },
          "metadata": {
            "tags": [],
            "needs_background": "light"
          }
        }
      ]
    },
    {
      "cell_type": "code",
      "metadata": {
        "id": "VVuSsBkds8UA"
      },
      "source": [
        "model.save('BERT_sentiment.h5')"
      ],
      "execution_count": null,
      "outputs": []
    },
    {
      "cell_type": "markdown",
      "metadata": {
        "id": "EX0Ys9Ic_Tcv"
      },
      "source": [
        "#Key References\n",
        "\n",
        "\n",
        "\n",
        "Ref : https://machinelearningmastery.com/gentle-introduction-bag-words-model/\n",
        "\n",
        "Ref : https://towardsdatascience.com/stemming-vs-lemmatization-2daddabcb221\n",
        "\n",
        "Ref : https://towardsdatascience.com/a-simple-explanation-of-the-bag-of-words-model-b88fc4f4971\n",
        "\n",
        "Ref : https://nlp.stanford.edu/projects/glove/\n",
        "\n",
        "Ref: https://medium.com/analytics-vidhyaword-vectorization-using-glove-76919685ee0b\n",
        "\n",
        "Ref : https://www.kaggle.com/shahules/basic-eda-cleaning-and-glove\n",
        "\n",
        "Ref : https://stackoverflow.com/questions/43035827/whats-the-difference-between-a-bidirectional-lstm-and-an-lstm\n",
        "\n",
        "Ref: https://towardsdatascience.com/bert-explained-state-of-the-art-language-model-for-nlp-f8b21a9b6270\n",
        "\n",
        "Ref : https://www.kaggle.com/xhlulu/disaster-nlp-keras-bert-using-tfhub\n",
        "\n",
        "Ref : http://jalammar.github.io/a-visual-guide-to-using-bert-for-the-first-time/\n",
        "\n",
        "Ref : https://tfhub.dev/tensorflow/bert_en_uncased_L-24_H-1024_A-16/2\n",
        "\n",
        "Ref:https://www.kaggle.com/user123454321/bert-starter-inference"
      ]
    }
  ]
}